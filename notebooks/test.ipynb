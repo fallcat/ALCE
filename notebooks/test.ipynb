{
 "cells": [
  {
   "cell_type": "code",
   "execution_count": 1,
   "id": "79b2c01b-e44d-469b-b300-7fb11b96d511",
   "metadata": {
    "tags": []
   },
   "outputs": [
    {
     "name": "stdout",
     "output_type": "stream",
     "text": [
      "/shared_data0/weiqiuy/github/ALCE\n"
     ]
    }
   ],
   "source": [
    "%cd .."
   ]
  },
  {
   "cell_type": "code",
   "execution_count": 87,
   "id": "ddd6bbcd-6d83-4158-85ee-276487aabb49",
   "metadata": {
    "tags": []
   },
   "outputs": [
    {
     "name": "stderr",
     "output_type": "stream",
     "text": [
      "[nltk_data] Downloading package punkt to /home/runai-home/nltk_data...\n",
      "[nltk_data]   Package punkt is already up-to-date!\n"
     ]
    }
   ],
   "source": [
    "import os\n",
    "import openai\n",
    "import json\n",
    "from tqdm import tqdm\n",
    "from sklearn.feature_extraction.text import TfidfVectorizer\n",
    "from sklearn.metrics.pairwise import cosine_similarity\n",
    "from transformers import AutoTokenizer\n",
    "import time\n",
    "import string\n",
    "import numpy as np\n",
    "import torch\n",
    "import re\n",
    "import sys\n",
    "# sys.path.append('..')\n",
    "from searcher import SearcherWithinDocs\n",
    "import yaml\n",
    "from utils import *\n",
    "import nltk\n",
    "nltk.download('punkt')\n",
    "from nltk import sent_tokenize\n",
    "from run import LLM\n",
    "\n",
    "\n",
    "# Define an argparse.ArgumentParser instance within a Jupyter notebook environment.\n",
    "import argparse\n",
    "\n",
    "# Define a function to encapsulate the argparse setup to mimic the script behavior in a notebook.\n",
    "def setup_argparse():\n",
    "    parser = argparse.ArgumentParser(description=\"Setup for an interactive command line interface simulation.\")\n",
    "\n",
    "    # Adding arguments as specified\n",
    "    parser.add_argument(\"--config\", type=str, default=None, help=\"Path to the config file\")\n",
    "    parser.add_argument(\"--prompt_file\", type=str, help=\"Path to the prompt file\")\n",
    "    parser.add_argument(\"--eval_file\", type=str, help=\"Path to the eval file\")\n",
    "    parser.add_argument(\"--quick_test\", type=int, default=None, help=\"Quickly test a few examples\")\n",
    "    parser.add_argument(\"--ndoc\", type=int, help=\"Number of documents\")\n",
    "    parser.add_argument(\"--shot\", type=int, help=\"Number of ICL demonstrations\")\n",
    "    parser.add_argument(\"--seed\", type=int, default=42, help=\"Seed for the random number generator\")\n",
    "    parser.add_argument(\"--no_doc_in_demo\", type=bool, default=False, help=\"Whether to remove the documents in the demos\")\n",
    "    parser.add_argument(\"--fewer_doc_in_demo\", type=bool, default=False, help=\"Whether to use fewer documents in the demos\")\n",
    "    parser.add_argument(\"--ndoc_in_demo\", type=int, default=None, help=\"When using --fewer_doc_in_demo, use this to designate how many docs in demo\")\n",
    "    parser.add_argument(\"--dataset_name\", type=str, help=\"Name of the dataset (for saving)\")\n",
    "    parser.add_argument(\"--tag\", type=str, help=\"Tag of run (for saving)\")\n",
    "    parser.add_argument(\"--model\", type=str, help=\"Model to use\")\n",
    "    parser.add_argument(\"--openai_api\", type=bool, default=False, help=\"Whether to use OpenAI API\")\n",
    "    parser.add_argument(\"--azure\", action=\"store_true\", default=False, help=\"Azure openai API\")\n",
    "    parser.add_argument(\"--temperature\", type=float, default=0.5, help=\"Temperature for decoding\")\n",
    "    parser.add_argument(\"--top_p\", type=float, default=1.0, help=\"Nucleus sampling top-p\")\n",
    "    parser.add_argument(\"--max_new_tokens\", type=int, default=300, help=\"Max number of new tokens to generate in one step\")\n",
    "    parser.add_argument(\"--max_length\", type=int, default=2048, help=\"Max length the model can take. Should set properly wrt the model to avoid position overflow.\")\n",
    "    parser.add_argument(\"--num_samples\", type=int, default=1, help=\"Sample multiple answers.\")\n",
    "    parser.add_argument(\"--use_shorter\", type=str, default=None, help=\"Whether to use summary data or extraction data for documents. Option: None, `summary`, `extraction`\")\n",
    "    parser.add_argument(\"--interactive\", type=bool, default=False, help=\"Whether to run in interactive mode\")\n",
    "    parser.add_argument(\"--interactive_query\", type=str, default=None, help=\"The query to use in interactive mode, either `doc_id` (corresponding to interact in paper) or `search` (corresponding to inlinesearch in paper).\")\n",
    "    parser.add_argument(\"--retriever\", type=str, default=None, help=\"When using interactive search mode, which retriever to use. Options: `tfidf`, `gtr-t5-large`\")\n",
    "    parser.add_argument(\"--retriever_device\", type=str, default=\"cuda\", help=\"Where to put the dense retriever if using. Options: `cuda`, `cpu`\")\n",
    "    parser.add_argument(\"--retrieve_in_all_docs\", type=bool, default=False, help=\"Retrieve in all documents instead of just top ndoc\")\n",
    "    parser.add_argument(\"--max_turn\", type=int, default=10, help=\"Max number of all actions\")\n",
    "    parser.add_argument(\"--max_doc_show\", type=int, default=3, help=\"Max number of documents to show at one time.\")\n",
    "    parser.add_argument(\"--force_cite_show\", type=bool, default=False, help=\"Force citing the documents that are shown to the model\")\n",
    "    parser.add_argument(\"--overwrite\", action=\"store_true\", help=\"Overwrite existing citations for posthoc cite\")\n",
    "    \n",
    "    return parser\n",
    "\n",
    "# Instantiate the parser setup\n",
    "parser = setup_argparse()"
   ]
  },
  {
   "cell_type": "code",
   "execution_count": 3,
   "id": "aa12b594-e157-4ecb-8a54-632f57b15e0d",
   "metadata": {
    "tags": []
   },
   "outputs": [],
   "source": [
    "def make_group_prompt(group, group_id, group_prompt):\n",
    "    # For doc prompt:\n",
    "    # - {ID}: doc id (starting from 1)\n",
    "    # - {T}: title\n",
    "    # - {P}: text\n",
    "    # use_shorter: None, \"summary\", or \"extraction\"\n",
    "\n",
    "    text = group\n",
    "    return group_prompt.replace(\"{P}\", text).replace(\"{ID}\", str(group_id+1))\n",
    "\n",
    "\n",
    "def make_demo_groupgen(item, prompt, ndoc=None, doc_prompt=None, groupgen_instruction=None, \n",
    "                       group_prompt=None, use_shorter=None, \n",
    "              test=False):\n",
    "    # For demo prompt\n",
    "    # - {INST}: the instruction\n",
    "    # - {D}: the documents\n",
    "    # - {Q}: the question\n",
    "    # - {G}: the groups\n",
    "    # ndoc: number of documents to put in context\n",
    "    # use_shorter: None, \"summary\", or \"extraction\"\n",
    "\n",
    "    prompt = prompt.replace(\"{INST}\", groupgen_instruction).replace(\"{Q}\", item['question'])\n",
    "    if \"{D}\" in prompt:\n",
    "        if ndoc == 0:\n",
    "            prompt = prompt.replace(\"{D}\\n\", \"\") # if there is no doc we also delete the empty line\n",
    "        else:\n",
    "            doc_list = get_shorter_text(item, item[\"docs\"], ndoc, use_shorter) if use_shorter is not None else item[\"docs\"][:ndoc]\n",
    "            text = \"\".join([make_doc_prompt(doc, doc_id, doc_prompt, use_shorter=use_shorter) for doc_id, doc in enumerate(doc_list)])\n",
    "            prompt = prompt.replace(\"{D}\", text)\n",
    "            \n",
    "    if \"{G}\" in prompt:\n",
    "        if not test:\n",
    "            group_list = item[\"groups\"]\n",
    "            ngroup = len(item[\"groups\"])\n",
    "            if ngroup == 0:\n",
    "                prompt = prompt.replace(\"{G}\\n\", \"\") # if there is no group we also delete the empty line\n",
    "            else:\n",
    "                text = \"\".join([make_group_prompt(group, group_id, group_prompt) \\\n",
    "                                for group_id, group in enumerate(group_list)])\n",
    "                prompt = prompt.replace(\"{G}\", text)\n",
    "        else:\n",
    "            prompt = prompt.replace(\"{G}\", \"\").rstrip()\n",
    "\n",
    "    return prompt\n",
    "\n",
    "def make_demo_grouppred(item, prompt, grouppred_instruction=None, group_prompt=None, test=False):\n",
    "    # For demo prompt\n",
    "    # - {INST}: the instruction\n",
    "    # - {G}: the groups\n",
    "    # - {Q}: the question\n",
    "    # - {A}: the answers\n",
    "    # ndoc: number of documents to put in context\n",
    "\n",
    "    prompt = prompt.replace(\"{INST}\", grouppred_instruction).replace(\"{Q}\", item['question'])\n",
    "    \n",
    "    if \"{G}\" in prompt:\n",
    "        # prompt = prompt.replace(\"{G}\", item[\"groups_str\"])\n",
    "        group_list = item[\"groups\"]\n",
    "        try:\n",
    "            ngroup = len(item[\"groups\"])\n",
    "            if ngroup == 0:\n",
    "                prompt = prompt.replace(\"{G}\\n\", \"\") # if there is no group we also delete the empty line\n",
    "            else:\n",
    "                text = \"\".join([make_group_prompt(group, group_id, group_prompt) \\\n",
    "                                for group_id, group in enumerate(group_list)])\n",
    "                prompt = prompt.replace(\"{G}\", text)\n",
    "        except:\n",
    "            import pdb; pdb.set_trace()\n",
    "            \n",
    "    if not test:\n",
    "        answer = \"\\n\" + \"\\n\".join(item[\"answer_from_groups\"]) if isinstance(item[\"answer_from_groups\"], list) \\\n",
    "                else item[\"answer_from_groups\"]\n",
    "        prompt = prompt.replace(\"{A}\", \"\").rstrip() + answer\n",
    "    else:\n",
    "        prompt = prompt.replace(\"{A}\", \"\").rstrip() # remove any space or \\n\n",
    "\n",
    "    return prompt"
   ]
  },
  {
   "cell_type": "code",
   "execution_count": 4,
   "id": "fa720bc3-9f6c-41d0-97b8-20641ab8cb02",
   "metadata": {
    "tags": []
   },
   "outputs": [],
   "source": [
    "# retrieval\n",
    "def remove_citations(sent):\n",
    "    return re.sub(r\"\\[\\d+\", \"\", re.sub(r\" \\[\\d+\", \"\", sent)).replace(\" |\", \"\").replace(\"]\", \"\")\n",
    "\n",
    "def find_external_docs_idx(question, external):\n",
    "    # find the index of externaol doc that matches the question\n",
    "    for idx, item in enumerate(external):\n",
    "        if item['question'] == question:\n",
    "            return idx\n",
    "    return None"
   ]
  },
  {
   "cell_type": "code",
   "execution_count": null,
   "id": "f0fe8701-a659-496e-a327-14f28aff1d58",
   "metadata": {},
   "outputs": [],
   "source": [
    "global autoais_model, autoais_tokenizer\n",
    "autoais_model, autoais_tokenizer = None, None"
   ]
  },
  {
   "cell_type": "code",
   "execution_count": 14,
   "id": "f574df09-6868-4b03-aede-2cc42077bc0c",
   "metadata": {
    "tags": []
   },
   "outputs": [],
   "source": [
    "from transformers import (\n",
    "    AutoModelForSeq2SeqLM,\n",
    "    AutoTokenizer,\n",
    "    pipeline\n",
    ")\n",
    "\n",
    "def _run_nli_autoais(passage, claim):\n",
    "    \"\"\"\n",
    "    Run inference for assessing AIS between a premise and hypothesis.\n",
    "    Adapted from https://github.com/google-research-datasets/Attributed-QA/blob/main/evaluation.py\n",
    "    \"\"\"\n",
    "    global autoais_model, autoais_tokenizer\n",
    "    input_text = \"premise: {} hypothesis: {}\".format(passage, claim)\n",
    "    input_ids = autoais_tokenizer(input_text, return_tensors=\"pt\").input_ids.to(autoais_model.device)\n",
    "    with torch.inference_mode():\n",
    "        outputs = autoais_model.generate(input_ids, max_new_tokens=10)\n",
    "    result = autoais_tokenizer.decode(outputs[0], skip_special_tokens=True)\n",
    "    inference = 1 if result == \"1\" else 0\n",
    "    return inference\n",
    "\n",
    "QA_MODEL=\"gaotianyu1350/roberta-large-squad\"\n",
    "AUTOAIS_MODEL=\"google/t5_xxl_true_nli_mixture\"\n",
    "\n",
    "\n",
    "def compute_autoais_single(sent, docs):\n",
    "    \"\"\"\n",
    "    Compute AutoAIS score.\n",
    "\n",
    "    Args:\n",
    "        sent: str, one sentence\n",
    "        docs: list of str, multiple sentences\n",
    "        data: requires field `output` and `docs`\n",
    "              - docs should be a list of items with fields `title` and `text` (or `phrase` and `sent` for QA-extracted docs)\n",
    "        citation: check citations and use the corresponding references.\n",
    "        decontext: decontextualize the output\n",
    "    \"\"\"\n",
    "\n",
    "    global autoais_model, autoais_tokenizer\n",
    "    if autoais_model is None:\n",
    "        logger.info(\"Loading AutoAIS model...\")\n",
    "        autoais_model = AutoModelForSeq2SeqLM.from_pretrained(AUTOAIS_MODEL, torch_dtype=torch.bfloat16, max_memory=get_max_memory(), device_map=\"auto\")\n",
    "        autoais_tokenizer = AutoTokenizer.from_pretrained(AUTOAIS_MODEL, use_fast=False)\n",
    "\n",
    "    logger.info(f\"Running AutoAIS...\")\n",
    "\n",
    "    def _format_document(doc):\n",
    "        \"\"\"Format document for AutoAIS.\"\"\"\n",
    "\n",
    "        if \"sent\" in doc:\n",
    "            # QA-extracted docs\n",
    "            return \"Title: %s\\n%s\" % (doc['title'], doc['sent'])\n",
    "        else:\n",
    "            return \"Title: %s\\n%s\" % (doc['title'], doc['text'])\n",
    "        \n",
    "    sent = remove_citations(sent).strip()\n",
    "    target_sent = sent\n",
    "    joint_passage = '\\n'.join([_format_document(doc) for doc in docs])\n",
    "    joint_entail = _run_nli_autoais(joint_passage, target_sent)\n",
    "    entail = joint_entail\n",
    "    # calculate the precision score if applicable\n",
    "    sent_mcite_support = 0\n",
    "    sent_mcite_overcite = 0\n",
    "    entail_prec = 0\n",
    "    if joint_entail and len(docs) > 1:\n",
    "        sent_mcite_support += 1\n",
    "        # Precision check: did the model cite any unnecessary documents?\n",
    "        for psgs_id in range(len(docs)):\n",
    "            # condition A\n",
    "            passage = _format_document(docs[psgs_id]) \n",
    "            nli_result = _run_nli_autoais(passage, target_sent)\n",
    "\n",
    "            # condition B\n",
    "            if not nli_result:\n",
    "                subset_exclude = docs[:psgs_id] + docs[psgs_id + 1:]\n",
    "                passage = '\\n'.join([_format_document(doc) for doc in subset_exclude])\n",
    "                nli_result = _run_nli_autoais(passage, target_sent)\n",
    "                if nli_result: # psgs_id is not necessary\n",
    "                    flag = 0\n",
    "                    sent_mcite_overcite += 1 \n",
    "                else:\n",
    "                    entail_prec += 1\n",
    "            else:\n",
    "                entail_prec += 1\n",
    "    else:\n",
    "        entail_prec += joint_entail \n",
    "    total_citations = len(docs)\n",
    "    \n",
    "    return {\n",
    "        'entail': entail,\n",
    "        'entail_prec': entail_prec / total_citations\n",
    "    }"
   ]
  },
  {
   "cell_type": "code",
   "execution_count": 86,
   "id": "315aeca7-4745-4df7-abdc-43e6c86c1711",
   "metadata": {
    "tags": []
   },
   "outputs": [],
   "source": [
    "import os\n",
    "import torch\n",
    "import numpy as np\n",
    "import copy\n",
    "# from openai import OpenAI\n",
    "from transformers import AutoModelForCausalLM, AutoTokenizer\n",
    "from collections import namedtuple, defaultdict\n",
    "\n",
    "\n",
    "\n",
    "\n",
    "\n",
    "CompletionOutput = namedtuple(\"CompletionOutput\", [\"output_text\", \"completion_output\"])\n",
    "\n",
    "\n",
    "class SoPrompt():\n",
    "    def __init__(self, \n",
    "                 llm,\n",
    "                 args,\n",
    "                 prompt_data,\n",
    "                 get_groupgen_prompt=None,\n",
    "                 get_grouppred_prompt=None,\n",
    "                 get_prompt=None,\n",
    "                 get_closedbook_prompt=None\n",
    "                ):\n",
    "        \n",
    "        self.llm = llm\n",
    "        self.args = args\n",
    "        self.prompt_data = prompt_data\n",
    "        \n",
    "        if get_groupgen_prompt is None:\n",
    "            def get_groupgen_prompt(eval_item, test=False):\n",
    "                groupgen_prompt = make_demo_groupgen(\n",
    "                    eval_item, prompt=prompt_data[\"groupgen_prompt\"], ndoc=args.ndoc, \n",
    "                    doc_prompt=prompt_data[\"doc_prompt\"],\n",
    "                    groupgen_instruction=prompt_data[\"groupgen_instruction\"], \n",
    "                    group_prompt=prompt_data[\"group_prompt\"],\n",
    "                    test=test\n",
    "                )\n",
    "                return groupgen_prompt\n",
    "        self.get_groupgen_prompt = get_groupgen_prompt\n",
    "        \n",
    "        if get_grouppred_prompt is None:\n",
    "            def get_grouppred_prompt(eval_item, test=False):\n",
    "                grouppred_prompt = make_demo_grouppred(\n",
    "                    eval_item, prompt=prompt_data[\"grouppred_prompt\"], \n",
    "                    grouppred_instruction=prompt_data[\"grouppred_instruction\"], \n",
    "                    group_prompt=prompt_data[\"group_prompt\"],\n",
    "                    test=test\n",
    "                )\n",
    "                return grouppred_prompt\n",
    "        self.get_grouppred_prompt = get_grouppred_prompt\n",
    "        \n",
    "        if get_prompt is None:\n",
    "            def get_prompt(eval_item, test=False):\n",
    "                ndoc = args.ndoc\n",
    "                if args.no_doc_in_demo:\n",
    "                    ndoc = 0\n",
    "                elif args.fewer_doc_in_demo:\n",
    "                    assert args.ndoc_in_demo is not None\n",
    "                    ndoc = args.ndoc_in_demo\n",
    "                prompt = make_demo(\n",
    "                    eval_item, prompt=prompt_data[\"demo_prompt\"], ndoc=ndoc, \n",
    "                    doc_prompt=prompt_data[\"doc_prompt\"], \n",
    "                    instruction=prompt_data[\"instruction\"], use_shorter=args.use_shorter, test=test\n",
    "                )\n",
    "                return prompt\n",
    "        self.get_prompt = get_prompt\n",
    "        \n",
    "        if get_closedbook_prompt is None:\n",
    "            def get_closedbook_prompt(eval_item, test=False):\n",
    "                ndoc = args.ndoc\n",
    "                if args.no_doc_in_demo:\n",
    "                    ndoc = 0\n",
    "                elif args.fewer_doc_in_demo:\n",
    "                    assert args.ndoc_in_demo is not None\n",
    "                    ndoc = args.ndoc_in_demo\n",
    "                prompt = make_demo(\n",
    "                    eval_item, prompt=prompt_data[\"closedbook_prompt\"], ndoc=0, \n",
    "                    doc_prompt=prompt_data[\"doc_prompt\"], \n",
    "                    instruction=prompt_data[\"instruction\"], use_shorter=args.use_shorter, test=test\n",
    "                )\n",
    "                return prompt\n",
    "        self.get_closedbook_prompt = get_closedbook_prompt\n",
    "        \n",
    "        # Load retrieval model\n",
    "        if \"gtr\" in args.retriever:\n",
    "            from sentence_transformers import SentenceTransformer\n",
    "            self.gtr_model = SentenceTransformer(f'sentence-transformers/{args.retriever}', \n",
    "                                            device=args.retriever_device)\n",
    "        else:\n",
    "            self.gtr_model = None\n",
    "        \n",
    "        self.init_head_prompts()\n",
    "        \n",
    "    def init_head_prompts(self):\n",
    "        # Generate the demonstration part\n",
    "        head_prompt = \"\"\n",
    "        head_groupgen_prompt = \"\"\n",
    "        head_grouppred_prompt = \"\"\n",
    "        head_closedbook_prompt = \"\"\n",
    "        train_ids = np.random.choice(len(self.prompt_data[\"demos\"]), self.args.shot, replace=False)\n",
    "        for train_id in train_ids:\n",
    "            train_item = self.prompt_data[\"demos\"][train_id]\n",
    "            ndoc = self.args.ndoc\n",
    "            if self.args.no_doc_in_demo:\n",
    "                ndoc = 0\n",
    "            elif self.args.fewer_doc_in_demo:\n",
    "                assert self.args.ndoc_in_demo is not None\n",
    "                ndoc = self.args.ndoc_in_demo\n",
    "            head_prompt += self.get_prompt(train_item)\n",
    "            head_groupgen_prompt += self.get_groupgen_prompt(train_item)\n",
    "            head_grouppred_prompt += self.get_grouppred_prompt(train_item)\n",
    "            head_closedbook_prompt += self.get_closedbook_prompt(train_item)\n",
    "            head_prompt += self.prompt_data[\"demo_sep\"]\n",
    "            head_groupgen_prompt += self.prompt_data[\"demo_sep\"]\n",
    "            head_grouppred_prompt += self.prompt_data[\"demo_sep\"]\n",
    "            head_closedbook_prompt += self.prompt_data[\"demo_sep\"]\n",
    "        self.head_prompt = head_prompt\n",
    "        self.head_groupgen_prompt = head_groupgen_prompt\n",
    "        self.head_grouppred_prompt = head_grouppred_prompt\n",
    "        self.head_closedbook_prompt = head_closedbook_prompt\n",
    "    \n",
    "    def init_model(self):\n",
    "        raise NotImplementedError\n",
    "        \n",
    "    def get_completion(self):\n",
    "        raise NotImplementedError\n",
    "    \n",
    "    def generate(self, data, mode='groupgen_pred', return_dict=False, external=None):\n",
    "        assert mode in ['vanilla', 'groupgen_pred', 'closedbook', 'closedbook_phc',\n",
    "                        'closedbook_phc_repred']\n",
    "        data = copy.deepcopy(data)\n",
    "        \n",
    "        if mode == 'groupgen_pred':\n",
    "            data = self.groupgen_pred(data)\n",
    "            generation = data['generation']\n",
    "            if return_dict:\n",
    "                return data\n",
    "        elif mode == 'closedbook':\n",
    "            generation = self.closedbook_predict(data)['generation']\n",
    "        elif mode == 'closedbook_phc':\n",
    "            closedbook_output = self.closedbook_predict(data)\n",
    "            results = self.add_posthoc_cite(closedbook_output['generation'], \n",
    "                                               data['question'],\n",
    "                                               external)\n",
    "            if return_dict:\n",
    "                data.update(results)\n",
    "                return data\n",
    "            generation = results['postcite_generation']\n",
    "        elif mode == 'closedbook_phc_repred':\n",
    "            closedbook_output = self.closedbook_predict(data)\n",
    "            results = self.add_posthoc_cite(closedbook_output['generation'], \n",
    "                                               data['question'],\n",
    "                                               external)\n",
    "            # import pdb; pdb.set_trace()\n",
    "            sents = results['sents']\n",
    "            docs = results['best_docs']\n",
    "            ais_results = defaultdict(list)\n",
    "            docs_entail = []\n",
    "            for sent, doc in zip(sents, docs):\n",
    "                ais_results_single = compute_autoais_single(sent, [doc])\n",
    "                # import pdb; pdb.set_trace()\n",
    "                ais_results['entail'].append(ais_results_single['entail'])\n",
    "                ais_results['entail_prec'].append(ais_results_single['entail_prec'])\n",
    "                if ais_results_single['entail'] > 0:\n",
    "                    docs_entail.append(doc)\n",
    "            data['original_docs'] = copy.deepcopy(data['docs'])\n",
    "            data['posthoc_docs'] = copy.deepcopy(docs_entail)\n",
    "            new_docs = docs_entail\n",
    "            for doc in data['docs']:\n",
    "                if doc['text'] not in [doc_['text'] for doc_ in new_docs]:\n",
    "                    new_docs.append(doc)\n",
    "            data['docs'] = new_docs # First put the docs that are retrieved. #docs_entail + data['docs']\n",
    "            data['entail'] = ais_results['entail']\n",
    "            data['entail_prec'] = ais_results['entail_prec']\n",
    "            \n",
    "            data = self.groupgen_pred(data)\n",
    "            generation = data['generation']\n",
    "            if return_dict:\n",
    "                data.update(results)\n",
    "                return data\n",
    "        else: # vanilla\n",
    "            results = self.backbone_predict(data)\n",
    "            if return_dict:\n",
    "                data.update(results)\n",
    "                return data\n",
    "            generation = results['generation']\n",
    "        return generation\n",
    "    \n",
    "    def groupgen_pred(self, data):\n",
    "        groupgen_output = self.group_gen(data)\n",
    "        groups = groupgen_output['groups']\n",
    "        groups_str = groupgen_output['generation']\n",
    "        groupgen_prompt = groupgen_output['prompt']\n",
    "        groupgen_prompt_len = groupgen_output['prompt_len']\n",
    "        data['groups'] = groups\n",
    "        data['groups_str'] = groups_str\n",
    "        data['groupgen_prompt'] = groupgen_prompt\n",
    "        data['groupgen_prompt_len'] = groupgen_prompt_len\n",
    "        grouppred_output = self.group_predict(data)\n",
    "        generation = grouppred_output['generation']\n",
    "        grouppred_prompt = grouppred_output['prompt']\n",
    "        grouppred_prompt_len = grouppred_output['prompt_len']\n",
    "        data['generation'] = generation\n",
    "        data['grouppred_prompt'] = grouppred_prompt\n",
    "        data['grouppred_prompt_len'] = grouppred_prompt_len\n",
    "        return data\n",
    "    \n",
    "    def add_posthoc_cite(self, prev_generation, question, external):\n",
    "        external_idx = find_external_docs_idx(question, external)\n",
    "        doc_list = external[external_idx]['docs']\n",
    "        searcher = SearcherWithinDocs(doc_list, self.args.retriever, \n",
    "                                      model=gtr_model, \n",
    "                                      device=self.args.retriever_device)\n",
    "        output = prev_generation.strip().split(\"\\n\")[0] # Remove new lines and content after\n",
    "        output = prev_generation.replace(\"<|im_end|>\", \"\")\n",
    "        if \"qampari\" in self.args.dataset_name:\n",
    "            sents = [question + ' ' + x.strip() \n",
    "                     for x in prev_generation.rstrip(\".\").split(\",\")]\n",
    "        else:\n",
    "            sents = sent_tokenize(output)\n",
    "\n",
    "        new_output = \"\"\n",
    "        best_doc_ids = []\n",
    "        for sent in sents:\n",
    "            original_ref = [int(r[1:])-1 for r in re.findall(r\"\\[\\d+\", sent)] \n",
    "\n",
    "            if len(original_ref) == 0 or self.args.overwrite:\n",
    "                sent = remove_citations(sent)\n",
    "                best_doc_id = searcher.search(sent)\n",
    "                sent = f\"[{best_doc_id+1}] \" + sent\n",
    "                best_doc_ids.append(best_doc_id)\n",
    "\n",
    "            if \"qampari\" in self.args.dataset_name:\n",
    "                new_output += sent.replace(question, '').strip() + \", \"\n",
    "            else:\n",
    "                new_output += sent + \" \"\n",
    "\n",
    "        closedbook_phc_output = new_output.rstrip().rstrip(\",\")\n",
    "        generation = closedbook_phc_output\n",
    "        return {\n",
    "            'sents': sents,\n",
    "            'postcite_generation': generation,\n",
    "            'best_doc_ids': best_doc_ids,\n",
    "            'best_docs': [external[external_idx]['docs'][best_doc_id] for best_doc_id in best_doc_ids]\n",
    "        }\n",
    "        return generation\n",
    "    \n",
    "    def llm_predict(self, prompt):\n",
    "        prompt_len = len(self.llm.tokenizer.tokenize(prompt))\n",
    "        generation = self.llm.generate(prompt, min(self.args.max_new_tokens, \n",
    "                                                   self.args.max_length-prompt_len))\n",
    "        return {\n",
    "            'generation': generation,\n",
    "            'prompt': prompt,\n",
    "            'prompt_len': prompt_len\n",
    "        }\n",
    "\n",
    "    def closedbook_predict(self, data):\n",
    "        prompt = self.head_closedbook_prompt + self.get_closedbook_prompt(data, test=True)\n",
    "        results = self.llm_predict(prompt)\n",
    "        return results\n",
    "    \n",
    "    def backbone_predict(self, data):\n",
    "        prompt = self.head_prompt + self.get_prompt(data, test=True)\n",
    "        results = self.llm_predict(prompt)\n",
    "        return results\n",
    "    \n",
    "    def group_gen(self, data):\n",
    "        groupgen_prompt = self.head_groupgen_prompt + self.get_groupgen_prompt(data, test=True)\n",
    "        results = self.llm_predict(groupgen_prompt)\n",
    "        groups_str = results['generation']\n",
    "        groups = [':'.join(group.split(':')[1:]) for group in groups_str.split('\\n')]\n",
    "        results['groups'] = groups\n",
    "        return results\n",
    "\n",
    "    def group_predict(self, data):\n",
    "        grouppred_prompt = self.head_grouppred_prompt + self.get_grouppred_prompt(data, test=True)\n",
    "        results = self.llm_predict(grouppred_prompt)\n",
    "        return results"
   ]
  },
  {
   "cell_type": "code",
   "execution_count": 186,
   "id": "15b5eb74-bbe2-4515-b07f-4d16dfbb79ed",
   "metadata": {
    "tags": []
   },
   "outputs": [],
   "source": [
    "command_line_args = [\n",
    "    '--config', 'configs/asqa_opt-6.7b_shot1_ndoc3_gtr_default.yaml', \n",
    "    '--quick_test', '1' \n",
    "]"
   ]
  },
  {
   "cell_type": "code",
   "execution_count": 88,
   "id": "27c58686-e506-4b50-b775-5247ca788c38",
   "metadata": {
    "tags": []
   },
   "outputs": [],
   "source": [
    "command_line_args = [\n",
    "    '--config', 'configs/asqa_turbo_shot2_ndoc3_gtr_default.yaml',\n",
    "    '--quick_test', '1',\n",
    "    '--prompt_file', 'prompts/asqa_soprompt.json',\n",
    "    '--retriever', 'gtr-t5-large',\n",
    "    '--temperature', '0',\n",
    "    '--overwrite'\n",
    "]"
   ]
  },
  {
   "cell_type": "code",
   "execution_count": 89,
   "id": "e09c387e-84da-4904-ae85-bde2efc5d83c",
   "metadata": {
    "tags": []
   },
   "outputs": [
    {
     "name": "stdout",
     "output_type": "stream",
     "text": [
      "config: configs/asqa_turbo_shot2_ndoc3_gtr_default.yaml\n",
      "prompt_file: prompts/asqa_soprompt.json\n",
      "eval_file: data/asqa_eval_gtr_top100.json\n",
      "quick_test: 1\n",
      "ndoc: 3\n",
      "shot: 2\n",
      "seed: 42\n",
      "no_doc_in_demo: False\n",
      "fewer_doc_in_demo: False\n",
      "ndoc_in_demo: None\n",
      "dataset_name: asqa\n",
      "tag: gtr\n",
      "model: gpt-3.5-turbo-0301\n",
      "openai_api: True\n",
      "azure: False\n",
      "temperature: 0.0\n",
      "top_p: 1.0\n",
      "max_new_tokens: 300\n",
      "max_length: 2048\n",
      "num_samples: 1\n",
      "use_shorter: None\n",
      "interactive: False\n",
      "interactive_query: None\n",
      "retriever: gtr-t5-large\n",
      "retriever_device: cuda\n",
      "retrieve_in_all_docs: False\n",
      "max_turn: 10\n",
      "max_doc_show: 3\n",
      "force_cite_show: False\n",
      "overwrite: True\n"
     ]
    }
   ],
   "source": [
    "# Example of simulating command line arguments\n",
    "args = parser.parse_args(args=command_line_args)\n",
    "config = yaml.safe_load(open(args.config)) if args.config is not None else {}\n",
    "parser.set_defaults(**config)\n",
    "args = parser.parse_args(args=command_line_args)\n",
    "for k in args.__dict__:\n",
    "    print(f\"{k}: {args.__dict__[k]}\")\n",
    "\n",
    "if \"turbo\" in args.model:\n",
    "    # ChatGPT has a longer max length\n",
    "    args.max_length = 4096\n",
    "\n",
    "if \"16k\" in args.model:\n",
    "    args.max_length = 16384\n",
    "elif \"32k\" in args.model:\n",
    "    args.max_length = 32768\n",
    "elif \"turbo\" in args.model:\n",
    "    args.max_length = 4096\n",
    "elif \"gpt-4\" in args.model:\n",
    "    args.max_length = 8192\n",
    "elif \"llama-2\" in args.model.lower() or \"llama2\" in args.model.lower():\n",
    "    args.max_length = 4096"
   ]
  },
  {
   "cell_type": "code",
   "execution_count": 90,
   "id": "0b09e39f-9662-48d0-9d0b-ea0926a8fa50",
   "metadata": {
    "tags": []
   },
   "outputs": [],
   "source": [
    "# Load the model or setup the API\n",
    "llm = LLM(args)\n",
    "\n",
    "# Generate prompts\n",
    "np.random.seed(args.seed)\n",
    "\n",
    "# Load data\n",
    "prompt_data = json.load(open(args.prompt_file, encoding='utf-8'))\n",
    "eval_data = json.load(open(args.eval_file, encoding='utf-8'))"
   ]
  },
  {
   "cell_type": "code",
   "execution_count": 91,
   "id": "099da96e-083e-4109-ab02-f7319578146c",
   "metadata": {
    "tags": []
   },
   "outputs": [
    {
     "name": "stderr",
     "output_type": "stream",
     "text": [
      "2024-03-05 19:43:21,942 - INFO - Load pretrained SentenceTransformer: sentence-transformers/gtr-t5-large\n"
     ]
    }
   ],
   "source": [
    "# retrieval\n",
    "def remove_citations(sent):\n",
    "    return re.sub(r\"\\[\\d+\", \"\", re.sub(r\" \\[\\d+\", \"\", sent)).replace(\" |\", \"\").replace(\"]\", \"\")\n",
    "\n",
    "def find_external_docs_idx(question, external):\n",
    "    # find the index of externaol doc that matches the question\n",
    "    for idx, item in enumerate(external):\n",
    "        if item['question'] == question:\n",
    "            return idx\n",
    "    return None\n",
    "\n",
    "if args.eval_file is not None:\n",
    "    external = json.load(open(args.eval_file))\n",
    "\n",
    "# Load retrieval model\n",
    "if \"gtr\" in args.retriever:\n",
    "    from sentence_transformers import SentenceTransformer\n",
    "    gtr_model = SentenceTransformer(f'sentence-transformers/{args.retriever}', \n",
    "                                    device=args.retriever_device)"
   ]
  },
  {
   "cell_type": "code",
   "execution_count": 92,
   "id": "ec1d2b00-3075-4cbd-90ef-2ec0e8d869bf",
   "metadata": {
    "tags": []
   },
   "outputs": [
    {
     "name": "stderr",
     "output_type": "stream",
     "text": [
      "2024-03-05 19:43:24,478 - INFO - Load pretrained SentenceTransformer: sentence-transformers/gtr-t5-large\n"
     ]
    }
   ],
   "source": [
    "# class SoPrompt():\n",
    "#     def __init__(self, \n",
    "#                  llm,\n",
    "#                  args,\n",
    "#                  prompt_data,\n",
    "#                  get_groupgen_prompt=None,\n",
    "#                  get_grouppred_prompt=None,\n",
    "#                  get_prompt=None\n",
    "#                 ):\n",
    "\n",
    "soprompt = SoPrompt(llm, args, prompt_data)"
   ]
  },
  {
   "cell_type": "code",
   "execution_count": 93,
   "id": "1b2b64b4-fd1d-40c4-b9e1-10fa9ae1aae6",
   "metadata": {
    "tags": []
   },
   "outputs": [],
   "source": [
    "def show_example(idx, mode='closedbook_phc_repred'):\n",
    "    soprompt_output = soprompt.generate(eval_data[idx], mode=mode, \n",
    "                                        return_dict=True, external=external)\n",
    "    print(f'===== MODE: {mode} =====')\n",
    "    print('-----groupgen_prompt-----')\n",
    "    print(soprompt_output['groupgen_prompt'])\n",
    "    print('-----grouppred_prompt-----')\n",
    "    print(soprompt_output['grouppred_prompt'])\n",
    "    print('-----groups-----')\n",
    "    print(soprompt_output['groups'])\n",
    "    print('-----groups_str-----')\n",
    "    print(soprompt_output['groups_str'])\n",
    "    print('-----question-----')\n",
    "    print(soprompt_output['question'])\n",
    "    print('-----answer-----')\n",
    "    print(soprompt_output['answer'])\n",
    "    print('-----generation-----')\n",
    "    print(soprompt_output['generation'])\n",
    "    return soprompt_output\n",
    "\n",
    "def show_example_vanilla(idx):\n",
    "    vanilla_output = soprompt.generate(eval_data[idx], mode='vanilla')\n",
    "    print('-----vanilla_output-----')\n",
    "    print(vanilla_output)\n",
    "    return vanilla_output\n",
    "\n",
    "def show_example_all(idx):\n",
    "    show_example(idx, mode='closedbook_phc_repred')\n",
    "    show_example(idx, mode='groupgen_pred')\n",
    "    show_example_vanilla(idx)"
   ]
  },
  {
   "cell_type": "code",
   "execution_count": 96,
   "id": "437607af-7bf9-47f2-9c2a-9a60e8e512d7",
   "metadata": {
    "tags": []
   },
   "outputs": [
    {
     "data": {
      "application/vnd.jupyter.widget-view+json": {
       "model_id": "d79141a08c844790b9815895dd12e760",
       "version_major": 2,
       "version_minor": 0
      },
      "text/plain": [
       "Batches:   0%|          | 0/4 [00:00<?, ?it/s]"
      ]
     },
     "metadata": {},
     "output_type": "display_data"
    },
    {
     "data": {
      "application/vnd.jupyter.widget-view+json": {
       "model_id": "80b18c75f23046e4a0bfac08bfbd83e3",
       "version_major": 2,
       "version_minor": 0
      },
      "text/plain": [
       "Batches:   0%|          | 0/1 [00:00<?, ?it/s]"
      ]
     },
     "metadata": {},
     "output_type": "display_data"
    },
    {
     "data": {
      "application/vnd.jupyter.widget-view+json": {
       "model_id": "7b3ae19fa9c3466cb61d3ba9690eaa46",
       "version_major": 2,
       "version_minor": 0
      },
      "text/plain": [
       "Batches:   0%|          | 0/1 [00:00<?, ?it/s]"
      ]
     },
     "metadata": {},
     "output_type": "display_data"
    },
    {
     "data": {
      "application/vnd.jupyter.widget-view+json": {
       "model_id": "7ecffe02bdec4510acc5b76bd4d112c9",
       "version_major": 2,
       "version_minor": 0
      },
      "text/plain": [
       "Batches:   0%|          | 0/1 [00:00<?, ?it/s]"
      ]
     },
     "metadata": {},
     "output_type": "display_data"
    },
    {
     "data": {
      "application/vnd.jupyter.widget-view+json": {
       "model_id": "0bebac12c3df4340ba6500eb047c53c2",
       "version_major": 2,
       "version_minor": 0
      },
      "text/plain": [
       "Batches:   0%|          | 0/1 [00:00<?, ?it/s]"
      ]
     },
     "metadata": {},
     "output_type": "display_data"
    },
    {
     "name": "stderr",
     "output_type": "stream",
     "text": [
      "2024-03-05 19:44:19,937 - INFO - Running AutoAIS...\n",
      "2024-03-05 19:44:20,025 - INFO - Running AutoAIS...\n",
      "2024-03-05 19:44:20,110 - INFO - Running AutoAIS...\n",
      "2024-03-05 19:44:20,195 - INFO - Running AutoAIS...\n"
     ]
    },
    {
     "name": "stdout",
     "output_type": "stream",
     "text": [
      "0 4 0\n"
     ]
    },
    {
     "data": {
      "application/vnd.jupyter.widget-view+json": {
       "model_id": "97269bbb31aa491a8503885b1c807677",
       "version_major": 2,
       "version_minor": 0
      },
      "text/plain": [
       "Batches:   0%|          | 0/4 [00:00<?, ?it/s]"
      ]
     },
     "metadata": {},
     "output_type": "display_data"
    },
    {
     "data": {
      "application/vnd.jupyter.widget-view+json": {
       "model_id": "785ac3d5bc1f4fe6bf69381dbceb5e1f",
       "version_major": 2,
       "version_minor": 0
      },
      "text/plain": [
       "Batches:   0%|          | 0/1 [00:00<?, ?it/s]"
      ]
     },
     "metadata": {},
     "output_type": "display_data"
    },
    {
     "data": {
      "application/vnd.jupyter.widget-view+json": {
       "model_id": "bdb8cbaf04334162ad14ad6953684ada",
       "version_major": 2,
       "version_minor": 0
      },
      "text/plain": [
       "Batches:   0%|          | 0/1 [00:00<?, ?it/s]"
      ]
     },
     "metadata": {},
     "output_type": "display_data"
    },
    {
     "name": "stderr",
     "output_type": "stream",
     "text": [
      "2024-03-05 19:44:24,479 - INFO - Running AutoAIS...\n",
      "2024-03-05 19:44:24,544 - INFO - Running AutoAIS...\n"
     ]
    },
    {
     "name": "stdout",
     "output_type": "stream",
     "text": [
      "1 2 1\n"
     ]
    },
    {
     "data": {
      "application/vnd.jupyter.widget-view+json": {
       "model_id": "10f10c7592a44a2ea83972fb0078328c",
       "version_major": 2,
       "version_minor": 0
      },
      "text/plain": [
       "Batches:   0%|          | 0/4 [00:00<?, ?it/s]"
      ]
     },
     "metadata": {},
     "output_type": "display_data"
    },
    {
     "data": {
      "application/vnd.jupyter.widget-view+json": {
       "model_id": "3285f8c614a047a4abf5f9ff1c89dfa3",
       "version_major": 2,
       "version_minor": 0
      },
      "text/plain": [
       "Batches:   0%|          | 0/1 [00:00<?, ?it/s]"
      ]
     },
     "metadata": {},
     "output_type": "display_data"
    },
    {
     "data": {
      "application/vnd.jupyter.widget-view+json": {
       "model_id": "8209fe09598a496ba049606c69678c83",
       "version_major": 2,
       "version_minor": 0
      },
      "text/plain": [
       "Batches:   0%|          | 0/1 [00:00<?, ?it/s]"
      ]
     },
     "metadata": {},
     "output_type": "display_data"
    },
    {
     "name": "stderr",
     "output_type": "stream",
     "text": [
      "2024-03-05 19:44:27,877 - INFO - Running AutoAIS...\n",
      "2024-03-05 19:44:27,945 - INFO - Running AutoAIS...\n"
     ]
    },
    {
     "name": "stdout",
     "output_type": "stream",
     "text": [
      "2 2 2\n"
     ]
    },
    {
     "data": {
      "application/vnd.jupyter.widget-view+json": {
       "model_id": "d14ac68099a34e92bac68a9027cffd5c",
       "version_major": 2,
       "version_minor": 0
      },
      "text/plain": [
       "Batches:   0%|          | 0/4 [00:00<?, ?it/s]"
      ]
     },
     "metadata": {},
     "output_type": "display_data"
    },
    {
     "data": {
      "application/vnd.jupyter.widget-view+json": {
       "model_id": "0788b03b09c34c37b2aa394d9b42660e",
       "version_major": 2,
       "version_minor": 0
      },
      "text/plain": [
       "Batches:   0%|          | 0/1 [00:00<?, ?it/s]"
      ]
     },
     "metadata": {},
     "output_type": "display_data"
    },
    {
     "data": {
      "application/vnd.jupyter.widget-view+json": {
       "model_id": "193c423b22654d52837ab15d882bd576",
       "version_major": 2,
       "version_minor": 0
      },
      "text/plain": [
       "Batches:   0%|          | 0/1 [00:00<?, ?it/s]"
      ]
     },
     "metadata": {},
     "output_type": "display_data"
    },
    {
     "name": "stderr",
     "output_type": "stream",
     "text": [
      "2024-03-05 19:44:31,536 - INFO - Running AutoAIS...\n",
      "2024-03-05 19:44:31,601 - INFO - Running AutoAIS...\n"
     ]
    },
    {
     "name": "stdout",
     "output_type": "stream",
     "text": [
      "3 2 1\n"
     ]
    },
    {
     "data": {
      "application/vnd.jupyter.widget-view+json": {
       "model_id": "1d39714e7aac4d0f90bdc82c47d70a54",
       "version_major": 2,
       "version_minor": 0
      },
      "text/plain": [
       "Batches:   0%|          | 0/4 [00:00<?, ?it/s]"
      ]
     },
     "metadata": {},
     "output_type": "display_data"
    },
    {
     "data": {
      "application/vnd.jupyter.widget-view+json": {
       "model_id": "d959c7bf7afc47c4aa03a641bf4c26e0",
       "version_major": 2,
       "version_minor": 0
      },
      "text/plain": [
       "Batches:   0%|          | 0/1 [00:00<?, ?it/s]"
      ]
     },
     "metadata": {},
     "output_type": "display_data"
    },
    {
     "name": "stderr",
     "output_type": "stream",
     "text": [
      "2024-03-05 19:44:34,778 - INFO - Running AutoAIS...\n"
     ]
    },
    {
     "name": "stdout",
     "output_type": "stream",
     "text": [
      "4 1 0\n"
     ]
    },
    {
     "data": {
      "application/vnd.jupyter.widget-view+json": {
       "model_id": "0213895b11be407bae571f24d0f5e81c",
       "version_major": 2,
       "version_minor": 0
      },
      "text/plain": [
       "Batches:   0%|          | 0/4 [00:00<?, ?it/s]"
      ]
     },
     "metadata": {},
     "output_type": "display_data"
    },
    {
     "data": {
      "application/vnd.jupyter.widget-view+json": {
       "model_id": "f7ab00fb26134422b5c88d80b9daf868",
       "version_major": 2,
       "version_minor": 0
      },
      "text/plain": [
       "Batches:   0%|          | 0/1 [00:00<?, ?it/s]"
      ]
     },
     "metadata": {},
     "output_type": "display_data"
    },
    {
     "name": "stderr",
     "output_type": "stream",
     "text": [
      "2024-03-05 19:44:38,107 - INFO - Running AutoAIS...\n"
     ]
    },
    {
     "name": "stdout",
     "output_type": "stream",
     "text": [
      "5 1 0\n"
     ]
    },
    {
     "data": {
      "application/vnd.jupyter.widget-view+json": {
       "model_id": "e3432927a4eb424fb68d506688118e56",
       "version_major": 2,
       "version_minor": 0
      },
      "text/plain": [
       "Batches:   0%|          | 0/4 [00:00<?, ?it/s]"
      ]
     },
     "metadata": {},
     "output_type": "display_data"
    },
    {
     "data": {
      "application/vnd.jupyter.widget-view+json": {
       "model_id": "5b35b7b274324d3d987bd87a4c81aade",
       "version_major": 2,
       "version_minor": 0
      },
      "text/plain": [
       "Batches:   0%|          | 0/1 [00:00<?, ?it/s]"
      ]
     },
     "metadata": {},
     "output_type": "display_data"
    },
    {
     "name": "stderr",
     "output_type": "stream",
     "text": [
      "2024-03-05 19:44:41,371 - INFO - Running AutoAIS...\n"
     ]
    },
    {
     "name": "stdout",
     "output_type": "stream",
     "text": [
      "6 1 0\n"
     ]
    },
    {
     "data": {
      "application/vnd.jupyter.widget-view+json": {
       "model_id": "a23e863c124d4cb788150c7e00c336c5",
       "version_major": 2,
       "version_minor": 0
      },
      "text/plain": [
       "Batches:   0%|          | 0/4 [00:00<?, ?it/s]"
      ]
     },
     "metadata": {},
     "output_type": "display_data"
    },
    {
     "data": {
      "application/vnd.jupyter.widget-view+json": {
       "model_id": "1ae8a1e2001c4141bc8ff4b24f6a0d33",
       "version_major": 2,
       "version_minor": 0
      },
      "text/plain": [
       "Batches:   0%|          | 0/1 [00:00<?, ?it/s]"
      ]
     },
     "metadata": {},
     "output_type": "display_data"
    },
    {
     "name": "stderr",
     "output_type": "stream",
     "text": [
      "2024-03-05 19:44:43,471 - INFO - Running AutoAIS...\n"
     ]
    },
    {
     "name": "stdout",
     "output_type": "stream",
     "text": [
      "7 1 1\n"
     ]
    },
    {
     "data": {
      "application/vnd.jupyter.widget-view+json": {
       "model_id": "aa3728f8bce440d88e6bb5a54a625c85",
       "version_major": 2,
       "version_minor": 0
      },
      "text/plain": [
       "Batches:   0%|          | 0/4 [00:00<?, ?it/s]"
      ]
     },
     "metadata": {},
     "output_type": "display_data"
    },
    {
     "data": {
      "application/vnd.jupyter.widget-view+json": {
       "model_id": "c247d2c1264340aeb60db909a6374da4",
       "version_major": 2,
       "version_minor": 0
      },
      "text/plain": [
       "Batches:   0%|          | 0/1 [00:00<?, ?it/s]"
      ]
     },
     "metadata": {},
     "output_type": "display_data"
    },
    {
     "data": {
      "application/vnd.jupyter.widget-view+json": {
       "model_id": "7d76b71e4f9343dea9d99832c33f85c1",
       "version_major": 2,
       "version_minor": 0
      },
      "text/plain": [
       "Batches:   0%|          | 0/1 [00:00<?, ?it/s]"
      ]
     },
     "metadata": {},
     "output_type": "display_data"
    },
    {
     "name": "stderr",
     "output_type": "stream",
     "text": [
      "2024-03-05 19:44:47,017 - INFO - Running AutoAIS...\n",
      "2024-03-05 19:44:47,101 - INFO - Running AutoAIS...\n"
     ]
    },
    {
     "name": "stdout",
     "output_type": "stream",
     "text": [
      "8 2 0\n"
     ]
    },
    {
     "data": {
      "application/vnd.jupyter.widget-view+json": {
       "model_id": "357043a797984c3184e2217340cd9aca",
       "version_major": 2,
       "version_minor": 0
      },
      "text/plain": [
       "Batches:   0%|          | 0/4 [00:00<?, ?it/s]"
      ]
     },
     "metadata": {},
     "output_type": "display_data"
    },
    {
     "data": {
      "application/vnd.jupyter.widget-view+json": {
       "model_id": "4f30c3bc90e842829f3b4f38a11f94c9",
       "version_major": 2,
       "version_minor": 0
      },
      "text/plain": [
       "Batches:   0%|          | 0/1 [00:00<?, ?it/s]"
      ]
     },
     "metadata": {},
     "output_type": "display_data"
    },
    {
     "name": "stderr",
     "output_type": "stream",
     "text": [
      "2024-03-05 19:44:49,895 - INFO - Running AutoAIS...\n"
     ]
    },
    {
     "name": "stdout",
     "output_type": "stream",
     "text": [
      "9 1 0\n"
     ]
    }
   ],
   "source": [
    "for idx in range(10):\n",
    "    closedbook_phc_repred_output = soprompt.generate(eval_data[idx], mode='closedbook_phc_repred',\n",
    "                                          return_dict=True,\n",
    "                                         external=external)\n",
    "    print(idx, len(closedbook_phc_repred_output['best_docs']), len(closedbook_phc_repred_output['posthoc_docs']))"
   ]
  },
  {
   "cell_type": "code",
   "execution_count": 94,
   "id": "7d329245-b47f-4e29-8721-eca2ba20f8bb",
   "metadata": {
    "tags": []
   },
   "outputs": [
    {
     "data": {
      "application/vnd.jupyter.widget-view+json": {
       "model_id": "6108b063c9254aec95e77e9d86e635c1",
       "version_major": 2,
       "version_minor": 0
      },
      "text/plain": [
       "Batches:   0%|          | 0/4 [00:00<?, ?it/s]"
      ]
     },
     "metadata": {},
     "output_type": "display_data"
    },
    {
     "data": {
      "application/vnd.jupyter.widget-view+json": {
       "model_id": "3514f11607544f04aa970b724e04ca47",
       "version_major": 2,
       "version_minor": 0
      },
      "text/plain": [
       "Batches:   0%|          | 0/1 [00:00<?, ?it/s]"
      ]
     },
     "metadata": {},
     "output_type": "display_data"
    },
    {
     "data": {
      "application/vnd.jupyter.widget-view+json": {
       "model_id": "d4130751b716471ca2d508074657935d",
       "version_major": 2,
       "version_minor": 0
      },
      "text/plain": [
       "Batches:   0%|          | 0/1 [00:00<?, ?it/s]"
      ]
     },
     "metadata": {},
     "output_type": "display_data"
    },
    {
     "name": "stderr",
     "output_type": "stream",
     "text": [
      "2024-03-05 19:43:28,297 - INFO - Running AutoAIS...\n",
      "2024-03-05 19:43:28,365 - INFO - Running AutoAIS...\n",
      "Token indices sequence length is longer than the specified maximum sequence length for this model (1818 > 1024). Running this sequence through the model will result in indexing errors\n"
     ]
    },
    {
     "name": "stdout",
     "output_type": "stream",
     "text": [
      "===== MODE: closedbook_phc_repred =====\n",
      "-----groupgen_prompt-----\n",
      "Instruction: Find groups of sentences from the documents that are useful for answering the given question. Each group should contain sentences from at least one and at most three documents, and should be standalone and can be understood out of context. Always copy the whole sentence, without modification, and add the document id it comes from, using [1][2][3]. If multiple sentences from one or more documents are stating the same fact, only use a minimum sufficient subset of sentences to form the group.\n",
      "\n",
      "Question: When did the us break away from england?\n",
      "\n",
      "Document [1](Title: United States withdrawal from Saudi Arabia): United States withdrawal from Saudi Arabia Beginning during Operation Desert Shield in August 1990, while preparing for the Gulf War, the United States sent a large troop contingent to Saudi Arabia. After the war, remnant troops, primarily U.S. Air Force personnel, augmented by a smaller number of coordinating and training personnel from the U.S. Navy, U.S. Army and U.S. Marine Corps remained in Saudi Arabia under the aegis of Joint Task Force Southwest Asia (JTF-SWA), as part of Operation Southern Watch (OSW). The United Kingdom and France also maintained a small contingent of Royal Air Force and French Air Force\n",
      "Document [2](Title: Decolonization of the Americas): and France has fully \"integrated\" most of its former colonies as fully constituent \"departments\" of France. The United States of America declared independence from Great Britain on July 2, 1776 (although the event is now commemorated on July 4, the date when the Declaration of Independence was officially adopted by Congress), in so doing becoming the first independent, foreign-recognized nation in the Americas and the first European colonial entity to break from its mother country. Britain formally acknowledged American independence in 1783 after its defeat in the American Revolutionary War. Although initially occupying only the land east of the Mississippi\n",
      "Document [3](Title: American Revolution): second British army at Yorktown in the fall of 1781, effectively ending the war. The Treaty of Paris was signed September 3, 1783, formally ending the conflict and confirming the new nation's complete separation from the British Empire. The United States took possession of nearly all the territory east of the Mississippi River and south of the Great Lakes, with the British retaining control of Canada and Spain taking Florida. Among the significant results of the revolution was the creation of the United States Constitution, establishing a relatively strong federal national government that included an executive, a national judiciary, and\n",
      "\n",
      "Groups:\n",
      "Group (1): The United States of America declared independence from Great Britain on July 2, 1776 (although the event is now commemorated on July 4, the date when the Declaration of Independence was officially adopted by Congress), in so doing becoming the first independent, foreign-recognized nation in the Americas and the first European colonial entity to break from its mother country. [2]\n",
      "Group (2): The Treaty of Paris was signed September 3, 1783, formally ending the conflict and confirming the new nation's complete separation from the British Empire. [3]\n",
      "\n",
      "\n",
      "\n",
      "Instruction: Find groups of sentences from the documents that are useful for answering the given question. Each group should contain sentences from at least one and at most three documents, and should be standalone and can be understood out of context. Always copy the whole sentence, without modification, and add the document id it comes from, using [1][2][3]. If multiple sentences from one or more documents are stating the same fact, only use a minimum sufficient subset of sentences to form the group.\n",
      "\n",
      "Question: Who played galen in planet of the apes?\n",
      "\n",
      "Document [1](Title: Planet of the Apes): installment. Jacobs died on June 27, 1973, bringing an end to the APJAC Productions era of the \"Planet of the Apes\" franchise. Former Fox executive Stan Hough took over as producer for the television project, titled \"Planet of the Apes\". CBS picked up the series for its 1974 autumn lineup. Ron Harper and James Naughton played Alan Virdon and Peter Burke, two 20th-century American astronauts who pass through a time warp to a future where apes subjugate humans (unlike the original film, the humans can speak). Roddy McDowall returned to the franchise as Galen, a chimpanzee who joins the astronauts.\n",
      "Document [2](Title: Planet of the Apes (1968 film)): chimpanzees: animal psychologist Zira (Kim Hunter) and surgeon Galen (Wright King). While unable to speak as his throat wound is healing, called \"Bright Eyes\" by Zira and placed with one of the captive primitive humans he later names \"Nova\", Taylor observes the enhanced society of talking apes and in a strict caste system: the gorillas being the military police, hunters and workers; the orangutans overseeing the affairs of government, science, and religion; and intellectual chimpanzees being mostly scientists. While their society is a theocracy similar to the beginnings of the human Industrial Era, the apes consider the primitive humans as\n",
      "Document [3](Title: Planet of the Apes (1968 film)): Planet of the Apes (1968 film) Planet of the Apes is a 1968 American science fiction film directed by Franklin J. Schaffner. It stars Charlton Heston, Roddy McDowall, Kim Hunter, Maurice Evans, James Whitmore, James Daly and Linda Harrison. The screenplay by Michael Wilson and Rod Serling was loosely based on the 1963 French novel \"La Planète des Singes\" by Pierre Boulle. Jerry Goldsmith composed the groundbreaking avant-garde score. It was the first in a series of five films made between 1968 and 1973, all produced by Arthur P. Jacobs and released by 20th Century Fox. The film tells the\n",
      "\n",
      "Groups:\n",
      "Group (1): chimpanzees: animal psychologist Zira (Kim Hunter) and surgeon Galen (Wright King). [2]\n",
      "Group (2): Former Fox executive Stan Hough took over as producer for the television project, titled \"Planet of the Apes\". CBS picked up the series for its 1974 autumn lineup. Roddy McDowall returned to the franchise as Galen, a chimpanzee who joins the astronauts. [1]\n",
      "\n",
      "\n",
      "\n",
      "Instruction: Find groups of sentences from the documents that are useful for answering the given question. Each group should contain sentences from at least one and at most three documents, and should be standalone and can be understood out of context. Always copy the whole sentence, without modification, and add the document id it comes from, using [1][2][3]. If multiple sentences from one or more documents are stating the same fact, only use a minimum sufficient subset of sentences to form the group.\n",
      "\n",
      "Question: Who is the original artist of sound of silence?\n",
      "\n",
      "Document [1](Title: The Sound of Silence): The Sound of Silence \"The Sound of Silence\", originally \"The Sounds of Silence\", is a song by the American music duo Simon & Garfunkel. The song was written by Paul Simon over a period of several months in 1963 and 1964. A studio audition led to the duo signing a record deal with Columbia Records, and the song was recorded in March 1964 at Columbia Studios in New York City for inclusion on their debut album, \"Wednesday Morning, 3 A.M.\". Released in October 1964, the album was a commercial failure and led to the duo breaking apart, with Paul Simon\n",
      "Document [2](Title: Sounds of Silence): Sounds of Silence Sounds of Silence is the second studio album by Simon & Garfunkel, released on January 17, 1966. The album's title is a slight modification of the title of the duo's first major hit, \"The Sound of Silence\", which originally was released as \"The Sounds of Silence\". The song had earlier been released in an acoustic version on the album \"Wednesday Morning, 3 A.M.\", and later on the soundtrack to the movie \"The Graduate\". Without the knowledge of Paul Simon or Art Garfunkel, electric guitars, bass and drums were overdubbed by Columbia Records staff producer Tom Wilson on\n",
      "Document [3](Title: The Sound of Silence): downloadable content for the video game, \"Rock Band 4\". The Disturbed version was used in the episode \"Ian Garvey\" of \"The Blacklist\" in November 2017. Notes Bibliography The Sound of Silence \"The Sound of Silence\", originally \"The Sounds of Silence\", is a song by the American music duo Simon & Garfunkel. The song was written by Paul Simon over a period of several months in 1963 and 1964. A studio audition led to the duo signing a record deal with Columbia Records, and the song was recorded in March 1964 at Columbia Studios in New York City for inclusion on\n",
      "\n",
      "Groups:\n",
      "-----grouppred_prompt-----\n",
      "Instruction: Write an accurate, engaging, and concise answer for the given question using only the provided groups of sentences extracted from search results and cite the original search results properly. Use an unbiased and journalistic tone. Always cite for any factual claim. When citing several search results, use [1][2][3] (1), where the last number indicates which group it comes from. Cite at least one document and at most three documents in each sentence. If multiple documents support the sentence, only cite a minimum sufficient subset of the documents. The citation numbers should already be provided after each sentence or sentences in the groups.\n",
      "\n",
      "Question: When did the us break away from england?\n",
      "\n",
      "Groups:\n",
      "Group (1): The United States of America declared independence from Great Britain on July 2, 1776 (although the event is now commemorated on July 4, the date when the Declaration of Independence was officially adopted by Congress), in so doing becoming the first independent, foreign-recognized nation in the Americas and the first European colonial entity to break from its mother country. [2]\n",
      "Group (2): The Treaty of Paris was signed September 3, 1783, formally ending the conflict and confirming the new nation's complete separation from the British Empire. [3]\n",
      "\n",
      "Answer:The United States took the first step towards gaining independence from Great Britain when it declared independence from Great Britain on July 2, 1776 (although the event is now commemorated on July 4, 1776, the date when the Declaration of Independence was officially adopted by Congress) [2] (1). The Treaty of Paris was later signed on September 3, 1783, formally separating the United States from the British Empire [3] (2).\n",
      "\n",
      "\n",
      "Instruction: Write an accurate, engaging, and concise answer for the given question using only the provided groups of sentences extracted from search results and cite the original search results properly. Use an unbiased and journalistic tone. Always cite for any factual claim. When citing several search results, use [1][2][3] (1), where the last number indicates which group it comes from. Cite at least one document and at most three documents in each sentence. If multiple documents support the sentence, only cite a minimum sufficient subset of the documents. The citation numbers should already be provided after each sentence or sentences in the groups.\n",
      "\n",
      "Question: Who played galen in planet of the apes?\n",
      "\n",
      "Groups:\n",
      "Group (1): chimpanzees: animal psychologist Zira (Kim Hunter) and surgeon Galen (Wright King). [2]\n",
      "Group (2): Former Fox executive Stan Hough took over as producer for the television project, titled \"Planet of the Apes\". CBS picked up the series for its 1974 autumn lineup. Roddy McDowall returned to the franchise as Galen, a chimpanzee who joins the astronauts. [1]\n",
      "\n",
      "Answer:In the 1968 film Planet of the Apes, Galen was played by Wright King [2] (1). And in the tv series Planet of the Apes, Galen was played by Roddy McDowall [1] (2).\n",
      "\n",
      "\n",
      "Instruction: Write an accurate, engaging, and concise answer for the given question using only the provided groups of sentences extracted from search results and cite the original search results properly. Use an unbiased and journalistic tone. Always cite for any factual claim. When citing several search results, use [1][2][3] (1), where the last number indicates which group it comes from. Cite at least one document and at most three documents in each sentence. If multiple documents support the sentence, only cite a minimum sufficient subset of the documents. The citation numbers should already be provided after each sentence or sentences in the groups.\n",
      "\n",
      "Question: Who is the original artist of sound of silence?\n",
      "\n",
      "Groups:\n",
      "Group (1):  \"The Sound of Silence\", originally \"The Sounds of Silence\", is a song by the American music duo Simon & Garfunkel. The song was written by Paul Simon over a period of several months in 1963 and 1964. [1][3]\n",
      "Group (2):  The song had earlier been released in an acoustic version on the album \"Wednesday Morning, 3 A.M.\", and later on the soundtrack to the movie \"The Graduate\". [2]\n",
      "\n",
      "Answer:\n",
      "-----groups-----\n",
      "[' \"The Sound of Silence\", originally \"The Sounds of Silence\", is a song by the American music duo Simon & Garfunkel. The song was written by Paul Simon over a period of several months in 1963 and 1964. [1][3]', ' The song had earlier been released in an acoustic version on the album \"Wednesday Morning, 3 A.M.\", and later on the soundtrack to the movie \"The Graduate\". [2]']\n",
      "-----groups_str-----\n",
      "Group (1): \"The Sound of Silence\", originally \"The Sounds of Silence\", is a song by the American music duo Simon & Garfunkel. The song was written by Paul Simon over a period of several months in 1963 and 1964. [1][3]\n",
      "Group (2): The song had earlier been released in an acoustic version on the album \"Wednesday Morning, 3 A.M.\", and later on the soundtrack to the movie \"The Graduate\". [2]\n",
      "-----question-----\n",
      "Who is the original artist of sound of silence?\n",
      "-----answer-----\n",
      "There are several songs with the title \"Sound of Silence\". Sounds of Silence is the second studio album by Simon & Garfunkel, released on January 17, 1966. The album's title is a slight modification of the title of the duo's first major hit, \"The Sound of Silence\", which was recorded in March 1964 and originally was released as \"The Sounds of Silence\". Another \"Sound of Silence\" is a song performed by Australian recording artist Dami Im, and is best known as Australia's entry at the Eurovision Song Contest 2016.\n",
      "-----generation-----\n",
      "\"The Sound of Silence\", originally \"The Sounds of Silence\", was written by Paul Simon [1][3] (1). The song was performed by the American music duo Simon & Garfunkel and was released in an acoustic version on the album \"Wednesday Morning, 3 A.M.\" [2] (2).\n",
      "===== MODE: groupgen_pred =====\n",
      "-----groupgen_prompt-----\n",
      "Instruction: Find groups of sentences from the documents that are useful for answering the given question. Each group should contain sentences from at least one and at most three documents, and should be standalone and can be understood out of context. Always copy the whole sentence, without modification, and add the document id it comes from, using [1][2][3]. If multiple sentences from one or more documents are stating the same fact, only use a minimum sufficient subset of sentences to form the group.\n",
      "\n",
      "Question: When did the us break away from england?\n",
      "\n",
      "Document [1](Title: United States withdrawal from Saudi Arabia): United States withdrawal from Saudi Arabia Beginning during Operation Desert Shield in August 1990, while preparing for the Gulf War, the United States sent a large troop contingent to Saudi Arabia. After the war, remnant troops, primarily U.S. Air Force personnel, augmented by a smaller number of coordinating and training personnel from the U.S. Navy, U.S. Army and U.S. Marine Corps remained in Saudi Arabia under the aegis of Joint Task Force Southwest Asia (JTF-SWA), as part of Operation Southern Watch (OSW). The United Kingdom and France also maintained a small contingent of Royal Air Force and French Air Force\n",
      "Document [2](Title: Decolonization of the Americas): and France has fully \"integrated\" most of its former colonies as fully constituent \"departments\" of France. The United States of America declared independence from Great Britain on July 2, 1776 (although the event is now commemorated on July 4, the date when the Declaration of Independence was officially adopted by Congress), in so doing becoming the first independent, foreign-recognized nation in the Americas and the first European colonial entity to break from its mother country. Britain formally acknowledged American independence in 1783 after its defeat in the American Revolutionary War. Although initially occupying only the land east of the Mississippi\n",
      "Document [3](Title: American Revolution): second British army at Yorktown in the fall of 1781, effectively ending the war. The Treaty of Paris was signed September 3, 1783, formally ending the conflict and confirming the new nation's complete separation from the British Empire. The United States took possession of nearly all the territory east of the Mississippi River and south of the Great Lakes, with the British retaining control of Canada and Spain taking Florida. Among the significant results of the revolution was the creation of the United States Constitution, establishing a relatively strong federal national government that included an executive, a national judiciary, and\n",
      "\n",
      "Groups:\n",
      "Group (1): The United States of America declared independence from Great Britain on July 2, 1776 (although the event is now commemorated on July 4, the date when the Declaration of Independence was officially adopted by Congress), in so doing becoming the first independent, foreign-recognized nation in the Americas and the first European colonial entity to break from its mother country. [2]\n",
      "Group (2): The Treaty of Paris was signed September 3, 1783, formally ending the conflict and confirming the new nation's complete separation from the British Empire. [3]\n",
      "\n",
      "\n",
      "\n",
      "Instruction: Find groups of sentences from the documents that are useful for answering the given question. Each group should contain sentences from at least one and at most three documents, and should be standalone and can be understood out of context. Always copy the whole sentence, without modification, and add the document id it comes from, using [1][2][3]. If multiple sentences from one or more documents are stating the same fact, only use a minimum sufficient subset of sentences to form the group.\n",
      "\n",
      "Question: Who played galen in planet of the apes?\n",
      "\n",
      "Document [1](Title: Planet of the Apes): installment. Jacobs died on June 27, 1973, bringing an end to the APJAC Productions era of the \"Planet of the Apes\" franchise. Former Fox executive Stan Hough took over as producer for the television project, titled \"Planet of the Apes\". CBS picked up the series for its 1974 autumn lineup. Ron Harper and James Naughton played Alan Virdon and Peter Burke, two 20th-century American astronauts who pass through a time warp to a future where apes subjugate humans (unlike the original film, the humans can speak). Roddy McDowall returned to the franchise as Galen, a chimpanzee who joins the astronauts.\n",
      "Document [2](Title: Planet of the Apes (1968 film)): chimpanzees: animal psychologist Zira (Kim Hunter) and surgeon Galen (Wright King). While unable to speak as his throat wound is healing, called \"Bright Eyes\" by Zira and placed with one of the captive primitive humans he later names \"Nova\", Taylor observes the enhanced society of talking apes and in a strict caste system: the gorillas being the military police, hunters and workers; the orangutans overseeing the affairs of government, science, and religion; and intellectual chimpanzees being mostly scientists. While their society is a theocracy similar to the beginnings of the human Industrial Era, the apes consider the primitive humans as\n",
      "Document [3](Title: Planet of the Apes (1968 film)): Planet of the Apes (1968 film) Planet of the Apes is a 1968 American science fiction film directed by Franklin J. Schaffner. It stars Charlton Heston, Roddy McDowall, Kim Hunter, Maurice Evans, James Whitmore, James Daly and Linda Harrison. The screenplay by Michael Wilson and Rod Serling was loosely based on the 1963 French novel \"La Planète des Singes\" by Pierre Boulle. Jerry Goldsmith composed the groundbreaking avant-garde score. It was the first in a series of five films made between 1968 and 1973, all produced by Arthur P. Jacobs and released by 20th Century Fox. The film tells the\n",
      "\n",
      "Groups:\n",
      "Group (1): chimpanzees: animal psychologist Zira (Kim Hunter) and surgeon Galen (Wright King). [2]\n",
      "Group (2): Former Fox executive Stan Hough took over as producer for the television project, titled \"Planet of the Apes\". CBS picked up the series for its 1974 autumn lineup. Roddy McDowall returned to the franchise as Galen, a chimpanzee who joins the astronauts. [1]\n",
      "\n",
      "\n",
      "\n",
      "Instruction: Find groups of sentences from the documents that are useful for answering the given question. Each group should contain sentences from at least one and at most three documents, and should be standalone and can be understood out of context. Always copy the whole sentence, without modification, and add the document id it comes from, using [1][2][3]. If multiple sentences from one or more documents are stating the same fact, only use a minimum sufficient subset of sentences to form the group.\n",
      "\n",
      "Question: Who is the original artist of sound of silence?\n",
      "\n",
      "Document [1](Title: The Sound of Silence): The Sound of Silence \"The Sound of Silence\", originally \"The Sounds of Silence\", is a song by the American music duo Simon & Garfunkel. The song was written by Paul Simon over a period of several months in 1963 and 1964. A studio audition led to the duo signing a record deal with Columbia Records, and the song was recorded in March 1964 at Columbia Studios in New York City for inclusion on their debut album, \"Wednesday Morning, 3 A.M.\". Released in October 1964, the album was a commercial failure and led to the duo breaking apart, with Paul Simon\n",
      "Document [2](Title: Sounds of Silence): Sounds of Silence Sounds of Silence is the second studio album by Simon & Garfunkel, released on January 17, 1966. The album's title is a slight modification of the title of the duo's first major hit, \"The Sound of Silence\", which originally was released as \"The Sounds of Silence\". The song had earlier been released in an acoustic version on the album \"Wednesday Morning, 3 A.M.\", and later on the soundtrack to the movie \"The Graduate\". Without the knowledge of Paul Simon or Art Garfunkel, electric guitars, bass and drums were overdubbed by Columbia Records staff producer Tom Wilson on\n",
      "Document [3](Title: The Sound of Silence): downloadable content for the video game, \"Rock Band 4\". The Disturbed version was used in the episode \"Ian Garvey\" of \"The Blacklist\" in November 2017. Notes Bibliography The Sound of Silence \"The Sound of Silence\", originally \"The Sounds of Silence\", is a song by the American music duo Simon & Garfunkel. The song was written by Paul Simon over a period of several months in 1963 and 1964. A studio audition led to the duo signing a record deal with Columbia Records, and the song was recorded in March 1964 at Columbia Studios in New York City for inclusion on\n",
      "\n",
      "Groups:\n",
      "-----grouppred_prompt-----\n",
      "Instruction: Write an accurate, engaging, and concise answer for the given question using only the provided groups of sentences extracted from search results and cite the original search results properly. Use an unbiased and journalistic tone. Always cite for any factual claim. When citing several search results, use [1][2][3] (1), where the last number indicates which group it comes from. Cite at least one document and at most three documents in each sentence. If multiple documents support the sentence, only cite a minimum sufficient subset of the documents. The citation numbers should already be provided after each sentence or sentences in the groups.\n",
      "\n",
      "Question: When did the us break away from england?\n",
      "\n",
      "Groups:\n",
      "Group (1): The United States of America declared independence from Great Britain on July 2, 1776 (although the event is now commemorated on July 4, the date when the Declaration of Independence was officially adopted by Congress), in so doing becoming the first independent, foreign-recognized nation in the Americas and the first European colonial entity to break from its mother country. [2]\n",
      "Group (2): The Treaty of Paris was signed September 3, 1783, formally ending the conflict and confirming the new nation's complete separation from the British Empire. [3]\n",
      "\n",
      "Answer:The United States took the first step towards gaining independence from Great Britain when it declared independence from Great Britain on July 2, 1776 (although the event is now commemorated on July 4, 1776, the date when the Declaration of Independence was officially adopted by Congress) [2] (1). The Treaty of Paris was later signed on September 3, 1783, formally separating the United States from the British Empire [3] (2).\n",
      "\n",
      "\n",
      "Instruction: Write an accurate, engaging, and concise answer for the given question using only the provided groups of sentences extracted from search results and cite the original search results properly. Use an unbiased and journalistic tone. Always cite for any factual claim. When citing several search results, use [1][2][3] (1), where the last number indicates which group it comes from. Cite at least one document and at most three documents in each sentence. If multiple documents support the sentence, only cite a minimum sufficient subset of the documents. The citation numbers should already be provided after each sentence or sentences in the groups.\n",
      "\n",
      "Question: Who played galen in planet of the apes?\n",
      "\n",
      "Groups:\n",
      "Group (1): chimpanzees: animal psychologist Zira (Kim Hunter) and surgeon Galen (Wright King). [2]\n",
      "Group (2): Former Fox executive Stan Hough took over as producer for the television project, titled \"Planet of the Apes\". CBS picked up the series for its 1974 autumn lineup. Roddy McDowall returned to the franchise as Galen, a chimpanzee who joins the astronauts. [1]\n",
      "\n",
      "Answer:In the 1968 film Planet of the Apes, Galen was played by Wright King [2] (1). And in the tv series Planet of the Apes, Galen was played by Roddy McDowall [1] (2).\n",
      "\n",
      "\n",
      "Instruction: Write an accurate, engaging, and concise answer for the given question using only the provided groups of sentences extracted from search results and cite the original search results properly. Use an unbiased and journalistic tone. Always cite for any factual claim. When citing several search results, use [1][2][3] (1), where the last number indicates which group it comes from. Cite at least one document and at most three documents in each sentence. If multiple documents support the sentence, only cite a minimum sufficient subset of the documents. The citation numbers should already be provided after each sentence or sentences in the groups.\n",
      "\n",
      "Question: Who is the original artist of sound of silence?\n",
      "\n",
      "Groups:\n",
      "Group (1):  \"The Sound of Silence\", originally \"The Sounds of Silence\", is a song by the American music duo Simon & Garfunkel. The song was written by Paul Simon over a period of several months in 1963 and 1964. [1][3]\n",
      "Group (2):  The song had earlier been released in an acoustic version on the album \"Wednesday Morning, 3 A.M.\", and later on the soundtrack to the movie \"The Graduate\". [2]\n",
      "\n",
      "Answer:\n",
      "-----groups-----\n",
      "[' \"The Sound of Silence\", originally \"The Sounds of Silence\", is a song by the American music duo Simon & Garfunkel. The song was written by Paul Simon over a period of several months in 1963 and 1964. [1][3]', ' The song had earlier been released in an acoustic version on the album \"Wednesday Morning, 3 A.M.\", and later on the soundtrack to the movie \"The Graduate\". [2]']\n",
      "-----groups_str-----\n",
      "Group (1): \"The Sound of Silence\", originally \"The Sounds of Silence\", is a song by the American music duo Simon & Garfunkel. The song was written by Paul Simon over a period of several months in 1963 and 1964. [1][3]\n",
      "Group (2): The song had earlier been released in an acoustic version on the album \"Wednesday Morning, 3 A.M.\", and later on the soundtrack to the movie \"The Graduate\". [2]\n",
      "-----question-----\n",
      "Who is the original artist of sound of silence?\n",
      "-----answer-----\n",
      "There are several songs with the title \"Sound of Silence\". Sounds of Silence is the second studio album by Simon & Garfunkel, released on January 17, 1966. The album's title is a slight modification of the title of the duo's first major hit, \"The Sound of Silence\", which was recorded in March 1964 and originally was released as \"The Sounds of Silence\". Another \"Sound of Silence\" is a song performed by Australian recording artist Dami Im, and is best known as Australia's entry at the Eurovision Song Contest 2016.\n",
      "-----generation-----\n",
      "\"The Sound of Silence\", originally \"The Sounds of Silence\", was written by Paul Simon [1][3] (1). The song was performed by the American music duo Simon & Garfunkel and was released in an acoustic version on the album \"Wednesday Morning, 3 A.M.\" [2] (2).\n",
      "-----vanilla_output-----\n",
      "The original artist of \"The Sound of Silence\" is the American music duo Simon & Garfunkel [1].\n"
     ]
    }
   ],
   "source": [
    "show_example_all(1)"
   ]
  },
  {
   "cell_type": "code",
   "execution_count": null,
   "id": "11ebde7d-c7a7-404f-a30a-c079d8cbf5eb",
   "metadata": {},
   "outputs": [],
   "source": []
  },
  {
   "cell_type": "code",
   "execution_count": 59,
   "id": "b45b546b-7c98-4d4d-bf03-e218eedd4168",
   "metadata": {
    "tags": []
   },
   "outputs": [
    {
     "data": {
      "application/vnd.jupyter.widget-view+json": {
       "model_id": "be1decbf967f47f794b32ba368a7638e",
       "version_major": 2,
       "version_minor": 0
      },
      "text/plain": [
       "Batches:   0%|          | 0/4 [00:00<?, ?it/s]"
      ]
     },
     "metadata": {},
     "output_type": "display_data"
    },
    {
     "data": {
      "application/vnd.jupyter.widget-view+json": {
       "model_id": "4d2451adbbed4a79a4725bd5f7b1bc32",
       "version_major": 2,
       "version_minor": 0
      },
      "text/plain": [
       "Batches:   0%|          | 0/1 [00:00<?, ?it/s]"
      ]
     },
     "metadata": {},
     "output_type": "display_data"
    },
    {
     "data": {
      "application/vnd.jupyter.widget-view+json": {
       "model_id": "9314c19822b64df28512f6eb5be7d41f",
       "version_major": 2,
       "version_minor": 0
      },
      "text/plain": [
       "Batches:   0%|          | 0/1 [00:00<?, ?it/s]"
      ]
     },
     "metadata": {},
     "output_type": "display_data"
    },
    {
     "name": "stderr",
     "output_type": "stream",
     "text": [
      "2024-03-05 19:19:22,732 - INFO - Running AutoAIS...\n",
      "2024-03-05 19:19:22,799 - INFO - Running AutoAIS...\n",
      "Token indices sequence length is longer than the specified maximum sequence length for this model (1818 > 1024). Running this sequence through the model will result in indexing errors\n"
     ]
    }
   ],
   "source": [
    "closedbook_phc_repred_output = soprompt.generate(eval_data[1], mode='closedbook_phc_repred',\n",
    "                                          return_dict=True,\n",
    "                                         external=external)"
   ]
  },
  {
   "cell_type": "code",
   "execution_count": 60,
   "id": "dfafbe30-29a1-4079-805d-285255f3969f",
   "metadata": {
    "tags": []
   },
   "outputs": [
    {
     "data": {
      "text/plain": [
       "dict_keys(['qa_pairs', 'wikipages', 'annotations', 'sample_id', 'question', 'docs', 'answer', 'original_docs', 'posthoc_docs', 'entail', 'entail_prec', 'groups', 'groups_str', 'groupgen_prompt', 'groupgen_prompt_len', 'generation', 'grouppred_prompt', 'grouppred_prompt_len', 'sents', 'postcite_generation', 'best_doc_ids', 'best_docs'])"
      ]
     },
     "execution_count": 60,
     "metadata": {},
     "output_type": "execute_result"
    }
   ],
   "source": [
    "closedbook_phc_repred_output.keys()"
   ]
  },
  {
   "cell_type": "code",
   "execution_count": 61,
   "id": "8cd95458-0941-4333-9388-4c49881367a8",
   "metadata": {
    "tags": []
   },
   "outputs": [
    {
     "data": {
      "text/plain": [
       "(2, 1)"
      ]
     },
     "execution_count": 61,
     "metadata": {},
     "output_type": "execute_result"
    }
   ],
   "source": [
    "len(closedbook_phc_repred_output['best_docs']), len(closedbook_phc_repred_output['posthoc_docs'])"
   ]
  },
  {
   "cell_type": "code",
   "execution_count": null,
   "id": "5dcaa167-e6fa-45ad-be80-b234a9b70d9b",
   "metadata": {},
   "outputs": [],
   "source": []
  },
  {
   "cell_type": "code",
   "execution_count": null,
   "id": "6442a03c-0f01-47d2-bda0-bb7a7cf1f6b3",
   "metadata": {},
   "outputs": [],
   "source": [
    "closedbook_phc_repred_output"
   ]
  },
  {
   "cell_type": "code",
   "execution_count": 55,
   "id": "7103b117-a02c-44fd-afbd-92dce480f968",
   "metadata": {
    "tags": []
   },
   "outputs": [],
   "source": [
    "closedbook_output = soprompt.generate(eval_data[0], mode='closedbook')"
   ]
  },
  {
   "cell_type": "code",
   "execution_count": 46,
   "id": "29181005-fc3d-4090-992a-830e3fee1ea8",
   "metadata": {
    "tags": []
   },
   "outputs": [
    {
     "data": {
      "text/plain": [
       "'The player with the highest number of goals in world football is disputed, as different sources have different statistics. However, according to the Guinness World Records, the player with the most official goals in football history is Josef Bican, who scored an estimated 805 goals in 530 matches [1]. Other sources claim that Brazilian player Pelé scored 1281 goals in 1363 games, including unofficial matches [2]. Another player often mentioned in the discussion is Lionel Messi, who has scored over 700 goals in his career [3].'"
      ]
     },
     "execution_count": 46,
     "metadata": {},
     "output_type": "execute_result"
    }
   ],
   "source": [
    "closedbook_output"
   ]
  },
  {
   "cell_type": "code",
   "execution_count": 68,
   "id": "7927e37d-a9f6-42cb-8666-4aeca04d10e8",
   "metadata": {
    "tags": []
   },
   "outputs": [
    {
     "data": {
      "application/vnd.jupyter.widget-view+json": {
       "model_id": "a735567405d04f4b873159e1f34fe166",
       "version_major": 2,
       "version_minor": 0
      },
      "text/plain": [
       "Batches:   0%|          | 0/4 [00:00<?, ?it/s]"
      ]
     },
     "metadata": {},
     "output_type": "display_data"
    },
    {
     "data": {
      "application/vnd.jupyter.widget-view+json": {
       "model_id": "54d96c27da23435d9ed18a5c30c71579",
       "version_major": 2,
       "version_minor": 0
      },
      "text/plain": [
       "Batches:   0%|          | 0/1 [00:00<?, ?it/s]"
      ]
     },
     "metadata": {},
     "output_type": "display_data"
    },
    {
     "data": {
      "application/vnd.jupyter.widget-view+json": {
       "model_id": "bebfede6068a4c1db9bed5b4948f1d81",
       "version_major": 2,
       "version_minor": 0
      },
      "text/plain": [
       "Batches:   0%|          | 0/1 [00:00<?, ?it/s]"
      ]
     },
     "metadata": {},
     "output_type": "display_data"
    }
   ],
   "source": [
    "closedbook_phc_output = soprompt.generate(eval_data[0], mode='closedbook_phc',\n",
    "                                          return_dict=True,\n",
    "                                         external=external)"
   ]
  },
  {
   "cell_type": "code",
   "execution_count": 70,
   "id": "8bec0aa6-da64-43b0-b3fe-3b72bdbcf6f0",
   "metadata": {
    "tags": []
   },
   "outputs": [
    {
     "data": {
      "text/plain": [
       "dict_keys(['qa_pairs', 'wikipages', 'annotations', 'sample_id', 'question', 'docs', 'answer', 'postcite_generation', 'best_doc_ids', 'best_docs'])"
      ]
     },
     "execution_count": 70,
     "metadata": {},
     "output_type": "execute_result"
    }
   ],
   "source": [
    "closedbook_phc_output.keys()"
   ]
  },
  {
   "cell_type": "code",
   "execution_count": 71,
   "id": "98217918-f32c-473b-b767-33fda735b6a5",
   "metadata": {
    "tags": []
   },
   "outputs": [
    {
     "data": {
      "text/plain": [
       "'[1] As of October 2021, the football player with the highest number of goals in the world is Lionel Messi, with a total of 754 goals. [74] He surpassed the previous record held by Brazilian player Pele in December 2020.'"
      ]
     },
     "execution_count": 71,
     "metadata": {},
     "output_type": "execute_result"
    }
   ],
   "source": [
    "closedbook_phc_output['postcite_generation']"
   ]
  },
  {
   "cell_type": "code",
   "execution_count": 72,
   "id": "933a2bd7-37c8-48ea-b2b8-ff605356cdfe",
   "metadata": {
    "tags": []
   },
   "outputs": [
    {
     "data": {
      "text/plain": [
       "[{'id': '6669150',\n",
       "  'title': 'Argentina–Brazil football rivalry',\n",
       "  'text': '\"Football Player of the Century\", by IFFHS International Federation of Football History and Statistics, 1999, \"South America Football Player of the Century\", by IFFHS International Federation of Football History and Statistics. Pelé\\'s 1281 goals are recognized by FIFA as the highest total achieved by a professional footballer, although the Soccer Statistic Foundation (rssf) recognizes only 767 goals in official mode, occupying the third place after Josef Bican (805) and Romario (772). For his part, Maradona has been named the best soccer player in World Cup history both by The Times and FourFourTwo, publication that also rewarded him as the \"Best',\n",
       "  'score': 0.73388671875,\n",
       "  'summary': 'Pelé holds the record for the highest total goals achieved by a professional footballer with 1281 goals, recognized by FIFA. However, the Soccer Statistic Foundation recognizes only 767 goals in official mode, with Josef Bican and Romario having higher counts. Maradona has been named the best soccer player in World Cup history.',\n",
       "  'extraction': \"Pelé's 1281 goals are recognized by FIFA as the highest total achieved by a professional footballer.\"},\n",
       " {'id': '19466850',\n",
       "  'title': 'Pelé statistics',\n",
       "  'text': 'Pelé statistics Pelé (Edson Arantes do Nascimento) is a retired professional football player. Pelé\\'s goalscoring record is often reported by FIFA as being 1281 goals in 1363 games. This figure includes goals scored by Pelé in friendly club matches, like international tours Pelé completed with Santos and the New York Cosmos, and a few games Pelé played in for the Brazilian armed forces teams during his national service in Brazil. He was listed in the \"Guinness World Records\" for most career goals scored in football his goalscoring record. The tables below record every goal Pelé scored in major club competitions',\n",
       "  'score': 0.671875}]"
      ]
     },
     "execution_count": 72,
     "metadata": {},
     "output_type": "execute_result"
    }
   ],
   "source": [
    "closedbook_phc_output['best_docs']"
   ]
  },
  {
   "cell_type": "code",
   "execution_count": 13,
   "id": "b6605bfc-9dc9-4e72-be07-d6eb7c46ca9f",
   "metadata": {
    "tags": []
   },
   "outputs": [
    {
     "name": "stderr",
     "output_type": "stream",
     "text": [
      "Token indices sequence length is longer than the specified maximum sequence length for this model (1739 > 1024). Running this sequence through the model will result in indexing errors\n"
     ]
    }
   ],
   "source": [
    "vanilla_output = soprompt.generate(eval_data[0], mode='vanilla')"
   ]
  },
  {
   "cell_type": "code",
   "execution_count": 14,
   "id": "fa82747d-702d-4991-b0a9-56266e40dc8d",
   "metadata": {
    "tags": []
   },
   "outputs": [
    {
     "data": {
      "text/plain": [
       "'According to FIFA, Pelé has scored the highest total of 1281 goals as a professional footballer, although the Soccer Statistic Foundation (rssf) recognizes only 767 goals in official mode, occupying the third place after Josef Bican (805) and Romario (772) [1]. However, the Football Association of Zambia claimed that Godfrey Chitalu scored 116 goals during the 1972 calendar year and 107 during the 1972 season, which is the highest official tally claimed by a national football association [2][3].'"
      ]
     },
     "execution_count": 14,
     "metadata": {},
     "output_type": "execute_result"
    }
   ],
   "source": [
    "vanilla_output"
   ]
  },
  {
   "cell_type": "code",
   "execution_count": 15,
   "id": "7200299d-4ecb-4214-a526-c9290edc128c",
   "metadata": {
    "tags": []
   },
   "outputs": [
    {
     "data": {
      "text/plain": [
       "'Who has the highest goals in world football?'"
      ]
     },
     "execution_count": 15,
     "metadata": {},
     "output_type": "execute_result"
    }
   ],
   "source": [
    "eval_data[0]['question']"
   ]
  },
  {
   "cell_type": "code",
   "execution_count": 16,
   "id": "cd76d8c3-27d0-41b4-95da-3f841bd88ab8",
   "metadata": {
    "tags": []
   },
   "outputs": [],
   "source": [
    "external_idx = find_external_docs_idx(eval_data[0]['question'], external)\n",
    "doc_list = external[external_idx]['docs']"
   ]
  },
  {
   "cell_type": "code",
   "execution_count": 18,
   "id": "4e0dad1d-1e55-4382-9065-cc90aceef665",
   "metadata": {
    "tags": []
   },
   "outputs": [
    {
     "data": {
      "application/vnd.jupyter.widget-view+json": {
       "model_id": "5add0d2c757d4b1db42be6fc5ee05c93",
       "version_major": 2,
       "version_minor": 0
      },
      "text/plain": [
       "Batches:   0%|          | 0/4 [00:00<?, ?it/s]"
      ]
     },
     "metadata": {},
     "output_type": "display_data"
    }
   ],
   "source": [
    "searcher = SearcherWithinDocs(doc_list, args.retriever, model=gtr_model, device=args.retriever_device)"
   ]
  },
  {
   "cell_type": "code",
   "execution_count": 28,
   "id": "2bafc568-0909-488b-ae27-19beed21706c",
   "metadata": {
    "tags": []
   },
   "outputs": [
    {
     "name": "stdout",
     "output_type": "stream",
     "text": [
      "\n",
      "-----\n",
      "Original sentence: According to FIFA, Pelé has scored the highest total of 1281 goals as a professional footballer, although the Soccer Statistic Foundation (rssf) recognizes only 767 goals in official mode, occupying the third place after Josef Bican (805) and Romario (772) [1].\n",
      "Original ref: [0]\n"
     ]
    },
    {
     "data": {
      "application/vnd.jupyter.widget-view+json": {
       "model_id": "9ccfe73487d543c490d79cb7bd036b5a",
       "version_major": 2,
       "version_minor": 0
      },
      "text/plain": [
       "Batches:   0%|          | 0/1 [00:00<?, ?it/s]"
      ]
     },
     "metadata": {},
     "output_type": "display_data"
    },
    {
     "name": "stdout",
     "output_type": "stream",
     "text": [
      "New ref: 0\n",
      "New sentence: [1] According to FIFA, Pelé has scored the highest total of 1281 goals as a professional footballer, although the Soccer Statistic Foundation (rssf) recognizes only 767 goals in official mode, occupying the third place after Josef Bican (805) and Romario (772).\n",
      "\n",
      "-----\n",
      "Original sentence: However, the Football Association of Zambia claimed that Godfrey Chitalu scored 116 goals during the 1972 calendar year and 107 during the 1972 season, which is the highest official tally claimed by a national football association [2][3].\n",
      "Original ref: [1, 2]\n"
     ]
    },
    {
     "data": {
      "application/vnd.jupyter.widget-view+json": {
       "model_id": "2db18fc8194a473e81528a0da4ad1408",
       "version_major": 2,
       "version_minor": 0
      },
      "text/plain": [
       "Batches:   0%|          | 0/1 [00:00<?, ?it/s]"
      ]
     },
     "metadata": {},
     "output_type": "display_data"
    },
    {
     "name": "stdout",
     "output_type": "stream",
     "text": [
      "New ref: 1\n",
      "New sentence: [2] However, the Football Association of Zambia claimed that Godfrey Chitalu scored 116 goals during the 1972 calendar year and 107 during the 1972 season, which is the highest official tally claimed by a national football association.\n",
      "Final output: [1] According to FIFA, Pelé has scored the highest total of 1281 goals as a professional footballer, although the Soccer Statistic Foundation (rssf) recognizes only 767 goals in official mode, occupying the third place after Josef Bican (805) and Romario (772). [2] However, the Football Association of Zambia claimed that Godfrey Chitalu scored 116 goals during the 1972 calendar year and 107 during the 1972 season, which is the highest official tally claimed by a national football association.\n"
     ]
    }
   ],
   "source": [
    "eva_item = eval_data[0]\n",
    "output = vanilla_output.strip().split(\"\\n\")[0] # Remove new lines and content after\n",
    "output = vanilla_output.replace(\"<|im_end|>\", \"\")\n",
    "if \"qampari\" in args.dataset_name:\n",
    "    sents = [eva_item['question'] + ' ' + x.strip() for x in vanilla_output.rstrip(\".\").split(\",\")]\n",
    "else:\n",
    "    sents = sent_tokenize(output)\n",
    "\n",
    "new_output = \"\"\n",
    "for sent in sents:\n",
    "    original_ref = [int(r[1:])-1 for r in re.findall(r\"\\[\\d+\", sent)] \n",
    "\n",
    "    if len(original_ref) == 0 or args.overwrite:\n",
    "        print(\"\\n-----\")\n",
    "        print(\"Original sentence:\", sent)\n",
    "        print(\"Original ref:\", original_ref)\n",
    "        sent = remove_citations(sent)\n",
    "        best_doc_id = searcher.search(sent)\n",
    "        print(\"New ref:\", best_doc_id)\n",
    "        sent = f\"[{best_doc_id+1}] \" + sent\n",
    "        print(\"New sentence:\", sent)\n",
    "        if \"qampari\" in args.dataset_name:\n",
    "            new_output += sent.replace(eva_item['question'], '').strip() + \", \"\n",
    "        else:\n",
    "            new_output += sent + \" \"\n",
    "    else:\n",
    "        if \"qampari\" in args.dataset_name:\n",
    "            new_output += sent.replace(eva_item['question'], '').strip() + \", \"\n",
    "        else:\n",
    "            new_output += sent + \" \"\n",
    "\n",
    "vanilla_output_phc = new_output.rstrip().rstrip(\",\")\n",
    "print(\"Final output: \" + vanilla_output_phc)"
   ]
  },
  {
   "cell_type": "code",
   "execution_count": null,
   "id": "520ecf74-a82b-4e18-81da-bef8ec4d4260",
   "metadata": {},
   "outputs": [],
   "source": []
  },
  {
   "cell_type": "code",
   "execution_count": null,
   "id": "bc131380-02f4-47e8-a6d9-109e34345d69",
   "metadata": {},
   "outputs": [],
   "source": []
  },
  {
   "cell_type": "code",
   "execution_count": null,
   "id": "04159507-1d07-4cce-8fbf-3f285b867052",
   "metadata": {},
   "outputs": [],
   "source": []
  },
  {
   "cell_type": "code",
   "execution_count": 193,
   "id": "80ce5981-b2d6-46ea-9b69-8911fa7056f9",
   "metadata": {
    "tags": []
   },
   "outputs": [],
   "source": []
  },
  {
   "cell_type": "code",
   "execution_count": 194,
   "id": "974b15e6-75b6-46c3-9b4c-d5c862c342fa",
   "metadata": {
    "tags": []
   },
   "outputs": [],
   "source": []
  },
  {
   "cell_type": "code",
   "execution_count": 201,
   "id": "12fdb24e-2e7f-464e-9441-eca8c3977be8",
   "metadata": {
    "tags": []
   },
   "outputs": [],
   "source": []
  },
  {
   "cell_type": "code",
   "execution_count": 195,
   "id": "57491496-09ad-4c8c-a1f4-ce5a08c37892",
   "metadata": {
    "tags": []
   },
   "outputs": [
    {
     "name": "stdout",
     "output_type": "stream",
     "text": [
      "-----groupgen_prompt-----\n",
      "Instruction: Find groups of sentences from the documents that are useful for answering the given question. Each group should contain sentences from at least one and at most three documents, and should be standalone and can be understood out of context. Always copy the whole sentence, without modification, and add the document id it comes from, using [1][2][3]. If multiple sentences from one or more documents are stating the same fact, only use a minimum sufficient subset of sentences to form the group.\n",
      "\n",
      "Question: When did the us break away from england?\n",
      "\n",
      "Document [1](Title: United States withdrawal from Saudi Arabia): United States withdrawal from Saudi Arabia Beginning during Operation Desert Shield in August 1990, while preparing for the Gulf War, the United States sent a large troop contingent to Saudi Arabia. After the war, remnant troops, primarily U.S. Air Force personnel, augmented by a smaller number of coordinating and training personnel from the U.S. Navy, U.S. Army and U.S. Marine Corps remained in Saudi Arabia under the aegis of Joint Task Force Southwest Asia (JTF-SWA), as part of Operation Southern Watch (OSW). The United Kingdom and France also maintained a small contingent of Royal Air Force and French Air Force\n",
      "Document [2](Title: Decolonization of the Americas): and France has fully \"integrated\" most of its former colonies as fully constituent \"departments\" of France. The United States of America declared independence from Great Britain on July 2, 1776 (although the event is now commemorated on July 4, the date when the Declaration of Independence was officially adopted by Congress), in so doing becoming the first independent, foreign-recognized nation in the Americas and the first European colonial entity to break from its mother country. Britain formally acknowledged American independence in 1783 after its defeat in the American Revolutionary War. Although initially occupying only the land east of the Mississippi\n",
      "Document [3](Title: American Revolution): second British army at Yorktown in the fall of 1781, effectively ending the war. The Treaty of Paris was signed September 3, 1783, formally ending the conflict and confirming the new nation's complete separation from the British Empire. The United States took possession of nearly all the territory east of the Mississippi River and south of the Great Lakes, with the British retaining control of Canada and Spain taking Florida. Among the significant results of the revolution was the creation of the United States Constitution, establishing a relatively strong federal national government that included an executive, a national judiciary, and\n",
      "\n",
      "Groups:\n",
      "Group (1): The United States of America declared independence from Great Britain on July 2, 1776 (although the event is now commemorated on July 4, the date when the Declaration of Independence was officially adopted by Congress), in so doing becoming the first independent, foreign-recognized nation in the Americas and the first European colonial entity to break from its mother country. [2]\n",
      "Group (2): The Treaty of Paris was signed September 3, 1783, formally ending the conflict and confirming the new nation's complete separation from the British Empire. [3]\n",
      "\n",
      "\n",
      "\n",
      "Instruction: Find groups of sentences from the documents that are useful for answering the given question. Each group should contain sentences from at least one and at most three documents, and should be standalone and can be understood out of context. Always copy the whole sentence, without modification, and add the document id it comes from, using [1][2][3]. If multiple sentences from one or more documents are stating the same fact, only use a minimum sufficient subset of sentences to form the group.\n",
      "\n",
      "Question: Who played galen in planet of the apes?\n",
      "\n",
      "Document [1](Title: Planet of the Apes): installment. Jacobs died on June 27, 1973, bringing an end to the APJAC Productions era of the \"Planet of the Apes\" franchise. Former Fox executive Stan Hough took over as producer for the television project, titled \"Planet of the Apes\". CBS picked up the series for its 1974 autumn lineup. Ron Harper and James Naughton played Alan Virdon and Peter Burke, two 20th-century American astronauts who pass through a time warp to a future where apes subjugate humans (unlike the original film, the humans can speak). Roddy McDowall returned to the franchise as Galen, a chimpanzee who joins the astronauts.\n",
      "Document [2](Title: Planet of the Apes (1968 film)): chimpanzees: animal psychologist Zira (Kim Hunter) and surgeon Galen (Wright King). While unable to speak as his throat wound is healing, called \"Bright Eyes\" by Zira and placed with one of the captive primitive humans he later names \"Nova\", Taylor observes the enhanced society of talking apes and in a strict caste system: the gorillas being the military police, hunters and workers; the orangutans overseeing the affairs of government, science, and religion; and intellectual chimpanzees being mostly scientists. While their society is a theocracy similar to the beginnings of the human Industrial Era, the apes consider the primitive humans as\n",
      "Document [3](Title: Planet of the Apes (1968 film)): Planet of the Apes (1968 film) Planet of the Apes is a 1968 American science fiction film directed by Franklin J. Schaffner. It stars Charlton Heston, Roddy McDowall, Kim Hunter, Maurice Evans, James Whitmore, James Daly and Linda Harrison. The screenplay by Michael Wilson and Rod Serling was loosely based on the 1963 French novel \"La Planète des Singes\" by Pierre Boulle. Jerry Goldsmith composed the groundbreaking avant-garde score. It was the first in a series of five films made between 1968 and 1973, all produced by Arthur P. Jacobs and released by 20th Century Fox. The film tells the\n",
      "\n",
      "Groups:\n",
      "Group (1): chimpanzees: animal psychologist Zira (Kim Hunter) and surgeon Galen (Wright King). [2]\n",
      "Group (2): Former Fox executive Stan Hough took over as producer for the television project, titled \"Planet of the Apes\". CBS picked up the series for its 1974 autumn lineup. Roddy McDowall returned to the franchise as Galen, a chimpanzee who joins the astronauts. [1]\n",
      "\n",
      "\n",
      "\n",
      "Instruction: Find groups of sentences from the documents that are useful for answering the given question. Each group should contain sentences from at least one and at most three documents, and should be standalone and can be understood out of context. Always copy the whole sentence, without modification, and add the document id it comes from, using [1][2][3]. If multiple sentences from one or more documents are stating the same fact, only use a minimum sufficient subset of sentences to form the group.\n",
      "\n",
      "Question: Who has the highest goals in world football?\n",
      "\n",
      "Document [1](Title: Argentina–Brazil football rivalry): \"Football Player of the Century\", by IFFHS International Federation of Football History and Statistics, 1999, \"South America Football Player of the Century\", by IFFHS International Federation of Football History and Statistics. Pelé's 1281 goals are recognized by FIFA as the highest total achieved by a professional footballer, although the Soccer Statistic Foundation (rssf) recognizes only 767 goals in official mode, occupying the third place after Josef Bican (805) and Romario (772). For his part, Maradona has been named the best soccer player in World Cup history both by The Times and FourFourTwo, publication that also rewarded him as the \"Best\n",
      "Document [2](Title: Godfrey Chitalu): have beaten Gerd Müller's record of 85 goals in a year, the Football Association of Zambia claimed that the world record actually pertained to Godfrey Chitalu who had scored 116 goals (possibly 117) during the 1972 calendar year and 107 during the 1972 season. The difference of goals is due to first 9 goals being scored before the season officially started. The Football Association of Zambia presented the evidence to FIFA but a spokesperson responded that they would ratify neither Lionel Messi's nor Chitalu's records as they do not keep statistical track of domestic competitions. Nonetheless, it could constitute the\n",
      "Document [3](Title: Godfrey Chitalu): highest official tally claimed by a national football association. Chitalu made his international debut on 29 June 1968 in a friendly match against Uganda in Lusaka which Zambia won 2–1. He scored his first goal in a 2–2 draw against the same team five days later. Chitalu played a prominent role during the World Cup qualification matches against Sudan with Zambia being eliminated on a strange rule which was peculiar to Africa and favoured the team that won the second leg. Despite the aggregate score being tied at 6–6 after Zambia won the first leg 4–2 and lost the return\n",
      "\n",
      "Groups:\n",
      "-----grouppred_prompt-----\n",
      "Instruction: Write an accurate, engaging, and concise answer for the given question using only the provided groups of sentences extracted from search results and cite the original search results properly. Use an unbiased and journalistic tone. Always cite for any factual claim. When citing several search results, use [1][2][3] (1), where the last number indicates which group it comes from. Cite at least one document and at most three documents in each sentence. If multiple documents support the sentence, only cite a minimum sufficient subset of the documents. The citation numbers should already be provided after each sentence or sentences in the groups.\n",
      "\n",
      "Question: When did the us break away from england?\n",
      "\n",
      "Groups:\n",
      "Group (1): The United States of America declared independence from Great Britain on July 2, 1776 (although the event is now commemorated on July 4, the date when the Declaration of Independence was officially adopted by Congress), in so doing becoming the first independent, foreign-recognized nation in the Americas and the first European colonial entity to break from its mother country. [2]\n",
      "Group (2): The Treaty of Paris was signed September 3, 1783, formally ending the conflict and confirming the new nation's complete separation from the British Empire. [3]\n",
      "\n",
      "Answer:The United States took the first step towards gaining independence from Great Britain when it declared independence from Great Britain on July 2, 1776 (although the event is now commemorated on July 4, 1776, the date when the Declaration of Independence was officially adopted by Congress) [2] (1). The Treaty of Paris was later signed on September 3, 1783, formally separating the United States from the British Empire [3] (2).\n",
      "\n",
      "\n",
      "Instruction: Write an accurate, engaging, and concise answer for the given question using only the provided groups of sentences extracted from search results and cite the original search results properly. Use an unbiased and journalistic tone. Always cite for any factual claim. When citing several search results, use [1][2][3] (1), where the last number indicates which group it comes from. Cite at least one document and at most three documents in each sentence. If multiple documents support the sentence, only cite a minimum sufficient subset of the documents. The citation numbers should already be provided after each sentence or sentences in the groups.\n",
      "\n",
      "Question: Who played galen in planet of the apes?\n",
      "\n",
      "Groups:\n",
      "Group (1): chimpanzees: animal psychologist Zira (Kim Hunter) and surgeon Galen (Wright King). [2]\n",
      "Group (2): Former Fox executive Stan Hough took over as producer for the television project, titled \"Planet of the Apes\". CBS picked up the series for its 1974 autumn lineup. Roddy McDowall returned to the franchise as Galen, a chimpanzee who joins the astronauts. [1]\n",
      "\n",
      "Answer:In the 1968 film Planet of the Apes, Galen was played by Wright King [2] (1). And in the tv series Planet of the Apes, Galen was played by Roddy McDowall [1] (2).\n",
      "\n",
      "\n",
      "Instruction: Write an accurate, engaging, and concise answer for the given question using only the provided groups of sentences extracted from search results and cite the original search results properly. Use an unbiased and journalistic tone. Always cite for any factual claim. When citing several search results, use [1][2][3] (1), where the last number indicates which group it comes from. Cite at least one document and at most three documents in each sentence. If multiple documents support the sentence, only cite a minimum sufficient subset of the documents. The citation numbers should already be provided after each sentence or sentences in the groups.\n",
      "\n",
      "Question: Who has the highest goals in world football?\n",
      "\n",
      "Groups:\n",
      "Group (1):  Pelé's 1281 goals are recognized by FIFA as the highest total achieved by a professional footballer [1].\n",
      "Group (2):  The Football Association of Zambia claimed that Godfrey Chitalu had scored 116 goals (possibly 117) during the 1972 calendar year and 107 during the 1972 season, which could constitute the highest official tally claimed by a national football association [2][3].\n",
      "\n",
      "Answer:\n",
      "-----groups-----\n",
      "[\" Pelé's 1281 goals are recognized by FIFA as the highest total achieved by a professional footballer [1].\", ' The Football Association of Zambia claimed that Godfrey Chitalu had scored 116 goals (possibly 117) during the 1972 calendar year and 107 during the 1972 season, which could constitute the highest official tally claimed by a national football association [2][3].']\n",
      "-----groups_str-----\n",
      "Group (1): Pelé's 1281 goals are recognized by FIFA as the highest total achieved by a professional footballer [1].\n",
      "Group (2): The Football Association of Zambia claimed that Godfrey Chitalu had scored 116 goals (possibly 117) during the 1972 calendar year and 107 during the 1972 season, which could constitute the highest official tally claimed by a national football association [2][3].\n",
      "-----question-----\n",
      "Who has the highest goals in world football?\n",
      "-----answer-----\n",
      "The players with the highest all-time goals and highest men's and women's international football goals differ. The player with the highest all-time men's football goals is Josef Bican, who in 2020 was recognized by FIFA, the international governing body of football, as the record scorer with an estimated 805 goals. Christine Sinclair has the highest goals in women's international football with 187 and is the all-time leader for international goals scored for men or women. Cristiano Ronaldo and Ali Daei are currently tied for leading goalscorer in the history of men's international football with 109.\n",
      "-----generation-----\n",
      "According to FIFA, Pelé has the highest total number of goals scored by a professional footballer with 1281 goals [1] (1). However, the Football Association of Zambia claims that Godfrey Chitalu scored 116 goals during the 1972 calendar year and 107 during the 1972 season, which could constitute the highest official tally claimed by a national football association [2][3] (2).\n"
     ]
    }
   ],
   "source": [
    "soprompt_output_0 = show_example(0)"
   ]
  },
  {
   "cell_type": "code",
   "execution_count": 196,
   "id": "2a24e5e1-0108-440d-a7fd-051113e0a4a6",
   "metadata": {
    "tags": []
   },
   "outputs": [
    {
     "name": "stdout",
     "output_type": "stream",
     "text": [
      "-----vanilla_output-----\n",
      "According to FIFA, Pelé has the highest total of goals achieved by a professional footballer, with 1281 goals [1]. However, the Soccer Statistic Foundation (rssf) recognizes only 767 goals in official mode, placing Pelé in third place after Josef Bican (805) and Romario (772) [1]. While the Football Association of Zambia claims that Godfrey Chitalu scored 116 goals during the 1972 calendar year and 107 during the 1972 season, FIFA has not ratified this claim as they do not keep statistical track of domestic competitions [2][3].\n"
     ]
    }
   ],
   "source": [
    "vanilla_output_0 = show_example_vanilla(0)"
   ]
  },
  {
   "cell_type": "code",
   "execution_count": 197,
   "id": "610eb94c-c007-4528-8530-339322d46042",
   "metadata": {
    "tags": []
   },
   "outputs": [
    {
     "name": "stdout",
     "output_type": "stream",
     "text": [
      "-----groupgen_prompt-----\n",
      "Instruction: Find groups of sentences from the documents that are useful for answering the given question. Each group should contain sentences from at least one and at most three documents, and should be standalone and can be understood out of context. Always copy the whole sentence, without modification, and add the document id it comes from, using [1][2][3]. If multiple sentences from one or more documents are stating the same fact, only use a minimum sufficient subset of sentences to form the group.\n",
      "\n",
      "Question: When did the us break away from england?\n",
      "\n",
      "Document [1](Title: United States withdrawal from Saudi Arabia): United States withdrawal from Saudi Arabia Beginning during Operation Desert Shield in August 1990, while preparing for the Gulf War, the United States sent a large troop contingent to Saudi Arabia. After the war, remnant troops, primarily U.S. Air Force personnel, augmented by a smaller number of coordinating and training personnel from the U.S. Navy, U.S. Army and U.S. Marine Corps remained in Saudi Arabia under the aegis of Joint Task Force Southwest Asia (JTF-SWA), as part of Operation Southern Watch (OSW). The United Kingdom and France also maintained a small contingent of Royal Air Force and French Air Force\n",
      "Document [2](Title: Decolonization of the Americas): and France has fully \"integrated\" most of its former colonies as fully constituent \"departments\" of France. The United States of America declared independence from Great Britain on July 2, 1776 (although the event is now commemorated on July 4, the date when the Declaration of Independence was officially adopted by Congress), in so doing becoming the first independent, foreign-recognized nation in the Americas and the first European colonial entity to break from its mother country. Britain formally acknowledged American independence in 1783 after its defeat in the American Revolutionary War. Although initially occupying only the land east of the Mississippi\n",
      "Document [3](Title: American Revolution): second British army at Yorktown in the fall of 1781, effectively ending the war. The Treaty of Paris was signed September 3, 1783, formally ending the conflict and confirming the new nation's complete separation from the British Empire. The United States took possession of nearly all the territory east of the Mississippi River and south of the Great Lakes, with the British retaining control of Canada and Spain taking Florida. Among the significant results of the revolution was the creation of the United States Constitution, establishing a relatively strong federal national government that included an executive, a national judiciary, and\n",
      "\n",
      "Groups:\n",
      "Group (1): The United States of America declared independence from Great Britain on July 2, 1776 (although the event is now commemorated on July 4, the date when the Declaration of Independence was officially adopted by Congress), in so doing becoming the first independent, foreign-recognized nation in the Americas and the first European colonial entity to break from its mother country. [2]\n",
      "Group (2): The Treaty of Paris was signed September 3, 1783, formally ending the conflict and confirming the new nation's complete separation from the British Empire. [3]\n",
      "\n",
      "\n",
      "\n",
      "Instruction: Find groups of sentences from the documents that are useful for answering the given question. Each group should contain sentences from at least one and at most three documents, and should be standalone and can be understood out of context. Always copy the whole sentence, without modification, and add the document id it comes from, using [1][2][3]. If multiple sentences from one or more documents are stating the same fact, only use a minimum sufficient subset of sentences to form the group.\n",
      "\n",
      "Question: Who played galen in planet of the apes?\n",
      "\n",
      "Document [1](Title: Planet of the Apes): installment. Jacobs died on June 27, 1973, bringing an end to the APJAC Productions era of the \"Planet of the Apes\" franchise. Former Fox executive Stan Hough took over as producer for the television project, titled \"Planet of the Apes\". CBS picked up the series for its 1974 autumn lineup. Ron Harper and James Naughton played Alan Virdon and Peter Burke, two 20th-century American astronauts who pass through a time warp to a future where apes subjugate humans (unlike the original film, the humans can speak). Roddy McDowall returned to the franchise as Galen, a chimpanzee who joins the astronauts.\n",
      "Document [2](Title: Planet of the Apes (1968 film)): chimpanzees: animal psychologist Zira (Kim Hunter) and surgeon Galen (Wright King). While unable to speak as his throat wound is healing, called \"Bright Eyes\" by Zira and placed with one of the captive primitive humans he later names \"Nova\", Taylor observes the enhanced society of talking apes and in a strict caste system: the gorillas being the military police, hunters and workers; the orangutans overseeing the affairs of government, science, and religion; and intellectual chimpanzees being mostly scientists. While their society is a theocracy similar to the beginnings of the human Industrial Era, the apes consider the primitive humans as\n",
      "Document [3](Title: Planet of the Apes (1968 film)): Planet of the Apes (1968 film) Planet of the Apes is a 1968 American science fiction film directed by Franklin J. Schaffner. It stars Charlton Heston, Roddy McDowall, Kim Hunter, Maurice Evans, James Whitmore, James Daly and Linda Harrison. The screenplay by Michael Wilson and Rod Serling was loosely based on the 1963 French novel \"La Planète des Singes\" by Pierre Boulle. Jerry Goldsmith composed the groundbreaking avant-garde score. It was the first in a series of five films made between 1968 and 1973, all produced by Arthur P. Jacobs and released by 20th Century Fox. The film tells the\n",
      "\n",
      "Groups:\n",
      "Group (1): chimpanzees: animal psychologist Zira (Kim Hunter) and surgeon Galen (Wright King). [2]\n",
      "Group (2): Former Fox executive Stan Hough took over as producer for the television project, titled \"Planet of the Apes\". CBS picked up the series for its 1974 autumn lineup. Roddy McDowall returned to the franchise as Galen, a chimpanzee who joins the astronauts. [1]\n",
      "\n",
      "\n",
      "\n",
      "Instruction: Find groups of sentences from the documents that are useful for answering the given question. Each group should contain sentences from at least one and at most three documents, and should be standalone and can be understood out of context. Always copy the whole sentence, without modification, and add the document id it comes from, using [1][2][3]. If multiple sentences from one or more documents are stating the same fact, only use a minimum sufficient subset of sentences to form the group.\n",
      "\n",
      "Question: Who is the original artist of sound of silence?\n",
      "\n",
      "Document [1](Title: The Sound of Silence): The Sound of Silence \"The Sound of Silence\", originally \"The Sounds of Silence\", is a song by the American music duo Simon & Garfunkel. The song was written by Paul Simon over a period of several months in 1963 and 1964. A studio audition led to the duo signing a record deal with Columbia Records, and the song was recorded in March 1964 at Columbia Studios in New York City for inclusion on their debut album, \"Wednesday Morning, 3 A.M.\". Released in October 1964, the album was a commercial failure and led to the duo breaking apart, with Paul Simon\n",
      "Document [2](Title: Sounds of Silence): Sounds of Silence Sounds of Silence is the second studio album by Simon & Garfunkel, released on January 17, 1966. The album's title is a slight modification of the title of the duo's first major hit, \"The Sound of Silence\", which originally was released as \"The Sounds of Silence\". The song had earlier been released in an acoustic version on the album \"Wednesday Morning, 3 A.M.\", and later on the soundtrack to the movie \"The Graduate\". Without the knowledge of Paul Simon or Art Garfunkel, electric guitars, bass and drums were overdubbed by Columbia Records staff producer Tom Wilson on\n",
      "Document [3](Title: The Sound of Silence): downloadable content for the video game, \"Rock Band 4\". The Disturbed version was used in the episode \"Ian Garvey\" of \"The Blacklist\" in November 2017. Notes Bibliography The Sound of Silence \"The Sound of Silence\", originally \"The Sounds of Silence\", is a song by the American music duo Simon & Garfunkel. The song was written by Paul Simon over a period of several months in 1963 and 1964. A studio audition led to the duo signing a record deal with Columbia Records, and the song was recorded in March 1964 at Columbia Studios in New York City for inclusion on\n",
      "\n",
      "Groups:\n",
      "-----grouppred_prompt-----\n",
      "Instruction: Write an accurate, engaging, and concise answer for the given question using only the provided groups of sentences extracted from search results and cite the original search results properly. Use an unbiased and journalistic tone. Always cite for any factual claim. When citing several search results, use [1][2][3] (1), where the last number indicates which group it comes from. Cite at least one document and at most three documents in each sentence. If multiple documents support the sentence, only cite a minimum sufficient subset of the documents. The citation numbers should already be provided after each sentence or sentences in the groups.\n",
      "\n",
      "Question: When did the us break away from england?\n",
      "\n",
      "Groups:\n",
      "Group (1): The United States of America declared independence from Great Britain on July 2, 1776 (although the event is now commemorated on July 4, the date when the Declaration of Independence was officially adopted by Congress), in so doing becoming the first independent, foreign-recognized nation in the Americas and the first European colonial entity to break from its mother country. [2]\n",
      "Group (2): The Treaty of Paris was signed September 3, 1783, formally ending the conflict and confirming the new nation's complete separation from the British Empire. [3]\n",
      "\n",
      "Answer:The United States took the first step towards gaining independence from Great Britain when it declared independence from Great Britain on July 2, 1776 (although the event is now commemorated on July 4, 1776, the date when the Declaration of Independence was officially adopted by Congress) [2] (1). The Treaty of Paris was later signed on September 3, 1783, formally separating the United States from the British Empire [3] (2).\n",
      "\n",
      "\n",
      "Instruction: Write an accurate, engaging, and concise answer for the given question using only the provided groups of sentences extracted from search results and cite the original search results properly. Use an unbiased and journalistic tone. Always cite for any factual claim. When citing several search results, use [1][2][3] (1), where the last number indicates which group it comes from. Cite at least one document and at most three documents in each sentence. If multiple documents support the sentence, only cite a minimum sufficient subset of the documents. The citation numbers should already be provided after each sentence or sentences in the groups.\n",
      "\n",
      "Question: Who played galen in planet of the apes?\n",
      "\n",
      "Groups:\n",
      "Group (1): chimpanzees: animal psychologist Zira (Kim Hunter) and surgeon Galen (Wright King). [2]\n",
      "Group (2): Former Fox executive Stan Hough took over as producer for the television project, titled \"Planet of the Apes\". CBS picked up the series for its 1974 autumn lineup. Roddy McDowall returned to the franchise as Galen, a chimpanzee who joins the astronauts. [1]\n",
      "\n",
      "Answer:In the 1968 film Planet of the Apes, Galen was played by Wright King [2] (1). And in the tv series Planet of the Apes, Galen was played by Roddy McDowall [1] (2).\n",
      "\n",
      "\n",
      "Instruction: Write an accurate, engaging, and concise answer for the given question using only the provided groups of sentences extracted from search results and cite the original search results properly. Use an unbiased and journalistic tone. Always cite for any factual claim. When citing several search results, use [1][2][3] (1), where the last number indicates which group it comes from. Cite at least one document and at most three documents in each sentence. If multiple documents support the sentence, only cite a minimum sufficient subset of the documents. The citation numbers should already be provided after each sentence or sentences in the groups.\n",
      "\n",
      "Question: Who is the original artist of sound of silence?\n",
      "\n",
      "Groups:\n",
      "Group (1):  \"The Sound of Silence\", originally \"The Sounds of Silence\", is a song by the American music duo Simon & Garfunkel. The song was written by Paul Simon over a period of several months in 1963 and 1964. [1][3]\n",
      "Group (2):  \"The Sound of Silence\" is a song by the American music duo Simon & Garfunkel. [1]\n",
      "\n",
      "Answer:\n",
      "-----groups-----\n",
      "[' \"The Sound of Silence\", originally \"The Sounds of Silence\", is a song by the American music duo Simon & Garfunkel. The song was written by Paul Simon over a period of several months in 1963 and 1964. [1][3]', ' \"The Sound of Silence\" is a song by the American music duo Simon & Garfunkel. [1]']\n",
      "-----groups_str-----\n",
      "Group (1): \"The Sound of Silence\", originally \"The Sounds of Silence\", is a song by the American music duo Simon & Garfunkel. The song was written by Paul Simon over a period of several months in 1963 and 1964. [1][3]\n",
      "Group (2): \"The Sound of Silence\" is a song by the American music duo Simon & Garfunkel. [1]\n",
      "-----question-----\n",
      "Who is the original artist of sound of silence?\n",
      "-----answer-----\n",
      "There are several songs with the title \"Sound of Silence\". Sounds of Silence is the second studio album by Simon & Garfunkel, released on January 17, 1966. The album's title is a slight modification of the title of the duo's first major hit, \"The Sound of Silence\", which was recorded in March 1964 and originally was released as \"The Sounds of Silence\". Another \"Sound of Silence\" is a song performed by Australian recording artist Dami Im, and is best known as Australia's entry at the Eurovision Song Contest 2016.\n",
      "-----generation-----\n",
      "\"The Sound of Silence\" was originally written by Paul Simon over a period of several months in 1963 and 1964 [1][3] (1). The song was later recorded and released by Simon & Garfunkel [1] (2).\n"
     ]
    }
   ],
   "source": [
    "soprompt_output_1 = show_example(1)"
   ]
  },
  {
   "cell_type": "code",
   "execution_count": 198,
   "id": "aa5b8407-9b2f-413b-b9c1-e44f768b51b0",
   "metadata": {
    "tags": []
   },
   "outputs": [
    {
     "name": "stdout",
     "output_type": "stream",
     "text": [
      "-----vanilla_output-----\n",
      "The original artist of \"The Sound of Silence\" is the American music duo Simon & Garfunkel [1].\n"
     ]
    }
   ],
   "source": [
    "vanilla_output_1 = show_example_vanilla(1)"
   ]
  },
  {
   "cell_type": "code",
   "execution_count": 199,
   "id": "9549198d-ff4c-4bdd-8254-7687bb6ef00d",
   "metadata": {
    "tags": []
   },
   "outputs": [
    {
     "name": "stdout",
     "output_type": "stream",
     "text": [
      "-----groupgen_prompt-----\n",
      "Instruction: Find groups of sentences from the documents that are useful for answering the given question. Each group should contain sentences from at least one and at most three documents, and should be standalone and can be understood out of context. Always copy the whole sentence, without modification, and add the document id it comes from, using [1][2][3]. If multiple sentences from one or more documents are stating the same fact, only use a minimum sufficient subset of sentences to form the group.\n",
      "\n",
      "Question: When did the us break away from england?\n",
      "\n",
      "Document [1](Title: United States withdrawal from Saudi Arabia): United States withdrawal from Saudi Arabia Beginning during Operation Desert Shield in August 1990, while preparing for the Gulf War, the United States sent a large troop contingent to Saudi Arabia. After the war, remnant troops, primarily U.S. Air Force personnel, augmented by a smaller number of coordinating and training personnel from the U.S. Navy, U.S. Army and U.S. Marine Corps remained in Saudi Arabia under the aegis of Joint Task Force Southwest Asia (JTF-SWA), as part of Operation Southern Watch (OSW). The United Kingdom and France also maintained a small contingent of Royal Air Force and French Air Force\n",
      "Document [2](Title: Decolonization of the Americas): and France has fully \"integrated\" most of its former colonies as fully constituent \"departments\" of France. The United States of America declared independence from Great Britain on July 2, 1776 (although the event is now commemorated on July 4, the date when the Declaration of Independence was officially adopted by Congress), in so doing becoming the first independent, foreign-recognized nation in the Americas and the first European colonial entity to break from its mother country. Britain formally acknowledged American independence in 1783 after its defeat in the American Revolutionary War. Although initially occupying only the land east of the Mississippi\n",
      "Document [3](Title: American Revolution): second British army at Yorktown in the fall of 1781, effectively ending the war. The Treaty of Paris was signed September 3, 1783, formally ending the conflict and confirming the new nation's complete separation from the British Empire. The United States took possession of nearly all the territory east of the Mississippi River and south of the Great Lakes, with the British retaining control of Canada and Spain taking Florida. Among the significant results of the revolution was the creation of the United States Constitution, establishing a relatively strong federal national government that included an executive, a national judiciary, and\n",
      "\n",
      "Groups:\n",
      "Group (1): The United States of America declared independence from Great Britain on July 2, 1776 (although the event is now commemorated on July 4, the date when the Declaration of Independence was officially adopted by Congress), in so doing becoming the first independent, foreign-recognized nation in the Americas and the first European colonial entity to break from its mother country. [2]\n",
      "Group (2): The Treaty of Paris was signed September 3, 1783, formally ending the conflict and confirming the new nation's complete separation from the British Empire. [3]\n",
      "\n",
      "\n",
      "\n",
      "Instruction: Find groups of sentences from the documents that are useful for answering the given question. Each group should contain sentences from at least one and at most three documents, and should be standalone and can be understood out of context. Always copy the whole sentence, without modification, and add the document id it comes from, using [1][2][3]. If multiple sentences from one or more documents are stating the same fact, only use a minimum sufficient subset of sentences to form the group.\n",
      "\n",
      "Question: Who played galen in planet of the apes?\n",
      "\n",
      "Document [1](Title: Planet of the Apes): installment. Jacobs died on June 27, 1973, bringing an end to the APJAC Productions era of the \"Planet of the Apes\" franchise. Former Fox executive Stan Hough took over as producer for the television project, titled \"Planet of the Apes\". CBS picked up the series for its 1974 autumn lineup. Ron Harper and James Naughton played Alan Virdon and Peter Burke, two 20th-century American astronauts who pass through a time warp to a future where apes subjugate humans (unlike the original film, the humans can speak). Roddy McDowall returned to the franchise as Galen, a chimpanzee who joins the astronauts.\n",
      "Document [2](Title: Planet of the Apes (1968 film)): chimpanzees: animal psychologist Zira (Kim Hunter) and surgeon Galen (Wright King). While unable to speak as his throat wound is healing, called \"Bright Eyes\" by Zira and placed with one of the captive primitive humans he later names \"Nova\", Taylor observes the enhanced society of talking apes and in a strict caste system: the gorillas being the military police, hunters and workers; the orangutans overseeing the affairs of government, science, and religion; and intellectual chimpanzees being mostly scientists. While their society is a theocracy similar to the beginnings of the human Industrial Era, the apes consider the primitive humans as\n",
      "Document [3](Title: Planet of the Apes (1968 film)): Planet of the Apes (1968 film) Planet of the Apes is a 1968 American science fiction film directed by Franklin J. Schaffner. It stars Charlton Heston, Roddy McDowall, Kim Hunter, Maurice Evans, James Whitmore, James Daly and Linda Harrison. The screenplay by Michael Wilson and Rod Serling was loosely based on the 1963 French novel \"La Planète des Singes\" by Pierre Boulle. Jerry Goldsmith composed the groundbreaking avant-garde score. It was the first in a series of five films made between 1968 and 1973, all produced by Arthur P. Jacobs and released by 20th Century Fox. The film tells the\n",
      "\n",
      "Groups:\n",
      "Group (1): chimpanzees: animal psychologist Zira (Kim Hunter) and surgeon Galen (Wright King). [2]\n",
      "Group (2): Former Fox executive Stan Hough took over as producer for the television project, titled \"Planet of the Apes\". CBS picked up the series for its 1974 autumn lineup. Roddy McDowall returned to the franchise as Galen, a chimpanzee who joins the astronauts. [1]\n",
      "\n",
      "\n",
      "\n",
      "Instruction: Find groups of sentences from the documents that are useful for answering the given question. Each group should contain sentences from at least one and at most three documents, and should be standalone and can be understood out of context. Always copy the whole sentence, without modification, and add the document id it comes from, using [1][2][3]. If multiple sentences from one or more documents are stating the same fact, only use a minimum sufficient subset of sentences to form the group.\n",
      "\n",
      "Question: When was the first apple i phone made?\n",
      "\n",
      "Document [1](Title: IPhone (1st generation)): IPhone (1st generation) The iPhone (colloquially known as the iPhone 2G after 2008) is the first smartphone model designed and marketed by Apple Inc. After years of rumors and speculation, it was officially announced on January 9, 2007, and was later released in the United States on June 29, 2007. It featured quad-band GSM cellular connectivity with GPRS and EDGE support for data transfer. Development of the iPhone dated back to 2005, when former Apple CEO Steve Jobs conceptualized the idea of a device that users could directly interface with the display. The design was expanded upon over the next\n",
      "Document [2](Title: History of iPhone): mobile phone to use iTunes. Jobs was unhappy with the ROKR, feeling that having to compromise with a non-Apple designer (Motorola) prevented Apple from designing the phone they wanted to make. In September 2006, Apple discontinued support for the ROKR, and released a version of iTunes that included references to an as-yet unknown mobile phone that could display pictures and video. On January 9, 2007, Steve Jobs announced iPhone at the Macworld convention, receiving substantial media attention. Jobs announced that the first iPhone would be released later that year. On June 29, 2007, the first iPhone was released. On June\n",
      "Document [3](Title: History of Apple Inc.): just a computer company anymore. At the same address, Jobs revealed a product that would revolutionize an industry in which Apple had never previously competed: the Apple iPhone. The iPhone combined Apple's first widescreen iPod with the world's first mobile device boasting visual voicemail, and an internet communicator able to run a fully functional version of Apple's web browser, Safari, on the then-named (later renamed iOS). The first version of the iPhone became publicly available on June 29, 2007 in selected countries/markets. It was another 12 months before the iPhone 3G became available on July 11, 2008. Apple announced the\n",
      "\n",
      "Groups:\n",
      "-----grouppred_prompt-----\n",
      "Instruction: Write an accurate, engaging, and concise answer for the given question using only the provided groups of sentences extracted from search results and cite the original search results properly. Use an unbiased and journalistic tone. Always cite for any factual claim. When citing several search results, use [1][2][3] (1), where the last number indicates which group it comes from. Cite at least one document and at most three documents in each sentence. If multiple documents support the sentence, only cite a minimum sufficient subset of the documents. The citation numbers should already be provided after each sentence or sentences in the groups.\n",
      "\n",
      "Question: When did the us break away from england?\n",
      "\n",
      "Groups:\n",
      "Group (1): The United States of America declared independence from Great Britain on July 2, 1776 (although the event is now commemorated on July 4, the date when the Declaration of Independence was officially adopted by Congress), in so doing becoming the first independent, foreign-recognized nation in the Americas and the first European colonial entity to break from its mother country. [2]\n",
      "Group (2): The Treaty of Paris was signed September 3, 1783, formally ending the conflict and confirming the new nation's complete separation from the British Empire. [3]\n",
      "\n",
      "Answer:The United States took the first step towards gaining independence from Great Britain when it declared independence from Great Britain on July 2, 1776 (although the event is now commemorated on July 4, 1776, the date when the Declaration of Independence was officially adopted by Congress) [2] (1). The Treaty of Paris was later signed on September 3, 1783, formally separating the United States from the British Empire [3] (2).\n",
      "\n",
      "\n",
      "Instruction: Write an accurate, engaging, and concise answer for the given question using only the provided groups of sentences extracted from search results and cite the original search results properly. Use an unbiased and journalistic tone. Always cite for any factual claim. When citing several search results, use [1][2][3] (1), where the last number indicates which group it comes from. Cite at least one document and at most three documents in each sentence. If multiple documents support the sentence, only cite a minimum sufficient subset of the documents. The citation numbers should already be provided after each sentence or sentences in the groups.\n",
      "\n",
      "Question: Who played galen in planet of the apes?\n",
      "\n",
      "Groups:\n",
      "Group (1): chimpanzees: animal psychologist Zira (Kim Hunter) and surgeon Galen (Wright King). [2]\n",
      "Group (2): Former Fox executive Stan Hough took over as producer for the television project, titled \"Planet of the Apes\". CBS picked up the series for its 1974 autumn lineup. Roddy McDowall returned to the franchise as Galen, a chimpanzee who joins the astronauts. [1]\n",
      "\n",
      "Answer:In the 1968 film Planet of the Apes, Galen was played by Wright King [2] (1). And in the tv series Planet of the Apes, Galen was played by Roddy McDowall [1] (2).\n",
      "\n",
      "\n",
      "Instruction: Write an accurate, engaging, and concise answer for the given question using only the provided groups of sentences extracted from search results and cite the original search results properly. Use an unbiased and journalistic tone. Always cite for any factual claim. When citing several search results, use [1][2][3] (1), where the last number indicates which group it comes from. Cite at least one document and at most three documents in each sentence. If multiple documents support the sentence, only cite a minimum sufficient subset of the documents. The citation numbers should already be provided after each sentence or sentences in the groups.\n",
      "\n",
      "Question: When was the first apple i phone made?\n",
      "\n",
      "Groups:\n",
      "Group (1):  The iPhone (colloquially known as the iPhone 2G after 2008) is the first smartphone model designed and marketed by Apple Inc. After years of rumors and speculation, it was officially announced on January 9, 2007, and was later released in the United States on June 29, 2007. [1]\n",
      "Group (2):  On January 9, 2007, Steve Jobs announced iPhone at the Macworld convention, receiving substantial media attention. Jobs announced that the first iPhone would be released later that year. On June 29, 2007, the first iPhone was released. [2]\n",
      "\n",
      "Answer:\n",
      "-----groups-----\n",
      "[' The iPhone (colloquially known as the iPhone 2G after 2008) is the first smartphone model designed and marketed by Apple Inc. After years of rumors and speculation, it was officially announced on January 9, 2007, and was later released in the United States on June 29, 2007. [1]', ' On January 9, 2007, Steve Jobs announced iPhone at the Macworld convention, receiving substantial media attention. Jobs announced that the first iPhone would be released later that year. On June 29, 2007, the first iPhone was released. [2]']\n",
      "-----groups_str-----\n",
      "Group (1): The iPhone (colloquially known as the iPhone 2G after 2008) is the first smartphone model designed and marketed by Apple Inc. After years of rumors and speculation, it was officially announced on January 9, 2007, and was later released in the United States on June 29, 2007. [1]\n",
      "Group (2): On January 9, 2007, Steve Jobs announced iPhone at the Macworld convention, receiving substantial media attention. Jobs announced that the first iPhone would be released later that year. On June 29, 2007, the first iPhone was released. [2]\n",
      "-----question-----\n",
      "When was the first apple i phone made?\n",
      "-----answer-----\n",
      "There were several Apple iPhones, including the Apple iPhone beta and the Apple iPhone. The first Apple iPhone for beta testing, the Apple iPhone beta, was made in 2004. The iPhone beta was made to test the device and its functions but was never released to the public. The first Apple iPhone 1 was made and the first Apple iPhone was released on June 29, 2007.\n",
      "-----generation-----\n",
      "The first iPhone was officially announced by Apple Inc. on January 9, 2007 [1] (1) and was released in the United States on June 29, 2007 [1][2] (1)(2).\n"
     ]
    }
   ],
   "source": [
    "soprompt_output_2 = show_example(2)"
   ]
  },
  {
   "cell_type": "code",
   "execution_count": null,
   "id": "f41d8d74-024d-4669-9405-3e651ae24ac1",
   "metadata": {
    "tags": []
   },
   "outputs": [],
   "source": [
    "vanilla_output_2 = show_example_vanilla(2)"
   ]
  },
  {
   "cell_type": "code",
   "execution_count": null,
   "id": "efeae1a1-39f0-4635-a8aa-1ede28a85375",
   "metadata": {},
   "outputs": [],
   "source": []
  },
  {
   "cell_type": "code",
   "execution_count": 6,
   "id": "57eedba0-e938-4e4c-8c18-c726161017d7",
   "metadata": {
    "tags": []
   },
   "outputs": [],
   "source": [
    "# Generate the demonstration part\n",
    "head_prompt = \"\"\n",
    "train_ids = np.random.choice(len(prompt_data[\"demos\"]), args.shot, replace=False)\n",
    "for train_id in train_ids:\n",
    "    train_item = prompt_data[\"demos\"][train_id]\n",
    "    ndoc = args.ndoc\n",
    "    if args.no_doc_in_demo:\n",
    "        ndoc = 0\n",
    "    elif args.fewer_doc_in_demo:\n",
    "        assert args.ndoc_in_demo is not None\n",
    "        ndoc = args.ndoc_in_demo\n",
    "    head_prompt += make_demo(\n",
    "        train_item, prompt=prompt_data[\"demo_prompt\"], ndoc=ndoc, doc_prompt=prompt_data[\"doc_prompt\"], \n",
    "        instruction=prompt_data[\"instruction\"], use_shorter=args.use_shorter \n",
    "    )\n",
    "    head_prompt += prompt_data[\"demo_sep\"]"
   ]
  },
  {
   "cell_type": "code",
   "execution_count": 16,
   "id": "b48d879a-b834-470e-bdc5-9244ce98844e",
   "metadata": {
    "tags": []
   },
   "outputs": [
    {
     "data": {
      "text/plain": [
       "'{INST}\\n\\nQuestion: {Q}\\n\\n{D}\\nAnswer: {A}'"
      ]
     },
     "execution_count": 16,
     "metadata": {},
     "output_type": "execute_result"
    }
   ],
   "source": [
    "prompt_data[\"demo_prompt\"]"
   ]
  },
  {
   "cell_type": "code",
   "execution_count": 11,
   "id": "2d82bd62-4bfc-45eb-8255-d62378559063",
   "metadata": {
    "tags": []
   },
   "outputs": [
    {
     "data": {
      "text/plain": [
       "'Instruction: Write an accurate, engaging, and concise answer for the given question using only the provided search results (some of which might be irrelevant) and cite them properly. Use an unbiased and journalistic tone. Always cite for any factual claim. When citing several search results, use [1][2][3]. Cite at least one document and at most three documents in each sentence. If multiple documents support the sentence, only cite a minimum sufficient subset of the documents.\\n\\nQuestion: When did the us break away from england?\\n\\nDocument [1](Title: United States withdrawal from Saudi Arabia): United States withdrawal from Saudi Arabia Beginning during Operation Desert Shield in August 1990, while preparing for the Gulf War, the United States sent a large troop contingent to Saudi Arabia. After the war, remnant troops, primarily U.S. Air Force personnel, augmented by a smaller number of coordinating and training personnel from the U.S. Navy, U.S. Army and U.S. Marine Corps remained in Saudi Arabia under the aegis of Joint Task Force Southwest Asia (JTF-SWA), as part of Operation Southern Watch (OSW). The United Kingdom and France also maintained a small contingent of Royal Air Force and French Air Force\\nDocument [2](Title: Decolonization of the Americas): and France has fully \"integrated\" most of its former colonies as fully constituent \"departments\" of France. The United States of America declared independence from Great Britain on July 2, 1776 (although the event is now commemorated on July 4, the date when the Declaration of Independence was officially adopted by Congress), in so doing becoming the first independent, foreign-recognized nation in the Americas and the first European colonial entity to break from its mother country. Britain formally acknowledged American independence in 1783 after its defeat in the American Revolutionary War. Although initially occupying only the land east of the Mississippi\\nDocument [3](Title: American Revolution): second British army at Yorktown in the fall of 1781, effectively ending the war. The Treaty of Paris was signed September 3, 1783, formally ending the conflict and confirming the new nation\\'s complete separation from the British Empire. The United States took possession of nearly all the territory east of the Mississippi River and south of the Great Lakes, with the British retaining control of Canada and Spain taking Florida. Among the significant results of the revolution was the creation of the United States Constitution, establishing a relatively strong federal national government that included an executive, a national judiciary, and\\n\\nAnswer:The United States took the first step towards gaining independence from Great Britain when it declared independence from Great Britain on July 2, 1776 (although the event is now commemorated on July 4, 1776, the date when the Declaration of Independence was officially adopted by Congress) [2]. The Treaty of Paris was later signed on September 3, 1783, formally separating the United States from the British Empire [3].\\n\\n\\nInstruction: Write an accurate, engaging, and concise answer for the given question using only the provided search results (some of which might be irrelevant) and cite them properly. Use an unbiased and journalistic tone. Always cite for any factual claim. When citing several search results, use [1][2][3]. Cite at least one document and at most three documents in each sentence. If multiple documents support the sentence, only cite a minimum sufficient subset of the documents.\\n\\nQuestion: Who played galen in planet of the apes?\\n\\nDocument [1](Title: Planet of the Apes): installment. Jacobs died on June 27, 1973, bringing an end to the APJAC Productions era of the \"Planet of the Apes\" franchise. Former Fox executive Stan Hough took over as producer for the television project, titled \"Planet of the Apes\". CBS picked up the series for its 1974 autumn lineup. Ron Harper and James Naughton played Alan Virdon and Peter Burke, two 20th-century American astronauts who pass through a time warp to a future where apes subjugate humans (unlike the original film, the humans can speak). Roddy McDowall returned to the franchise as Galen, a chimpanzee who joins the astronauts.\\nDocument [2](Title: Planet of the Apes (1968 film)): chimpanzees: animal psychologist Zira (Kim Hunter) and surgeon Galen (Wright King). While unable to speak as his throat wound is healing, called \"Bright Eyes\" by Zira and placed with one of the captive primitive humans he later names \"Nova\", Taylor observes the enhanced society of talking apes and in a strict caste system: the gorillas being the military police, hunters and workers; the orangutans overseeing the affairs of government, science, and religion; and intellectual chimpanzees being mostly scientists. While their society is a theocracy similar to the beginnings of the human Industrial Era, the apes consider the primitive humans as\\nDocument [3](Title: Planet of the Apes (1968 film)): Planet of the Apes (1968 film) Planet of the Apes is a 1968 American science fiction film directed by Franklin J. Schaffner. It stars Charlton Heston, Roddy McDowall, Kim Hunter, Maurice Evans, James Whitmore, James Daly and Linda Harrison. The screenplay by Michael Wilson and Rod Serling was loosely based on the 1963 French novel \"La Planète des Singes\" by Pierre Boulle. Jerry Goldsmith composed the groundbreaking avant-garde score. It was the first in a series of five films made between 1968 and 1973, all produced by Arthur P. Jacobs and released by 20th Century Fox. The film tells the\\n\\nAnswer:In the 1968 film Planet of the Apes, Galen was played by Wright King [2]. And in the tv series Planet of the Apes, Galen was played by Roddy McDowall [1].\\n\\n\\n'"
      ]
     },
     "execution_count": 11,
     "metadata": {},
     "output_type": "execute_result"
    }
   ],
   "source": [
    "head_prompt"
   ]
  },
  {
   "cell_type": "code",
   "execution_count": 13,
   "id": "8b6d19b7-7a57-493c-b12e-62848e0e56e1",
   "metadata": {
    "tags": []
   },
   "outputs": [
    {
     "data": {
      "text/plain": [
       "'Instruction: Write an accurate, engaging, and concise answer for the given question using only the provided search results (some of which might be irrelevant) and cite them properly. Use an unbiased and journalistic tone. Always cite for any factual claim. When citing several search results, use [1][2][3]. Cite at least one document and at most three documents in each sentence. If multiple documents support the sentence, only cite a minimum sufficient subset of the documents.\\n\\nQuestion: Who played galen in planet of the apes?\\n\\nDocument [1](Title: Planet of the Apes): installment. Jacobs died on June 27, 1973, bringing an end to the APJAC Productions era of the \"Planet of the Apes\" franchise. Former Fox executive Stan Hough took over as producer for the television project, titled \"Planet of the Apes\". CBS picked up the series for its 1974 autumn lineup. Ron Harper and James Naughton played Alan Virdon and Peter Burke, two 20th-century American astronauts who pass through a time warp to a future where apes subjugate humans (unlike the original film, the humans can speak). Roddy McDowall returned to the franchise as Galen, a chimpanzee who joins the astronauts.\\nDocument [2](Title: Planet of the Apes (1968 film)): chimpanzees: animal psychologist Zira (Kim Hunter) and surgeon Galen (Wright King). While unable to speak as his throat wound is healing, called \"Bright Eyes\" by Zira and placed with one of the captive primitive humans he later names \"Nova\", Taylor observes the enhanced society of talking apes and in a strict caste system: the gorillas being the military police, hunters and workers; the orangutans overseeing the affairs of government, science, and religion; and intellectual chimpanzees being mostly scientists. While their society is a theocracy similar to the beginnings of the human Industrial Era, the apes consider the primitive humans as\\nDocument [3](Title: Planet of the Apes (1968 film)): Planet of the Apes (1968 film) Planet of the Apes is a 1968 American science fiction film directed by Franklin J. Schaffner. It stars Charlton Heston, Roddy McDowall, Kim Hunter, Maurice Evans, James Whitmore, James Daly and Linda Harrison. The screenplay by Michael Wilson and Rod Serling was loosely based on the 1963 French novel \"La Planète des Singes\" by Pierre Boulle. Jerry Goldsmith composed the groundbreaking avant-garde score. It was the first in a series of five films made between 1968 and 1973, all produced by Arthur P. Jacobs and released by 20th Century Fox. The film tells the\\n\\nAnswer:In the 1968 film Planet of the Apes, Galen was played by Wright King [2]. And in the tv series Planet of the Apes, Galen was played by Roddy McDowall [1].'"
      ]
     },
     "execution_count": 13,
     "metadata": {},
     "output_type": "execute_result"
    }
   ],
   "source": [
    "make_demo(\n",
    "        train_item, prompt=prompt_data[\"demo_prompt\"], ndoc=ndoc, doc_prompt=prompt_data[\"doc_prompt\"], \n",
    "        instruction=prompt_data[\"instruction\"], use_shorter=args.use_shorter \n",
    "    )"
   ]
  },
  {
   "cell_type": "code",
   "execution_count": 14,
   "id": "1c834907-86ef-4bb0-ad67-561b8b8c32c5",
   "metadata": {
    "tags": []
   },
   "outputs": [
    {
     "data": {
      "text/plain": [
       "dict_keys(['qa_pairs', 'wikipages', 'annotations', 'sample_id', 'question', 'docs', 'answer', 'prompt', 'output'])"
      ]
     },
     "execution_count": 14,
     "metadata": {},
     "output_type": "execute_result"
    }
   ],
   "source": [
    "eval_data[0].keys()"
   ]
  },
  {
   "cell_type": "code",
   "execution_count": 15,
   "id": "a9ad1e96-0497-493a-adba-903e64c6d8b9",
   "metadata": {
    "tags": []
   },
   "outputs": [
    {
     "name": "stderr",
     "output_type": "stream",
     "text": [
      "2024-02-27 20:22:48,185 - INFO - Generating prompts...\n",
      "100%|██████████| 1/1 [00:00<00:00, 15196.75it/s]\n",
      "2024-02-27 20:22:48,187 - INFO - Done.\n"
     ]
    },
    {
     "name": "stdout",
     "output_type": "stream",
     "text": [
      "Instruction: Write an accurate, engaging, and concise answer for the given question using only the provided search results (some of which might be irrelevant) and cite them properly. Use an unbiased and journalistic tone. Always cite for any factual claim. When citing several search results, use [1][2][3]. Cite at least one document and at most three documents in each sentence. If multiple documents support the sentence, only cite a minimum sufficient subset of the documents.\n",
      "\n",
      "Question: When did the us break away from england?\n",
      "\n",
      "Document [1](Title: United States withdrawal from Saudi Arabia): United States withdrawal from Saudi Arabia Beginning during Operation Desert Shield in August 1990, while preparing for the Gulf War, the United States sent a large troop contingent to Saudi Arabia. After the war, remnant troops, primarily U.S. Air Force personnel, augmented by a smaller number of coordinating and training personnel from the U.S. Navy, U.S. Army and U.S. Marine Corps remained in Saudi Arabia under the aegis of Joint Task Force Southwest Asia (JTF-SWA), as part of Operation Southern Watch (OSW). The United Kingdom and France also maintained a small contingent of Royal Air Force and French Air Force\n",
      "Document [2](Title: Decolonization of the Americas): and France has fully \"integrated\" most of its former colonies as fully constituent \"departments\" of France. The United States of America declared independence from Great Britain on July 2, 1776 (although the event is now commemorated on July 4, the date when the Declaration of Independence was officially adopted by Congress), in so doing becoming the first independent, foreign-recognized nation in the Americas and the first European colonial entity to break from its mother country. Britain formally acknowledged American independence in 1783 after its defeat in the American Revolutionary War. Although initially occupying only the land east of the Mississippi\n",
      "Document [3](Title: American Revolution): second British army at Yorktown in the fall of 1781, effectively ending the war. The Treaty of Paris was signed September 3, 1783, formally ending the conflict and confirming the new nation's complete separation from the British Empire. The United States took possession of nearly all the territory east of the Mississippi River and south of the Great Lakes, with the British retaining control of Canada and Spain taking Florida. Among the significant results of the revolution was the creation of the United States Constitution, establishing a relatively strong federal national government that included an executive, a national judiciary, and\n",
      "\n",
      "Answer:The United States took the first step towards gaining independence from Great Britain when it declared independence from Great Britain on July 2, 1776 (although the event is now commemorated on July 4, 1776, the date when the Declaration of Independence was officially adopted by Congress) [2]. The Treaty of Paris was later signed on September 3, 1783, formally separating the United States from the British Empire [3].\n",
      "\n",
      "\n",
      "Instruction: Write an accurate, engaging, and concise answer for the given question using only the provided search results (some of which might be irrelevant) and cite them properly. Use an unbiased and journalistic tone. Always cite for any factual claim. When citing several search results, use [1][2][3]. Cite at least one document and at most three documents in each sentence. If multiple documents support the sentence, only cite a minimum sufficient subset of the documents.\n",
      "\n",
      "Question: Who played galen in planet of the apes?\n",
      "\n",
      "Document [1](Title: Planet of the Apes): installment. Jacobs died on June 27, 1973, bringing an end to the APJAC Productions era of the \"Planet of the Apes\" franchise. Former Fox executive Stan Hough took over as producer for the television project, titled \"Planet of the Apes\". CBS picked up the series for its 1974 autumn lineup. Ron Harper and James Naughton played Alan Virdon and Peter Burke, two 20th-century American astronauts who pass through a time warp to a future where apes subjugate humans (unlike the original film, the humans can speak). Roddy McDowall returned to the franchise as Galen, a chimpanzee who joins the astronauts.\n",
      "Document [2](Title: Planet of the Apes (1968 film)): chimpanzees: animal psychologist Zira (Kim Hunter) and surgeon Galen (Wright King). While unable to speak as his throat wound is healing, called \"Bright Eyes\" by Zira and placed with one of the captive primitive humans he later names \"Nova\", Taylor observes the enhanced society of talking apes and in a strict caste system: the gorillas being the military police, hunters and workers; the orangutans overseeing the affairs of government, science, and religion; and intellectual chimpanzees being mostly scientists. While their society is a theocracy similar to the beginnings of the human Industrial Era, the apes consider the primitive humans as\n",
      "Document [3](Title: Planet of the Apes (1968 film)): Planet of the Apes (1968 film) Planet of the Apes is a 1968 American science fiction film directed by Franklin J. Schaffner. It stars Charlton Heston, Roddy McDowall, Kim Hunter, Maurice Evans, James Whitmore, James Daly and Linda Harrison. The screenplay by Michael Wilson and Rod Serling was loosely based on the 1963 French novel \"La Planète des Singes\" by Pierre Boulle. Jerry Goldsmith composed the groundbreaking avant-garde score. It was the first in a series of five films made between 1968 and 1973, all produced by Arthur P. Jacobs and released by 20th Century Fox. The film tells the\n",
      "\n",
      "Answer:In the 1968 film Planet of the Apes, Galen was played by Wright King [2]. And in the tv series Planet of the Apes, Galen was played by Roddy McDowall [1].\n",
      "\n",
      "\n",
      "Instruction: Write an accurate, engaging, and concise answer for the given question using only the provided search results (some of which might be irrelevant) and cite them properly. Use an unbiased and journalistic tone. Always cite for any factual claim. When citing several search results, use [1][2][3]. Cite at least one document and at most three documents in each sentence. If multiple documents support the sentence, only cite a minimum sufficient subset of the documents.\n",
      "\n",
      "Question: The festival of holi marks the end of winter and the beginning of?\n",
      "\n",
      "Document [1](Title: Holi): Holi Holi (; \"Holī\") is a Hindu spring festival, originating from the Indian subcontinent, celebrated predominantly in India, but has also spread to other areas of Asia and parts of the Western world through the diaspora from the Indian subcontinent, also known as the \"festival of colours\" or the \"festival of love\". The festival signifies the victory of good over evil, the arrival of spring, end of winter, and for many a festive day to meet others, play and laugh, forget and forgive, and repair broken relationships. It is also celebrated as a thanksgiving for a good harvest. It lasts\n",
      "Document [2](Title: Holi): to throw coloured water at friends or strangers in jest. It is also observed broadly in the Indian subcontinent. Holi is celebrated at the end of winter, on the last full moon day of the Hindu luni-solar calendar month marking the spring, making the date vary with the lunar cycle. The date falls typically in March, but sometimes late February of the Gregorian calendar. The festival has many purposes; most prominently, it celebrates the beginning of Spring. In 17th century literature, it was identified as a festival that celebrated agriculture, commemorated good spring harvests and the fertile land. Hindus believe\n",
      "Document [3](Title: Holi): it is a time of enjoying spring's abundant colours and saying farewell to winter. To many Hindus, Holi festivities mark the beginning of the new year as well as an occasion to reset and renew ruptured relationships, end conflicts and rid themselves of accumulated emotional impurities from the past. It also has a religious purpose, symbolically signified by the legend of Holika. The night before Holi, bonfires are lit in a ceremony known as Holika Dahan (burning of Holika) or Little Holi. People gather near fires, sing and dance. The next day, Holi, also known as \"Dhuli\" in Sanskrit, or\n",
      "\n",
      "Answer:\n"
     ]
    }
   ],
   "source": [
    " # Sample quick test\n",
    "if args.quick_test is not None:\n",
    "    eval_ids = np.random.choice(len(eval_data), args.quick_test, replace=False)\n",
    "    eval_data = [eval_data[int(idx)] for idx in eval_ids]\n",
    "\n",
    "logger.info(\"Generating prompts...\") \n",
    "incomplete_doc_list = 0 # For some questions there might be fewer than ndoc documents\n",
    "for idx, eval_item in enumerate(tqdm(eval_data)):\n",
    "    eval_data[idx]['prompt'] = head_prompt + make_demo(\n",
    "        eval_item, prompt=prompt_data[\"demo_prompt\"], ndoc=args.ndoc, doc_prompt=prompt_data[\"doc_prompt\"],\n",
    "        instruction=prompt_data[\"instruction\"], use_shorter=args.use_shorter, \n",
    "        test=True\n",
    "    )\n",
    "    print(eval_data[idx]['prompt'])\n",
    "    doc_list = get_shorter_text(eval_item, eval_item[\"docs\"], args.ndoc, args.use_shorter) if args.use_shorter is not None else eval_item[\"docs\"][:args.ndoc]\n",
    "    if not args.retrieve_in_all_docs:\n",
    "        # If --retrieve_in_all_docs, we keep the original docs and do not trim them by ndoc\n",
    "        # Otherwise, take the new docs (truncated by ndoc and filtered if using summary/extraction)\n",
    "        eval_data[idx]['docs'] = doc_list\n",
    "    if len(doc_list) < args.ndoc:\n",
    "        incomplete_doc_list += 1\n",
    "logger.info(\"Done.\")\n",
    "if incomplete_doc_list > 0:\n",
    "    logger.warning(f\"There are {incomplete_doc_list} questions that have incomplete document list (may due to a lot of them are filtered out by summary/extraction).\")\n"
   ]
  },
  {
   "cell_type": "code",
   "execution_count": 8,
   "id": "0a6802f6-3ac2-46c4-ab7f-aeb07add07f5",
   "metadata": {
    "tags": []
   },
   "outputs": [],
   "source": [
    "# Load retriever for interactive search \n",
    "if args.interactive and args.interactive_query == \"search\" and \"gtr\" in args.retriever:\n",
    "    from sentence_transformers import SentenceTransformer\n",
    "    gtr_model = SentenceTransformer(f'sentence-transformers/{args.retriever}', device=args.retriever_device)\n",
    "    from searcher import SearcherWithinDocs"
   ]
  },
  {
   "cell_type": "code",
   "execution_count": 10,
   "id": "ef71085b-0b96-4029-8bed-7e551d5d6b9b",
   "metadata": {
    "tags": []
   },
   "outputs": [
    {
     "name": "stderr",
     "output_type": "stream",
     "text": [
      "  0%|          | 0/1 [00:00<?, ?it/s]"
     ]
    },
    {
     "name": "stdout",
     "output_type": "stream",
     "text": [
      "prompt Instruction: Write an accurate, engaging, and concise answer for the given question using only the provided search results (some of which might be irrelevant) and cite them properly. Use an unbiased and journalistic tone. Always cite for any factual claim. When citing several search results, use [1][2][3]. Cite at least one document and at most three documents in each sentence. If multiple documents support the sentence, only cite a minimum sufficient subset of the documents.\n",
      "\n",
      "Question: When did the us break away from england?\n",
      "\n",
      "Document [1](Title: United States withdrawal from Saudi Arabia): United States withdrawal from Saudi Arabia Beginning during Operation Desert Shield in August 1990, while preparing for the Gulf War, the United States sent a large troop contingent to Saudi Arabia. After the war, remnant troops, primarily U.S. Air Force personnel, augmented by a smaller number of coordinating and training personnel from the U.S. Navy, U.S. Army and U.S. Marine Corps remained in Saudi Arabia under the aegis of Joint Task Force Southwest Asia (JTF-SWA), as part of Operation Southern Watch (OSW). The United Kingdom and France also maintained a small contingent of Royal Air Force and French Air Force\n",
      "Document [2](Title: Decolonization of the Americas): and France has fully \"integrated\" most of its former colonies as fully constituent \"departments\" of France. The United States of America declared independence from Great Britain on July 2, 1776 (although the event is now commemorated on July 4, the date when the Declaration of Independence was officially adopted by Congress), in so doing becoming the first independent, foreign-recognized nation in the Americas and the first European colonial entity to break from its mother country. Britain formally acknowledged American independence in 1783 after its defeat in the American Revolutionary War. Although initially occupying only the land east of the Mississippi\n",
      "Document [3](Title: American Revolution): second British army at Yorktown in the fall of 1781, effectively ending the war. The Treaty of Paris was signed September 3, 1783, formally ending the conflict and confirming the new nation's complete separation from the British Empire. The United States took possession of nearly all the territory east of the Mississippi River and south of the Great Lakes, with the British retaining control of Canada and Spain taking Florida. Among the significant results of the revolution was the creation of the United States Constitution, establishing a relatively strong federal national government that included an executive, a national judiciary, and\n",
      "\n",
      "Answer:The United States took the first step towards gaining independence from Great Britain when it declared independence from Great Britain on July 2, 1776 (although the event is now commemorated on July 4, 1776, the date when the Declaration of Independence was officially adopted by Congress) [2]. The Treaty of Paris was later signed on September 3, 1783, formally separating the United States from the British Empire [3].\n",
      "\n",
      "\n",
      "Instruction: Write an accurate, engaging, and concise answer for the given question using only the provided search results (some of which might be irrelevant) and cite them properly. Use an unbiased and journalistic tone. Always cite for any factual claim. When citing several search results, use [1][2][3]. Cite at least one document and at most three documents in each sentence. If multiple documents support the sentence, only cite a minimum sufficient subset of the documents.\n",
      "\n",
      "Question: Who played galen in planet of the apes?\n",
      "\n",
      "Document [1](Title: Planet of the Apes): installment. Jacobs died on June 27, 1973, bringing an end to the APJAC Productions era of the \"Planet of the Apes\" franchise. Former Fox executive Stan Hough took over as producer for the television project, titled \"Planet of the Apes\". CBS picked up the series for its 1974 autumn lineup. Ron Harper and James Naughton played Alan Virdon and Peter Burke, two 20th-century American astronauts who pass through a time warp to a future where apes subjugate humans (unlike the original film, the humans can speak). Roddy McDowall returned to the franchise as Galen, a chimpanzee who joins the astronauts.\n",
      "Document [2](Title: Planet of the Apes (1968 film)): chimpanzees: animal psychologist Zira (Kim Hunter) and surgeon Galen (Wright King). While unable to speak as his throat wound is healing, called \"Bright Eyes\" by Zira and placed with one of the captive primitive humans he later names \"Nova\", Taylor observes the enhanced society of talking apes and in a strict caste system: the gorillas being the military police, hunters and workers; the orangutans overseeing the affairs of government, science, and religion; and intellectual chimpanzees being mostly scientists. While their society is a theocracy similar to the beginnings of the human Industrial Era, the apes consider the primitive humans as\n",
      "Document [3](Title: Planet of the Apes (1968 film)): Planet of the Apes (1968 film) Planet of the Apes is a 1968 American science fiction film directed by Franklin J. Schaffner. It stars Charlton Heston, Roddy McDowall, Kim Hunter, Maurice Evans, James Whitmore, James Daly and Linda Harrison. The screenplay by Michael Wilson and Rod Serling was loosely based on the 1963 French novel \"La Planète des Singes\" by Pierre Boulle. Jerry Goldsmith composed the groundbreaking avant-garde score. It was the first in a series of five films made between 1968 and 1973, all produced by Arthur P. Jacobs and released by 20th Century Fox. The film tells the\n",
      "\n",
      "Answer:In the 1968 film Planet of the Apes, Galen was played by Wright King [2]. And in the tv series Planet of the Apes, Galen was played by Roddy McDowall [1].\n",
      "\n",
      "\n",
      "Instruction: Write an accurate, engaging, and concise answer for the given question using only the provided search results (some of which might be irrelevant) and cite them properly. Use an unbiased and journalistic tone. Always cite for any factual claim. When citing several search results, use [1][2][3]. Cite at least one document and at most three documents in each sentence. If multiple documents support the sentence, only cite a minimum sufficient subset of the documents.\n",
      "\n",
      "Question: The festival of holi marks the end of winter and the beginning of?\n",
      "\n",
      "Document [1](Title: Holi): Holi Holi (; \"Holī\") is a Hindu spring festival, originating from the Indian subcontinent, celebrated predominantly in India, but has also spread to other areas of Asia and parts of the Western world through the diaspora from the Indian subcontinent, also known as the \"festival of colours\" or the \"festival of love\". The festival signifies the victory of good over evil, the arrival of spring, end of winter, and for many a festive day to meet others, play and laugh, forget and forgive, and repair broken relationships. It is also celebrated as a thanksgiving for a good harvest. It lasts\n",
      "Document [2](Title: Holi): to throw coloured water at friends or strangers in jest. It is also observed broadly in the Indian subcontinent. Holi is celebrated at the end of winter, on the last full moon day of the Hindu luni-solar calendar month marking the spring, making the date vary with the lunar cycle. The date falls typically in March, but sometimes late February of the Gregorian calendar. The festival has many purposes; most prominently, it celebrates the beginning of Spring. In 17th century literature, it was identified as a festival that celebrated agriculture, commemorated good spring harvests and the fertile land. Hindus believe\n",
      "Document [3](Title: Holi): it is a time of enjoying spring's abundant colours and saying farewell to winter. To many Hindus, Holi festivities mark the beginning of the new year as well as an occasion to reset and renew ruptured relationships, end conflicts and rid themselves of accumulated emotional impurities from the past. It also has a religious purpose, symbolically signified by the legend of Holika. The night before Holi, bonfires are lit in a ceremony known as Holika Dahan (burning of Holika) or Little Holi. People gather near fires, sing and dance. The next day, Holi, also known as \"Dhuli\" in Sanskrit, or\n",
      "\n",
      "Answer:\n",
      "---\n",
      "Instruction: Write an accurate, engaging, and concise answer for the given question using only the provided search results (some of which might be irrelevant) and cite them properly. Use an unbiased and journalistic tone. Always cite for any factual claim. When citing several search results, use [1][2][3]. Cite at least one document and at most three documents in each sentence. If multiple documents support the sentence, only cite a minimum sufficient subset of the documents.\n",
      "\n",
      "Question: When did the us break away from england?\n",
      "\n",
      "Document [1](Title: United States withdrawal from Saudi Arabia): United States withdrawal from Saudi Arabia Beginning during Operation Desert Shield in August 1990, while preparing for the Gulf War, the United States sent a large troop contingent to Saudi Arabia. After the war, remnant troops, primarily U.S. Air Force personnel, augmented by a smaller number of coordinating and training personnel from the U.S. Navy, U.S. Army and U.S. Marine Corps remained in Saudi Arabia under the aegis of Joint Task Force Southwest Asia (JTF-SWA), as part of Operation Southern Watch (OSW). The United Kingdom and France also maintained a small contingent of Royal Air Force and French Air Force\n",
      "Document [2](Title: Decolonization of the Americas): and France has fully \"integrated\" most of its former colonies as fully constituent \"departments\" of France. The United States of America declared independence from Great Britain on July 2, 1776 (although the event is now commemorated on July 4, the date when the Declaration of Independence was officially adopted by Congress), in so doing becoming the first independent, foreign-recognized nation in the Americas and the first European colonial entity to break from its mother country. Britain formally acknowledged American independence in 1783 after its defeat in the American Revolutionary War. Although initially occupying only the land east of the Mississippi\n",
      "Document [3](Title: American Revolution): second British army at Yorktown in the fall of 1781, effectively ending the war. The Treaty of Paris was signed September 3, 1783, formally ending the conflict and confirming the new nation's complete separation from the British Empire. The United States took possession of nearly all the territory east of the Mississippi River and south of the Great Lakes, with the British retaining control of Canada and Spain taking Florida. Among the significant results of the revolution was the creation of the United States Constitution, establishing a relatively strong federal national government that included an executive, a national judiciary, and\n",
      "\n",
      "Answer:The United States took the first step towards gaining independence from Great Britain when it declared independence from Great Britain on July 2, 1776 (although the event is now commemorated on July 4, 1776, the date when the Declaration of Independence was officially adopted by Congress) [2]. The Treaty of Paris was later signed on September 3, 1783, formally separating the United States from the British Empire [3].\n",
      "\n",
      "\n",
      "Instruction: Write an accurate, engaging, and concise answer for the given question using only the provided search results (some of which might be irrelevant) and cite them properly. Use an unbiased and journalistic tone. Always cite for any factual claim. When citing several search results, use [1][2][3]. Cite at least one document and at most three documents in each sentence. If multiple documents support the sentence, only cite a minimum sufficient subset of the documents.\n",
      "\n",
      "Question: Who played galen in planet of the apes?\n",
      "\n",
      "Document [1](Title: Planet of the Apes): installment. Jacobs died on June 27, 1973, bringing an end to the APJAC Productions era of the \"Planet of the Apes\" franchise. Former Fox executive Stan Hough took over as producer for the television project, titled \"Planet of the Apes\". CBS picked up the series for its 1974 autumn lineup. Ron Harper and James Naughton played Alan Virdon and Peter Burke, two 20th-century American astronauts who pass through a time warp to a future where apes subjugate humans (unlike the original film, the humans can speak). Roddy McDowall returned to the franchise as Galen, a chimpanzee who joins the astronauts.\n",
      "Document [2](Title: Planet of the Apes (1968 film)): chimpanzees: animal psychologist Zira (Kim Hunter) and surgeon Galen (Wright King). While unable to speak as his throat wound is healing, called \"Bright Eyes\" by Zira and placed with one of the captive primitive humans he later names \"Nova\", Taylor observes the enhanced society of talking apes and in a strict caste system: the gorillas being the military police, hunters and workers; the orangutans overseeing the affairs of government, science, and religion; and intellectual chimpanzees being mostly scientists. While their society is a theocracy similar to the beginnings of the human Industrial Era, the apes consider the primitive humans as\n",
      "Document [3](Title: Planet of the Apes (1968 film)): Planet of the Apes (1968 film) Planet of the Apes is a 1968 American science fiction film directed by Franklin J. Schaffner. It stars Charlton Heston, Roddy McDowall, Kim Hunter, Maurice Evans, James Whitmore, James Daly and Linda Harrison. The screenplay by Michael Wilson and Rod Serling was loosely based on the 1963 French novel \"La Planète des Singes\" by Pierre Boulle. Jerry Goldsmith composed the groundbreaking avant-garde score. It was the first in a series of five films made between 1968 and 1973, all produced by Arthur P. Jacobs and released by 20th Century Fox. The film tells the\n",
      "\n",
      "Answer:In the 1968 film Planet of the Apes, Galen was played by Wright King [2]. And in the tv series Planet of the Apes, Galen was played by Roddy McDowall [1].\n",
      "\n",
      "\n",
      "Instruction: Write an accurate, engaging, and concise answer for the given question using only the provided search results (some of which might be irrelevant) and cite them properly. Use an unbiased and journalistic tone. Always cite for any factual claim. When citing several search results, use [1][2][3]. Cite at least one document and at most three documents in each sentence. If multiple documents support the sentence, only cite a minimum sufficient subset of the documents.\n",
      "\n",
      "Question: The festival of holi marks the end of winter and the beginning of?\n",
      "\n",
      "Document [1](Title: Holi): Holi Holi (; \"Holī\") is a Hindu spring festival, originating from the Indian subcontinent, celebrated predominantly in India, but has also spread to other areas of Asia and parts of the Western world through the diaspora from the Indian subcontinent, also known as the \"festival of colours\" or the \"festival of love\". The festival signifies the victory of good over evil, the arrival of spring, end of winter, and for many a festive day to meet others, play and laugh, forget and forgive, and repair broken relationships. It is also celebrated as a thanksgiving for a good harvest. It lasts\n",
      "Document [2](Title: Holi): to throw coloured water at friends or strangers in jest. It is also observed broadly in the Indian subcontinent. Holi is celebrated at the end of winter, on the last full moon day of the Hindu luni-solar calendar month marking the spring, making the date vary with the lunar cycle. The date falls typically in March, but sometimes late February of the Gregorian calendar. The festival has many purposes; most prominently, it celebrates the beginning of Spring. In 17th century literature, it was identified as a festival that celebrated agriculture, commemorated good spring harvests and the fertile land. Hindus believe\n",
      "Document [3](Title: Holi): it is a time of enjoying spring's abundant colours and saying farewell to winter. To many Hindus, Holi festivities mark the beginning of the new year as well as an occasion to reset and renew ruptured relationships, end conflicts and rid themselves of accumulated emotional impurities from the past. It also has a religious purpose, symbolically signified by the legend of Holika. The night before Holi, bonfires are lit in a ceremony known as Holika Dahan (burning of Holika) or Little Holi. People gather near fires, sing and dance. The next day, Holi, also known as \"Dhuli\" in Sanskrit, or\n",
      "\n",
      "Answer:\n"
     ]
    },
    {
     "name": "stderr",
     "output_type": "stream",
     "text": [
      "2024-02-27 20:11:26,396 - INFO - Prompt length=1749\n",
      "2024-02-27 20:11:26,396 - INFO - Question: The festival of holi marks the end of winter and the beginning of?\n",
      "2024-02-27 20:11:26,396 - INFO - Gold answer: Holi ( /ˈhoʊliː/) is a popular ancient Indian festival, also known as the \"Festival of Love\", the \"Festival of Colours\" and the \"Festival of Spring\". Holi celebrates the arrival of spring, the end of winter, the blossoming of love and for many, it is a festive day to meet others, play and laugh, forget and forgive, and repair broken relationships.\n",
      "2024-02-27 20:11:26,397 - INFO - Final model output: The festival of Holi marks the end of winter and the beginning of spring [1][2][3]. It is a Hindu spring festival celebrated predominantly in India, but has also spread to other areas of Asia and parts of the Western world through the diaspora from the Indian subcontinent [1]. It is also celebrated as a thanksgiving for a good harvest [1].\n",
      "100%|██████████| 1/1 [00:00<00:00,  1.13it/s]\n"
     ]
    }
   ],
   "source": [
    "for idx, item in enumerate(tqdm(eval_data)):\n",
    "    prompt = item['prompt']\n",
    "    prompt_len = len(llm.tokenizer.tokenize(prompt))\n",
    "\n",
    "    if idx == 0:\n",
    "        print(prompt)\n",
    "\n",
    "    output_array = []\n",
    "    for _ in range(args.num_samples):\n",
    "        if args.interactive:\n",
    "            print(\"============ Interactive =============\")\n",
    "            output_answer = \"\"\n",
    "            doc_list = item['docs']\n",
    "\n",
    "            interactive_prompt = prompt.rstrip() + \"\\n\" # Start a new line\n",
    "            inline_doc = \"\"\n",
    "            num_turn = 0\n",
    "\n",
    "            doc_history = []\n",
    "            while True:\n",
    "                # For each action, it should end at the new line\n",
    "                # Three possible actions\n",
    "                # - Check: Document [1][2][3] / search query\n",
    "                # - Output: output \n",
    "                # - End\n",
    "                num_turn += 1\n",
    "                new_prompt = interactive_prompt + inline_doc\n",
    "                new_prompt_len = len(llm.tokenizer.tokenize(new_prompt))\n",
    "\n",
    "                if idx == 0:\n",
    "                    print(f\"-------------- Step {num_turn} prompt --------------\")\n",
    "                    print(new_prompt)\n",
    "                    print(\"-----------------------------\")\n",
    "\n",
    "                output = llm.generate(new_prompt, min(args.max_new_tokens, args.max_length-new_prompt_len), stop=[\"\\n\", \"\\n\\n\"])\n",
    "\n",
    "                if len(inline_doc) > 0:\n",
    "                    output = \"Output: \" + output # \"Output: \" was included in inline_doc\n",
    "                inline_doc = \"\" # Delete inline_doc after use\n",
    "                interactive_prompt += output + \"\\n\"\n",
    "                logger.info(f\"Model output: \\\"{output}\\\"\")\n",
    "\n",
    "                if output.strip().lower()[:3] == \"end\":\n",
    "                    # Model decides to end the generation\n",
    "                    break\n",
    "                elif \"sorry\" in output.lower() and (\"relevant document\" in output.lower() or \"relevant information\" in output.lower()) or \"none of the documents\" in output.lower():\n",
    "                    # Instruction-tuned model may abstain from answer the question\n",
    "                    break\n",
    "                elif output.strip().lower()[:5] == \"check\" or output.strip().lower()[:6] == \"search\":\n",
    "                    # Checkout or search documents\n",
    "                    if args.interactive_query == \"search\":\n",
    "                        query = output.replace(\"Search:\", \"\").replace(\"search:\", \"\").strip()\n",
    "                        if len(doc_list) == 0:\n",
    "                            show_doc_ids = []\n",
    "                        else:\n",
    "                            searcher = SearcherWithinDocs(doc_list, args.retriever, model=gtr_model, device=args.retriever_device)\n",
    "                            show_doc_ids = [int(searcher.search(query))]\n",
    "                    elif args.interactive_query == \"doc_id\":\n",
    "                        show_doc_ids = [int(r[1:])-1 for r in re.findall(r\"\\[\\d+\", output)] # In text citation id starts from 1\n",
    "                        show_doc_ids = [doc_id for doc_id in show_doc_ids if doc_id < len(doc_list) and doc_id >= 0]\n",
    "                        show_doc_ids = show_doc_ids[:args.max_doc_show] # Avoiding showing too many documents\n",
    "                    else:\n",
    "                        raise NotImplementedError\n",
    "\n",
    "                    inline_doc = \"\".join([make_doc_prompt(doc_list[doc_id], doc_id, prompt_data[\"doc_prompt\"]) for doc_id in show_doc_ids])\n",
    "                    inline_doc += \"Output:\" # Force the model to generate output in the next step\n",
    "                    doc_history.append(show_doc_ids)\n",
    "                elif output.strip().lower()[:6] == \"output\":\n",
    "                    output = output.strip().replace(\"Output:\", \"\").strip()\n",
    "                    if args.force_cite_show:\n",
    "                        output = remove_citations(output)\n",
    "                        if len(doc_history) == 0:\n",
    "                            logger.warn(\"No doc history??\")\n",
    "                        else:\n",
    "                            # Just cite whatever documents the model has seen in the last step\n",
    "                            if \"qampari\" in args.eval_file:\n",
    "                                output = \", \".join([\"\".join([f\"[{doc+1}]\" for doc in doc_history[-1]]) + \" \" + entity.strip() for entity in output.rstrip().rstrip(\",\").split(\",\")]) + \", \"\n",
    "                            else:\n",
    "                                output = \" \".join([\"\".join([f\"[{doc+1}]\" for doc in doc_history[-1]]) + \" \" + o for o in sent_tokenize(output)]) + \".\"\n",
    "                    output_answer += \" \" + output \n",
    "                else:\n",
    "                    # Sometimes model starts to output random things.\n",
    "                    break\n",
    "\n",
    "                if num_turn >= args.max_turn:\n",
    "                    logger.warning(\"Reach maximum number of turns. Terminate now.\")\n",
    "                    break\n",
    "\n",
    "            if \"qampari\" in args.eval_file:\n",
    "                output_answer = output_answer.rstrip().rstrip(\",\")\n",
    "            output_array.append(output_answer)\n",
    "            item['prompt'] = interactive_prompt\n",
    "            item['doc_history'] = doc_history\n",
    "        else: \n",
    "            output_array.append(llm.generate(prompt, min(args.max_new_tokens, args.max_length-prompt_len)))\n",
    "            item['prompt'] = prompt\n",
    "\n",
    "        output_array[-1] = output_array[-1].replace(\"<|im_end|>\", \"\").rstrip()\n",
    "        if output_array[-1].endswith(\"End.\"):\n",
    "            output_array[-1] = output_array[-1][:-len(\"End.\")]\n",
    "\n",
    "        logger.info(f\"Prompt length={prompt_len}\")\n",
    "        logger.info(f\"Question: {item['question']}\")\n",
    "        logger.info(f\"Gold answer: {item['answer']}\")\n",
    "        logger.info(f\"Final model output: {output_array[-1]}\") \n",
    "\n",
    "    item['output'] = output_array if len(output_array) > 1 else output_array[0]"
   ]
  },
  {
   "cell_type": "code",
   "execution_count": null,
   "id": "6c5fd2e1-0fef-4ad5-aa01-eda12083b618",
   "metadata": {},
   "outputs": [],
   "source": []
  }
 ],
 "metadata": {
  "kernelspec": {
   "display_name": "Python 3 (ipykernel)",
   "language": "python",
   "name": "python3"
  },
  "language_info": {
   "codemirror_mode": {
    "name": "ipython",
    "version": 3
   },
   "file_extension": ".py",
   "mimetype": "text/x-python",
   "name": "python",
   "nbconvert_exporter": "python",
   "pygments_lexer": "ipython3",
   "version": "3.10.10"
  }
 },
 "nbformat": 4,
 "nbformat_minor": 5
}
