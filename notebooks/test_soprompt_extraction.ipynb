{
 "cells": [
  {
   "cell_type": "code",
   "execution_count": 1,
   "id": "9335d884-d890-4819-b10b-41de63564fd6",
   "metadata": {
    "tags": []
   },
   "outputs": [
    {
     "name": "stdout",
     "output_type": "stream",
     "text": [
      "/shared_data0/weiqiuy/github/ALCE\n"
     ]
    }
   ],
   "source": [
    "%cd .."
   ]
  },
  {
   "cell_type": "code",
   "execution_count": 2,
   "id": "aeb94470-267d-4418-99d3-b6c224ffb722",
   "metadata": {
    "tags": []
   },
   "outputs": [
    {
     "name": "stderr",
     "output_type": "stream",
     "text": [
      "[nltk_data] Downloading package punkt to /home/runai-home/nltk_data...\n",
      "[nltk_data]   Package punkt is already up-to-date!\n",
      "[nltk_data] Downloading package punkt to /home/runai-home/nltk_data...\n",
      "[nltk_data]   Package punkt is already up-to-date!\n"
     ]
    }
   ],
   "source": [
    "import os\n",
    "import openai\n",
    "import json\n",
    "from tqdm import tqdm\n",
    "from sklearn.feature_extraction.text import TfidfVectorizer\n",
    "from sklearn.metrics.pairwise import cosine_similarity\n",
    "from transformers import AutoTokenizer\n",
    "import time\n",
    "import string\n",
    "import numpy as np\n",
    "import torch\n",
    "import re\n",
    "import sys\n",
    "# sys.path.append('..')\n",
    "from searcher import SearcherWithinDocs\n",
    "import yaml\n",
    "from utils import *\n",
    "import nltk\n",
    "nltk.download('punkt')\n",
    "from nltk import sent_tokenize\n",
    "from run import LLM\n",
    "from soprompt import SoPrompt\n",
    "\n",
    "\n",
    "# Define an argparse.ArgumentParser instance within a Jupyter notebook environment.\n",
    "import argparse\n",
    "\n",
    "# Define a function to encapsulate the argparse setup to mimic the script behavior in a notebook.\n",
    "def setup_argparse():\n",
    "    parser = argparse.ArgumentParser(description=\"Setup for an interactive command line interface simulation.\")\n",
    "\n",
    "    # Adding arguments as specified\n",
    "    parser.add_argument(\"--config\", type=str, default=None, help=\"Path to the config file\")\n",
    "    parser.add_argument(\"--prompt_file\", type=str, help=\"Path to the prompt file\")\n",
    "    parser.add_argument(\"--eval_file\", type=str, help=\"Path to the eval file\")\n",
    "    parser.add_argument(\"--quick_test\", type=int, default=None, help=\"Quickly test a few examples\")\n",
    "    parser.add_argument(\"--ndoc\", type=int, help=\"Number of documents\")\n",
    "    parser.add_argument(\"--shot\", type=int, help=\"Number of ICL demonstrations\")\n",
    "    parser.add_argument(\"--seed\", type=int, default=42, help=\"Seed for the random number generator\")\n",
    "    parser.add_argument(\"--no_doc_in_demo\", type=bool, default=False, help=\"Whether to remove the documents in the demos\")\n",
    "    parser.add_argument(\"--fewer_doc_in_demo\", type=bool, default=False, help=\"Whether to use fewer documents in the demos\")\n",
    "    parser.add_argument(\"--ndoc_in_demo\", type=int, default=None, help=\"When using --fewer_doc_in_demo, use this to designate how many docs in demo\")\n",
    "    parser.add_argument(\"--dataset_name\", type=str, help=\"Name of the dataset (for saving)\")\n",
    "    parser.add_argument(\"--tag\", type=str, help=\"Tag of run (for saving)\")\n",
    "    parser.add_argument(\"--model\", type=str, help=\"Model to use\")\n",
    "    parser.add_argument(\"--openai_api\", type=bool, default=False, help=\"Whether to use OpenAI API\")\n",
    "    parser.add_argument(\"--azure\", action=\"store_true\", default=False, help=\"Azure openai API\")\n",
    "    parser.add_argument(\"--temperature\", type=float, default=0.5, help=\"Temperature for decoding\")\n",
    "    parser.add_argument(\"--top_p\", type=float, default=1.0, help=\"Nucleus sampling top-p\")\n",
    "    parser.add_argument(\"--max_new_tokens\", type=int, default=300, help=\"Max number of new tokens to generate in one step\")\n",
    "    parser.add_argument(\"--max_length\", type=int, default=2048, help=\"Max length the model can take. Should set properly wrt the model to avoid position overflow.\")\n",
    "    parser.add_argument(\"--num_samples\", type=int, default=1, help=\"Sample multiple answers.\")\n",
    "    parser.add_argument(\"--use_shorter\", type=str, default=None, help=\"Whether to use summary data or extraction data for documents. Option: None, `summary`, `extraction`\")\n",
    "    parser.add_argument(\"--interactive\", type=bool, default=False, help=\"Whether to run in interactive mode\")\n",
    "    parser.add_argument(\"--interactive_query\", type=str, default=None, help=\"The query to use in interactive mode, either `doc_id` (corresponding to interact in paper) or `search` (corresponding to inlinesearch in paper).\")\n",
    "    parser.add_argument(\"--retriever\", type=str, default=None, help=\"When using interactive search mode, which retriever to use. Options: `tfidf`, `gtr-t5-large`\")\n",
    "    parser.add_argument(\"--retriever_device\", type=str, default=\"cuda\", help=\"Where to put the dense retriever if using. Options: `cuda`, `cpu`\")\n",
    "    parser.add_argument(\"--retrieve_in_all_docs\", type=bool, default=False, help=\"Retrieve in all documents instead of just top ndoc\")\n",
    "    parser.add_argument(\"--max_turn\", type=int, default=10, help=\"Max number of all actions\")\n",
    "    parser.add_argument(\"--max_doc_show\", type=int, default=3, help=\"Max number of documents to show at one time.\")\n",
    "    parser.add_argument(\"--force_cite_show\", type=bool, default=False, help=\"Force citing the documents that are shown to the model\")\n",
    "    parser.add_argument(\"--overwrite\", action=\"store_true\", help=\"Overwrite existing citations for posthoc cite\")\n",
    "    \n",
    "    return parser\n",
    "\n",
    "# Instantiate the parser setup\n",
    "parser = setup_argparse()"
   ]
  },
  {
   "cell_type": "code",
   "execution_count": 3,
   "id": "2030d3f7-7edd-45df-95e7-1e49827a4976",
   "metadata": {
    "tags": []
   },
   "outputs": [],
   "source": [
    "command_line_args = [\n",
    "    '--config', 'configs/asqa_turbo_shot2_ndoc3_gtr_default.yaml',\n",
    "    '--quick_test', '1',\n",
    "    '--prompt_file', 'prompts/asqa_soprompt.json',\n",
    "    '--retriever', 'gtr-t5-large',\n",
    "    '--temperature', '0',\n",
    "    '--overwrite',\n",
    "    '--use_shorter', 'extraction'\n",
    "]"
   ]
  },
  {
   "cell_type": "code",
   "execution_count": 4,
   "id": "5691c362-55b3-40e7-b45f-f5b1a7e7a913",
   "metadata": {
    "tags": []
   },
   "outputs": [
    {
     "name": "stdout",
     "output_type": "stream",
     "text": [
      "config: configs/asqa_turbo_shot2_ndoc3_gtr_default.yaml\n",
      "prompt_file: prompts/asqa_soprompt.json\n",
      "eval_file: data/asqa_eval_gtr_top100.json\n",
      "quick_test: 1\n",
      "ndoc: 3\n",
      "shot: 2\n",
      "seed: 42\n",
      "no_doc_in_demo: False\n",
      "fewer_doc_in_demo: False\n",
      "ndoc_in_demo: None\n",
      "dataset_name: asqa\n",
      "tag: gtr\n",
      "model: gpt-3.5-turbo-0301\n",
      "openai_api: True\n",
      "azure: False\n",
      "temperature: 0.0\n",
      "top_p: 1.0\n",
      "max_new_tokens: 300\n",
      "max_length: 2048\n",
      "num_samples: 1\n",
      "use_shorter: extraction\n",
      "interactive: False\n",
      "interactive_query: None\n",
      "retriever: gtr-t5-large\n",
      "retriever_device: cuda\n",
      "retrieve_in_all_docs: False\n",
      "max_turn: 10\n",
      "max_doc_show: 3\n",
      "force_cite_show: False\n",
      "overwrite: True\n"
     ]
    }
   ],
   "source": [
    "# Example of simulating command line arguments\n",
    "args = parser.parse_args(args=command_line_args)\n",
    "config = yaml.safe_load(open(args.config)) if args.config is not None else {}\n",
    "parser.set_defaults(**config)\n",
    "args = parser.parse_args(args=command_line_args)\n",
    "for k in args.__dict__:\n",
    "    print(f\"{k}: {args.__dict__[k]}\")\n",
    "\n",
    "if \"turbo\" in args.model:\n",
    "    # ChatGPT has a longer max length\n",
    "    args.max_length = 4096\n",
    "\n",
    "if \"16k\" in args.model:\n",
    "    args.max_length = 16384\n",
    "elif \"32k\" in args.model:\n",
    "    args.max_length = 32768\n",
    "elif \"turbo\" in args.model:\n",
    "    args.max_length = 4096\n",
    "elif \"gpt-4\" in args.model:\n",
    "    args.max_length = 8192\n",
    "elif \"llama-2\" in args.model.lower() or \"llama2\" in args.model.lower():\n",
    "    args.max_length = 4096"
   ]
  },
  {
   "cell_type": "code",
   "execution_count": 5,
   "id": "e1d4094d-3b90-4373-902c-519fe85fb27d",
   "metadata": {
    "tags": []
   },
   "outputs": [],
   "source": [
    "# Load the model or setup the API\n",
    "llm = LLM(args)\n",
    "\n",
    "# Generate prompts\n",
    "np.random.seed(args.seed)\n",
    "\n",
    "# Load data\n",
    "prompt_data = json.load(open(args.prompt_file, encoding='utf-8'))\n",
    "eval_data = json.load(open(args.eval_file, encoding='utf-8'))\n",
    "if args.eval_file is not None:\n",
    "    external = json.load(open(args.eval_file))"
   ]
  },
  {
   "cell_type": "code",
   "execution_count": 6,
   "id": "008c465c-db60-42ba-8adb-9425768fe700",
   "metadata": {
    "tags": []
   },
   "outputs": [
    {
     "name": "stderr",
     "output_type": "stream",
     "text": [
      "2024-03-06 19:43:20,502 - INFO - Load pretrained SentenceTransformer: sentence-transformers/gtr-t5-large\n"
     ]
    },
    {
     "ename": "OutOfMemoryError",
     "evalue": "CUDA out of memory. Tried to allocate 20.00 MiB (GPU 0; 79.15 GiB total capacity; 894.13 MiB already allocated; 18.19 MiB free; 896.00 MiB reserved in total by PyTorch) If reserved memory is >> allocated memory try setting max_split_size_mb to avoid fragmentation.  See documentation for Memory Management and PYTORCH_CUDA_ALLOC_CONF",
     "output_type": "error",
     "traceback": [
      "\u001b[0;31m---------------------------------------------------------------------------\u001b[0m",
      "\u001b[0;31mOutOfMemoryError\u001b[0m                          Traceback (most recent call last)",
      "\u001b[0;32m/tmp/ipykernel_226590/4036384336.py\u001b[0m in \u001b[0;36m<module>\u001b[0;34m\u001b[0m\n\u001b[0;32m----> 1\u001b[0;31m \u001b[0msoprompt\u001b[0m \u001b[0;34m=\u001b[0m \u001b[0mSoPrompt\u001b[0m\u001b[0;34m(\u001b[0m\u001b[0mllm\u001b[0m\u001b[0;34m,\u001b[0m \u001b[0margs\u001b[0m\u001b[0;34m,\u001b[0m \u001b[0mprompt_data\u001b[0m\u001b[0;34m)\u001b[0m\u001b[0;34m\u001b[0m\u001b[0;34m\u001b[0m\u001b[0m\n\u001b[0m",
      "\u001b[0;32m/shared_data0/weiqiuy/github/ALCE/soprompt.py\u001b[0m in \u001b[0;36m__init__\u001b[0;34m(self, llm, args, prompt_data, get_groupgen_prompt, get_grouppred_prompt, get_prompt, get_closedbook_prompt)\u001b[0m\n\u001b[1;32m     49\u001b[0m         \u001b[0mself\u001b[0m\u001b[0;34m.\u001b[0m\u001b[0mprompt_data\u001b[0m \u001b[0;34m=\u001b[0m \u001b[0mprompt_data\u001b[0m\u001b[0;34m\u001b[0m\u001b[0;34m\u001b[0m\u001b[0m\n\u001b[1;32m     50\u001b[0m \u001b[0;34m\u001b[0m\u001b[0m\n\u001b[0;32m---> 51\u001b[0;31m         \u001b[0mself\u001b[0m\u001b[0;34m.\u001b[0m\u001b[0minit_retriever\u001b[0m\u001b[0;34m(\u001b[0m\u001b[0;34m)\u001b[0m\u001b[0;34m\u001b[0m\u001b[0;34m\u001b[0m\u001b[0m\n\u001b[0m\u001b[1;32m     52\u001b[0m         self.init_prompt_getters(\n\u001b[1;32m     53\u001b[0m             \u001b[0mget_groupgen_prompt\u001b[0m\u001b[0;34m=\u001b[0m\u001b[0mget_groupgen_prompt\u001b[0m\u001b[0;34m,\u001b[0m\u001b[0;34m\u001b[0m\u001b[0;34m\u001b[0m\u001b[0m\n",
      "\u001b[0;32m/shared_data0/weiqiuy/github/ALCE/soprompt.py\u001b[0m in \u001b[0;36minit_retriever\u001b[0;34m(self)\u001b[0m\n\u001b[1;32m     62\u001b[0m         \u001b[0;32mif\u001b[0m \u001b[0;34m\"gtr\"\u001b[0m \u001b[0;32min\u001b[0m \u001b[0mself\u001b[0m\u001b[0;34m.\u001b[0m\u001b[0margs\u001b[0m\u001b[0;34m.\u001b[0m\u001b[0mretriever\u001b[0m\u001b[0;34m:\u001b[0m\u001b[0;34m\u001b[0m\u001b[0;34m\u001b[0m\u001b[0m\n\u001b[1;32m     63\u001b[0m             \u001b[0;32mfrom\u001b[0m \u001b[0msentence_transformers\u001b[0m \u001b[0;32mimport\u001b[0m \u001b[0mSentenceTransformer\u001b[0m\u001b[0;34m\u001b[0m\u001b[0;34m\u001b[0m\u001b[0m\n\u001b[0;32m---> 64\u001b[0;31m             self.gtr_model = SentenceTransformer(f'sentence-transformers/{self.args.retriever}', \n\u001b[0m\u001b[1;32m     65\u001b[0m                                             device=self.args.retriever_device)\n\u001b[1;32m     66\u001b[0m         \u001b[0;32melse\u001b[0m\u001b[0;34m:\u001b[0m\u001b[0;34m\u001b[0m\u001b[0;34m\u001b[0m\u001b[0m\n",
      "\u001b[0;32m/opt/conda/envs/rapids/lib/python3.10/site-packages/sentence_transformers/SentenceTransformer.py\u001b[0m in \u001b[0;36m__init__\u001b[0;34m(self, model_name_or_path, modules, device, prompts, default_prompt_name, cache_folder, trust_remote_code, revision, token, use_auth_token)\u001b[0m\n\u001b[1;32m    212\u001b[0m             \u001b[0mlogger\u001b[0m\u001b[0;34m.\u001b[0m\u001b[0minfo\u001b[0m\u001b[0;34m(\u001b[0m\u001b[0;34m\"Use pytorch device_name: {}\"\u001b[0m\u001b[0;34m.\u001b[0m\u001b[0mformat\u001b[0m\u001b[0;34m(\u001b[0m\u001b[0mdevice\u001b[0m\u001b[0;34m)\u001b[0m\u001b[0;34m)\u001b[0m\u001b[0;34m\u001b[0m\u001b[0;34m\u001b[0m\u001b[0m\n\u001b[1;32m    213\u001b[0m \u001b[0;34m\u001b[0m\u001b[0m\n\u001b[0;32m--> 214\u001b[0;31m         \u001b[0mself\u001b[0m\u001b[0;34m.\u001b[0m\u001b[0mto\u001b[0m\u001b[0;34m(\u001b[0m\u001b[0mdevice\u001b[0m\u001b[0;34m)\u001b[0m\u001b[0;34m\u001b[0m\u001b[0;34m\u001b[0m\u001b[0m\n\u001b[0m\u001b[1;32m    215\u001b[0m \u001b[0;34m\u001b[0m\u001b[0m\n\u001b[1;32m    216\u001b[0m         \u001b[0;32mif\u001b[0m \u001b[0mself\u001b[0m\u001b[0;34m.\u001b[0m\u001b[0mdefault_prompt_name\u001b[0m \u001b[0;32mis\u001b[0m \u001b[0;32mnot\u001b[0m \u001b[0;32mNone\u001b[0m \u001b[0;32mand\u001b[0m \u001b[0mself\u001b[0m\u001b[0;34m.\u001b[0m\u001b[0mdefault_prompt_name\u001b[0m \u001b[0;32mnot\u001b[0m \u001b[0;32min\u001b[0m \u001b[0mself\u001b[0m\u001b[0;34m.\u001b[0m\u001b[0mprompts\u001b[0m\u001b[0;34m:\u001b[0m\u001b[0;34m\u001b[0m\u001b[0;34m\u001b[0m\u001b[0m\n",
      "\u001b[0;32m/opt/conda/envs/rapids/lib/python3.10/site-packages/torch/nn/modules/module.py\u001b[0m in \u001b[0;36mto\u001b[0;34m(self, *args, **kwargs)\u001b[0m\n\u001b[1;32m   1143\u001b[0m             \u001b[0;32mreturn\u001b[0m \u001b[0mt\u001b[0m\u001b[0;34m.\u001b[0m\u001b[0mto\u001b[0m\u001b[0;34m(\u001b[0m\u001b[0mdevice\u001b[0m\u001b[0;34m,\u001b[0m \u001b[0mdtype\u001b[0m \u001b[0;32mif\u001b[0m \u001b[0mt\u001b[0m\u001b[0;34m.\u001b[0m\u001b[0mis_floating_point\u001b[0m\u001b[0;34m(\u001b[0m\u001b[0;34m)\u001b[0m \u001b[0;32mor\u001b[0m \u001b[0mt\u001b[0m\u001b[0;34m.\u001b[0m\u001b[0mis_complex\u001b[0m\u001b[0;34m(\u001b[0m\u001b[0;34m)\u001b[0m \u001b[0;32melse\u001b[0m \u001b[0;32mNone\u001b[0m\u001b[0;34m,\u001b[0m \u001b[0mnon_blocking\u001b[0m\u001b[0;34m)\u001b[0m\u001b[0;34m\u001b[0m\u001b[0;34m\u001b[0m\u001b[0m\n\u001b[1;32m   1144\u001b[0m \u001b[0;34m\u001b[0m\u001b[0m\n\u001b[0;32m-> 1145\u001b[0;31m         \u001b[0;32mreturn\u001b[0m \u001b[0mself\u001b[0m\u001b[0;34m.\u001b[0m\u001b[0m_apply\u001b[0m\u001b[0;34m(\u001b[0m\u001b[0mconvert\u001b[0m\u001b[0;34m)\u001b[0m\u001b[0;34m\u001b[0m\u001b[0;34m\u001b[0m\u001b[0m\n\u001b[0m\u001b[1;32m   1146\u001b[0m \u001b[0;34m\u001b[0m\u001b[0m\n\u001b[1;32m   1147\u001b[0m     def register_full_backward_pre_hook(\n",
      "\u001b[0;32m/opt/conda/envs/rapids/lib/python3.10/site-packages/torch/nn/modules/module.py\u001b[0m in \u001b[0;36m_apply\u001b[0;34m(self, fn)\u001b[0m\n\u001b[1;32m    795\u001b[0m     \u001b[0;32mdef\u001b[0m \u001b[0m_apply\u001b[0m\u001b[0;34m(\u001b[0m\u001b[0mself\u001b[0m\u001b[0;34m,\u001b[0m \u001b[0mfn\u001b[0m\u001b[0;34m)\u001b[0m\u001b[0;34m:\u001b[0m\u001b[0;34m\u001b[0m\u001b[0;34m\u001b[0m\u001b[0m\n\u001b[1;32m    796\u001b[0m         \u001b[0;32mfor\u001b[0m \u001b[0mmodule\u001b[0m \u001b[0;32min\u001b[0m \u001b[0mself\u001b[0m\u001b[0;34m.\u001b[0m\u001b[0mchildren\u001b[0m\u001b[0;34m(\u001b[0m\u001b[0;34m)\u001b[0m\u001b[0;34m:\u001b[0m\u001b[0;34m\u001b[0m\u001b[0;34m\u001b[0m\u001b[0m\n\u001b[0;32m--> 797\u001b[0;31m             \u001b[0mmodule\u001b[0m\u001b[0;34m.\u001b[0m\u001b[0m_apply\u001b[0m\u001b[0;34m(\u001b[0m\u001b[0mfn\u001b[0m\u001b[0;34m)\u001b[0m\u001b[0;34m\u001b[0m\u001b[0;34m\u001b[0m\u001b[0m\n\u001b[0m\u001b[1;32m    798\u001b[0m \u001b[0;34m\u001b[0m\u001b[0m\n\u001b[1;32m    799\u001b[0m         \u001b[0;32mdef\u001b[0m \u001b[0mcompute_should_use_set_data\u001b[0m\u001b[0;34m(\u001b[0m\u001b[0mtensor\u001b[0m\u001b[0;34m,\u001b[0m \u001b[0mtensor_applied\u001b[0m\u001b[0;34m)\u001b[0m\u001b[0;34m:\u001b[0m\u001b[0;34m\u001b[0m\u001b[0;34m\u001b[0m\u001b[0m\n",
      "\u001b[0;32m/opt/conda/envs/rapids/lib/python3.10/site-packages/torch/nn/modules/module.py\u001b[0m in \u001b[0;36m_apply\u001b[0;34m(self, fn)\u001b[0m\n\u001b[1;32m    795\u001b[0m     \u001b[0;32mdef\u001b[0m \u001b[0m_apply\u001b[0m\u001b[0;34m(\u001b[0m\u001b[0mself\u001b[0m\u001b[0;34m,\u001b[0m \u001b[0mfn\u001b[0m\u001b[0;34m)\u001b[0m\u001b[0;34m:\u001b[0m\u001b[0;34m\u001b[0m\u001b[0;34m\u001b[0m\u001b[0m\n\u001b[1;32m    796\u001b[0m         \u001b[0;32mfor\u001b[0m \u001b[0mmodule\u001b[0m \u001b[0;32min\u001b[0m \u001b[0mself\u001b[0m\u001b[0;34m.\u001b[0m\u001b[0mchildren\u001b[0m\u001b[0;34m(\u001b[0m\u001b[0;34m)\u001b[0m\u001b[0;34m:\u001b[0m\u001b[0;34m\u001b[0m\u001b[0;34m\u001b[0m\u001b[0m\n\u001b[0;32m--> 797\u001b[0;31m             \u001b[0mmodule\u001b[0m\u001b[0;34m.\u001b[0m\u001b[0m_apply\u001b[0m\u001b[0;34m(\u001b[0m\u001b[0mfn\u001b[0m\u001b[0;34m)\u001b[0m\u001b[0;34m\u001b[0m\u001b[0;34m\u001b[0m\u001b[0m\n\u001b[0m\u001b[1;32m    798\u001b[0m \u001b[0;34m\u001b[0m\u001b[0m\n\u001b[1;32m    799\u001b[0m         \u001b[0;32mdef\u001b[0m \u001b[0mcompute_should_use_set_data\u001b[0m\u001b[0;34m(\u001b[0m\u001b[0mtensor\u001b[0m\u001b[0;34m,\u001b[0m \u001b[0mtensor_applied\u001b[0m\u001b[0;34m)\u001b[0m\u001b[0;34m:\u001b[0m\u001b[0;34m\u001b[0m\u001b[0;34m\u001b[0m\u001b[0m\n",
      "\u001b[0;32m/opt/conda/envs/rapids/lib/python3.10/site-packages/torch/nn/modules/module.py\u001b[0m in \u001b[0;36m_apply\u001b[0;34m(self, fn)\u001b[0m\n\u001b[1;32m    795\u001b[0m     \u001b[0;32mdef\u001b[0m \u001b[0m_apply\u001b[0m\u001b[0;34m(\u001b[0m\u001b[0mself\u001b[0m\u001b[0;34m,\u001b[0m \u001b[0mfn\u001b[0m\u001b[0;34m)\u001b[0m\u001b[0;34m:\u001b[0m\u001b[0;34m\u001b[0m\u001b[0;34m\u001b[0m\u001b[0m\n\u001b[1;32m    796\u001b[0m         \u001b[0;32mfor\u001b[0m \u001b[0mmodule\u001b[0m \u001b[0;32min\u001b[0m \u001b[0mself\u001b[0m\u001b[0;34m.\u001b[0m\u001b[0mchildren\u001b[0m\u001b[0;34m(\u001b[0m\u001b[0;34m)\u001b[0m\u001b[0;34m:\u001b[0m\u001b[0;34m\u001b[0m\u001b[0;34m\u001b[0m\u001b[0m\n\u001b[0;32m--> 797\u001b[0;31m             \u001b[0mmodule\u001b[0m\u001b[0;34m.\u001b[0m\u001b[0m_apply\u001b[0m\u001b[0;34m(\u001b[0m\u001b[0mfn\u001b[0m\u001b[0;34m)\u001b[0m\u001b[0;34m\u001b[0m\u001b[0;34m\u001b[0m\u001b[0m\n\u001b[0m\u001b[1;32m    798\u001b[0m \u001b[0;34m\u001b[0m\u001b[0m\n\u001b[1;32m    799\u001b[0m         \u001b[0;32mdef\u001b[0m \u001b[0mcompute_should_use_set_data\u001b[0m\u001b[0;34m(\u001b[0m\u001b[0mtensor\u001b[0m\u001b[0;34m,\u001b[0m \u001b[0mtensor_applied\u001b[0m\u001b[0;34m)\u001b[0m\u001b[0;34m:\u001b[0m\u001b[0;34m\u001b[0m\u001b[0;34m\u001b[0m\u001b[0m\n",
      "\u001b[0;32m/opt/conda/envs/rapids/lib/python3.10/site-packages/torch/nn/modules/module.py\u001b[0m in \u001b[0;36m_apply\u001b[0;34m(self, fn)\u001b[0m\n\u001b[1;32m    795\u001b[0m     \u001b[0;32mdef\u001b[0m \u001b[0m_apply\u001b[0m\u001b[0;34m(\u001b[0m\u001b[0mself\u001b[0m\u001b[0;34m,\u001b[0m \u001b[0mfn\u001b[0m\u001b[0;34m)\u001b[0m\u001b[0;34m:\u001b[0m\u001b[0;34m\u001b[0m\u001b[0;34m\u001b[0m\u001b[0m\n\u001b[1;32m    796\u001b[0m         \u001b[0;32mfor\u001b[0m \u001b[0mmodule\u001b[0m \u001b[0;32min\u001b[0m \u001b[0mself\u001b[0m\u001b[0;34m.\u001b[0m\u001b[0mchildren\u001b[0m\u001b[0;34m(\u001b[0m\u001b[0;34m)\u001b[0m\u001b[0;34m:\u001b[0m\u001b[0;34m\u001b[0m\u001b[0;34m\u001b[0m\u001b[0m\n\u001b[0;32m--> 797\u001b[0;31m             \u001b[0mmodule\u001b[0m\u001b[0;34m.\u001b[0m\u001b[0m_apply\u001b[0m\u001b[0;34m(\u001b[0m\u001b[0mfn\u001b[0m\u001b[0;34m)\u001b[0m\u001b[0;34m\u001b[0m\u001b[0;34m\u001b[0m\u001b[0m\n\u001b[0m\u001b[1;32m    798\u001b[0m \u001b[0;34m\u001b[0m\u001b[0m\n\u001b[1;32m    799\u001b[0m         \u001b[0;32mdef\u001b[0m \u001b[0mcompute_should_use_set_data\u001b[0m\u001b[0;34m(\u001b[0m\u001b[0mtensor\u001b[0m\u001b[0;34m,\u001b[0m \u001b[0mtensor_applied\u001b[0m\u001b[0;34m)\u001b[0m\u001b[0;34m:\u001b[0m\u001b[0;34m\u001b[0m\u001b[0;34m\u001b[0m\u001b[0m\n",
      "\u001b[0;32m/opt/conda/envs/rapids/lib/python3.10/site-packages/torch/nn/modules/module.py\u001b[0m in \u001b[0;36m_apply\u001b[0;34m(self, fn)\u001b[0m\n\u001b[1;32m    795\u001b[0m     \u001b[0;32mdef\u001b[0m \u001b[0m_apply\u001b[0m\u001b[0;34m(\u001b[0m\u001b[0mself\u001b[0m\u001b[0;34m,\u001b[0m \u001b[0mfn\u001b[0m\u001b[0;34m)\u001b[0m\u001b[0;34m:\u001b[0m\u001b[0;34m\u001b[0m\u001b[0;34m\u001b[0m\u001b[0m\n\u001b[1;32m    796\u001b[0m         \u001b[0;32mfor\u001b[0m \u001b[0mmodule\u001b[0m \u001b[0;32min\u001b[0m \u001b[0mself\u001b[0m\u001b[0;34m.\u001b[0m\u001b[0mchildren\u001b[0m\u001b[0;34m(\u001b[0m\u001b[0;34m)\u001b[0m\u001b[0;34m:\u001b[0m\u001b[0;34m\u001b[0m\u001b[0;34m\u001b[0m\u001b[0m\n\u001b[0;32m--> 797\u001b[0;31m             \u001b[0mmodule\u001b[0m\u001b[0;34m.\u001b[0m\u001b[0m_apply\u001b[0m\u001b[0;34m(\u001b[0m\u001b[0mfn\u001b[0m\u001b[0;34m)\u001b[0m\u001b[0;34m\u001b[0m\u001b[0;34m\u001b[0m\u001b[0m\n\u001b[0m\u001b[1;32m    798\u001b[0m \u001b[0;34m\u001b[0m\u001b[0m\n\u001b[1;32m    799\u001b[0m         \u001b[0;32mdef\u001b[0m \u001b[0mcompute_should_use_set_data\u001b[0m\u001b[0;34m(\u001b[0m\u001b[0mtensor\u001b[0m\u001b[0;34m,\u001b[0m \u001b[0mtensor_applied\u001b[0m\u001b[0;34m)\u001b[0m\u001b[0;34m:\u001b[0m\u001b[0;34m\u001b[0m\u001b[0;34m\u001b[0m\u001b[0m\n",
      "\u001b[0;32m/opt/conda/envs/rapids/lib/python3.10/site-packages/torch/nn/modules/module.py\u001b[0m in \u001b[0;36m_apply\u001b[0;34m(self, fn)\u001b[0m\n\u001b[1;32m    795\u001b[0m     \u001b[0;32mdef\u001b[0m \u001b[0m_apply\u001b[0m\u001b[0;34m(\u001b[0m\u001b[0mself\u001b[0m\u001b[0;34m,\u001b[0m \u001b[0mfn\u001b[0m\u001b[0;34m)\u001b[0m\u001b[0;34m:\u001b[0m\u001b[0;34m\u001b[0m\u001b[0;34m\u001b[0m\u001b[0m\n\u001b[1;32m    796\u001b[0m         \u001b[0;32mfor\u001b[0m \u001b[0mmodule\u001b[0m \u001b[0;32min\u001b[0m \u001b[0mself\u001b[0m\u001b[0;34m.\u001b[0m\u001b[0mchildren\u001b[0m\u001b[0;34m(\u001b[0m\u001b[0;34m)\u001b[0m\u001b[0;34m:\u001b[0m\u001b[0;34m\u001b[0m\u001b[0;34m\u001b[0m\u001b[0m\n\u001b[0;32m--> 797\u001b[0;31m             \u001b[0mmodule\u001b[0m\u001b[0;34m.\u001b[0m\u001b[0m_apply\u001b[0m\u001b[0;34m(\u001b[0m\u001b[0mfn\u001b[0m\u001b[0;34m)\u001b[0m\u001b[0;34m\u001b[0m\u001b[0;34m\u001b[0m\u001b[0m\n\u001b[0m\u001b[1;32m    798\u001b[0m \u001b[0;34m\u001b[0m\u001b[0m\n\u001b[1;32m    799\u001b[0m         \u001b[0;32mdef\u001b[0m \u001b[0mcompute_should_use_set_data\u001b[0m\u001b[0;34m(\u001b[0m\u001b[0mtensor\u001b[0m\u001b[0;34m,\u001b[0m \u001b[0mtensor_applied\u001b[0m\u001b[0;34m)\u001b[0m\u001b[0;34m:\u001b[0m\u001b[0;34m\u001b[0m\u001b[0;34m\u001b[0m\u001b[0m\n",
      "\u001b[0;32m/opt/conda/envs/rapids/lib/python3.10/site-packages/torch/nn/modules/module.py\u001b[0m in \u001b[0;36m_apply\u001b[0;34m(self, fn)\u001b[0m\n\u001b[1;32m    795\u001b[0m     \u001b[0;32mdef\u001b[0m \u001b[0m_apply\u001b[0m\u001b[0;34m(\u001b[0m\u001b[0mself\u001b[0m\u001b[0;34m,\u001b[0m \u001b[0mfn\u001b[0m\u001b[0;34m)\u001b[0m\u001b[0;34m:\u001b[0m\u001b[0;34m\u001b[0m\u001b[0;34m\u001b[0m\u001b[0m\n\u001b[1;32m    796\u001b[0m         \u001b[0;32mfor\u001b[0m \u001b[0mmodule\u001b[0m \u001b[0;32min\u001b[0m \u001b[0mself\u001b[0m\u001b[0;34m.\u001b[0m\u001b[0mchildren\u001b[0m\u001b[0;34m(\u001b[0m\u001b[0;34m)\u001b[0m\u001b[0;34m:\u001b[0m\u001b[0;34m\u001b[0m\u001b[0;34m\u001b[0m\u001b[0m\n\u001b[0;32m--> 797\u001b[0;31m             \u001b[0mmodule\u001b[0m\u001b[0;34m.\u001b[0m\u001b[0m_apply\u001b[0m\u001b[0;34m(\u001b[0m\u001b[0mfn\u001b[0m\u001b[0;34m)\u001b[0m\u001b[0;34m\u001b[0m\u001b[0;34m\u001b[0m\u001b[0m\n\u001b[0m\u001b[1;32m    798\u001b[0m \u001b[0;34m\u001b[0m\u001b[0m\n\u001b[1;32m    799\u001b[0m         \u001b[0;32mdef\u001b[0m \u001b[0mcompute_should_use_set_data\u001b[0m\u001b[0;34m(\u001b[0m\u001b[0mtensor\u001b[0m\u001b[0;34m,\u001b[0m \u001b[0mtensor_applied\u001b[0m\u001b[0;34m)\u001b[0m\u001b[0;34m:\u001b[0m\u001b[0;34m\u001b[0m\u001b[0;34m\u001b[0m\u001b[0m\n",
      "\u001b[0;32m/opt/conda/envs/rapids/lib/python3.10/site-packages/torch/nn/modules/module.py\u001b[0m in \u001b[0;36m_apply\u001b[0;34m(self, fn)\u001b[0m\n\u001b[1;32m    795\u001b[0m     \u001b[0;32mdef\u001b[0m \u001b[0m_apply\u001b[0m\u001b[0;34m(\u001b[0m\u001b[0mself\u001b[0m\u001b[0;34m,\u001b[0m \u001b[0mfn\u001b[0m\u001b[0;34m)\u001b[0m\u001b[0;34m:\u001b[0m\u001b[0;34m\u001b[0m\u001b[0;34m\u001b[0m\u001b[0m\n\u001b[1;32m    796\u001b[0m         \u001b[0;32mfor\u001b[0m \u001b[0mmodule\u001b[0m \u001b[0;32min\u001b[0m \u001b[0mself\u001b[0m\u001b[0;34m.\u001b[0m\u001b[0mchildren\u001b[0m\u001b[0;34m(\u001b[0m\u001b[0;34m)\u001b[0m\u001b[0;34m:\u001b[0m\u001b[0;34m\u001b[0m\u001b[0;34m\u001b[0m\u001b[0m\n\u001b[0;32m--> 797\u001b[0;31m             \u001b[0mmodule\u001b[0m\u001b[0;34m.\u001b[0m\u001b[0m_apply\u001b[0m\u001b[0;34m(\u001b[0m\u001b[0mfn\u001b[0m\u001b[0;34m)\u001b[0m\u001b[0;34m\u001b[0m\u001b[0;34m\u001b[0m\u001b[0m\n\u001b[0m\u001b[1;32m    798\u001b[0m \u001b[0;34m\u001b[0m\u001b[0m\n\u001b[1;32m    799\u001b[0m         \u001b[0;32mdef\u001b[0m \u001b[0mcompute_should_use_set_data\u001b[0m\u001b[0;34m(\u001b[0m\u001b[0mtensor\u001b[0m\u001b[0;34m,\u001b[0m \u001b[0mtensor_applied\u001b[0m\u001b[0;34m)\u001b[0m\u001b[0;34m:\u001b[0m\u001b[0;34m\u001b[0m\u001b[0;34m\u001b[0m\u001b[0m\n",
      "\u001b[0;32m/opt/conda/envs/rapids/lib/python3.10/site-packages/torch/nn/modules/module.py\u001b[0m in \u001b[0;36m_apply\u001b[0;34m(self, fn)\u001b[0m\n\u001b[1;32m    795\u001b[0m     \u001b[0;32mdef\u001b[0m \u001b[0m_apply\u001b[0m\u001b[0;34m(\u001b[0m\u001b[0mself\u001b[0m\u001b[0;34m,\u001b[0m \u001b[0mfn\u001b[0m\u001b[0;34m)\u001b[0m\u001b[0;34m:\u001b[0m\u001b[0;34m\u001b[0m\u001b[0;34m\u001b[0m\u001b[0m\n\u001b[1;32m    796\u001b[0m         \u001b[0;32mfor\u001b[0m \u001b[0mmodule\u001b[0m \u001b[0;32min\u001b[0m \u001b[0mself\u001b[0m\u001b[0;34m.\u001b[0m\u001b[0mchildren\u001b[0m\u001b[0;34m(\u001b[0m\u001b[0;34m)\u001b[0m\u001b[0;34m:\u001b[0m\u001b[0;34m\u001b[0m\u001b[0;34m\u001b[0m\u001b[0m\n\u001b[0;32m--> 797\u001b[0;31m             \u001b[0mmodule\u001b[0m\u001b[0;34m.\u001b[0m\u001b[0m_apply\u001b[0m\u001b[0;34m(\u001b[0m\u001b[0mfn\u001b[0m\u001b[0;34m)\u001b[0m\u001b[0;34m\u001b[0m\u001b[0;34m\u001b[0m\u001b[0m\n\u001b[0m\u001b[1;32m    798\u001b[0m \u001b[0;34m\u001b[0m\u001b[0m\n\u001b[1;32m    799\u001b[0m         \u001b[0;32mdef\u001b[0m \u001b[0mcompute_should_use_set_data\u001b[0m\u001b[0;34m(\u001b[0m\u001b[0mtensor\u001b[0m\u001b[0;34m,\u001b[0m \u001b[0mtensor_applied\u001b[0m\u001b[0;34m)\u001b[0m\u001b[0;34m:\u001b[0m\u001b[0;34m\u001b[0m\u001b[0;34m\u001b[0m\u001b[0m\n",
      "\u001b[0;32m/opt/conda/envs/rapids/lib/python3.10/site-packages/torch/nn/modules/module.py\u001b[0m in \u001b[0;36m_apply\u001b[0;34m(self, fn)\u001b[0m\n\u001b[1;32m    818\u001b[0m             \u001b[0;31m# `with torch.no_grad():`\u001b[0m\u001b[0;34m\u001b[0m\u001b[0;34m\u001b[0m\u001b[0m\n\u001b[1;32m    819\u001b[0m             \u001b[0;32mwith\u001b[0m \u001b[0mtorch\u001b[0m\u001b[0;34m.\u001b[0m\u001b[0mno_grad\u001b[0m\u001b[0;34m(\u001b[0m\u001b[0;34m)\u001b[0m\u001b[0;34m:\u001b[0m\u001b[0;34m\u001b[0m\u001b[0;34m\u001b[0m\u001b[0m\n\u001b[0;32m--> 820\u001b[0;31m                 \u001b[0mparam_applied\u001b[0m \u001b[0;34m=\u001b[0m \u001b[0mfn\u001b[0m\u001b[0;34m(\u001b[0m\u001b[0mparam\u001b[0m\u001b[0;34m)\u001b[0m\u001b[0;34m\u001b[0m\u001b[0;34m\u001b[0m\u001b[0m\n\u001b[0m\u001b[1;32m    821\u001b[0m             \u001b[0mshould_use_set_data\u001b[0m \u001b[0;34m=\u001b[0m \u001b[0mcompute_should_use_set_data\u001b[0m\u001b[0;34m(\u001b[0m\u001b[0mparam\u001b[0m\u001b[0;34m,\u001b[0m \u001b[0mparam_applied\u001b[0m\u001b[0;34m)\u001b[0m\u001b[0;34m\u001b[0m\u001b[0;34m\u001b[0m\u001b[0m\n\u001b[1;32m    822\u001b[0m             \u001b[0;32mif\u001b[0m \u001b[0mshould_use_set_data\u001b[0m\u001b[0;34m:\u001b[0m\u001b[0;34m\u001b[0m\u001b[0;34m\u001b[0m\u001b[0m\n",
      "\u001b[0;32m/opt/conda/envs/rapids/lib/python3.10/site-packages/torch/nn/modules/module.py\u001b[0m in \u001b[0;36mconvert\u001b[0;34m(t)\u001b[0m\n\u001b[1;32m   1141\u001b[0m                 return t.to(device, dtype if t.is_floating_point() or t.is_complex() else None,\n\u001b[1;32m   1142\u001b[0m                             non_blocking, memory_format=convert_to_format)\n\u001b[0;32m-> 1143\u001b[0;31m             \u001b[0;32mreturn\u001b[0m \u001b[0mt\u001b[0m\u001b[0;34m.\u001b[0m\u001b[0mto\u001b[0m\u001b[0;34m(\u001b[0m\u001b[0mdevice\u001b[0m\u001b[0;34m,\u001b[0m \u001b[0mdtype\u001b[0m \u001b[0;32mif\u001b[0m \u001b[0mt\u001b[0m\u001b[0;34m.\u001b[0m\u001b[0mis_floating_point\u001b[0m\u001b[0;34m(\u001b[0m\u001b[0;34m)\u001b[0m \u001b[0;32mor\u001b[0m \u001b[0mt\u001b[0m\u001b[0;34m.\u001b[0m\u001b[0mis_complex\u001b[0m\u001b[0;34m(\u001b[0m\u001b[0;34m)\u001b[0m \u001b[0;32melse\u001b[0m \u001b[0;32mNone\u001b[0m\u001b[0;34m,\u001b[0m \u001b[0mnon_blocking\u001b[0m\u001b[0;34m)\u001b[0m\u001b[0;34m\u001b[0m\u001b[0;34m\u001b[0m\u001b[0m\n\u001b[0m\u001b[1;32m   1144\u001b[0m \u001b[0;34m\u001b[0m\u001b[0m\n\u001b[1;32m   1145\u001b[0m         \u001b[0;32mreturn\u001b[0m \u001b[0mself\u001b[0m\u001b[0;34m.\u001b[0m\u001b[0m_apply\u001b[0m\u001b[0;34m(\u001b[0m\u001b[0mconvert\u001b[0m\u001b[0;34m)\u001b[0m\u001b[0;34m\u001b[0m\u001b[0;34m\u001b[0m\u001b[0m\n",
      "\u001b[0;31mOutOfMemoryError\u001b[0m: CUDA out of memory. Tried to allocate 20.00 MiB (GPU 0; 79.15 GiB total capacity; 894.13 MiB already allocated; 18.19 MiB free; 896.00 MiB reserved in total by PyTorch) If reserved memory is >> allocated memory try setting max_split_size_mb to avoid fragmentation.  See documentation for Memory Management and PYTORCH_CUDA_ALLOC_CONF"
     ]
    }
   ],
   "source": [
    "soprompt = SoPrompt(llm, args, prompt_data)"
   ]
  },
  {
   "cell_type": "markdown",
   "id": "89892bd7-e2eb-488c-8dc7-4362352101f7",
   "metadata": {},
   "source": [
    "## Eval"
   ]
  },
  {
   "cell_type": "code",
   "execution_count": null,
   "id": "391f3d85-18f3-43a2-b23d-9695f1fb0dcd",
   "metadata": {
    "tags": []
   },
   "outputs": [],
   "source": [
    "idx = 1\n",
    "soprompt_output = soprompt.generate(eval_data[idx], doc_mode='comb', pred_mode='groups',\n",
    "                                        return_dict=True, external=external)\n",
    "soprompt_output['output'] = soprompt_output['generation']"
   ]
  },
  {
   "cell_type": "code",
   "execution_count": null,
   "id": "135433c2-3bc4-4515-b29b-05b555c2bae1",
   "metadata": {
    "tags": []
   },
   "outputs": [],
   "source": [
    "import copy\n",
    "\n",
    "data = [copy.deepcopy(soprompt_output)]"
   ]
  },
  {
   "cell_type": "code",
   "execution_count": null,
   "id": "7e3652be-be1c-4231-b73f-7dfcf0a0a913",
   "metadata": {
    "tags": []
   },
   "outputs": [],
   "source": [
    "from eval import *\n",
    "\n",
    "eval_parser = argparse.ArgumentParser()\n",
    "# eval_parser.add_argument(\"--f\", type=str, required=True, help=\"Output file. Should have field `question`, `output`, (ROUGE) `answer`, \\\n",
    "#                     (accuracy) `qa_pairs`, (AIS) `docs`\")\n",
    "eval_parser.add_argument(\"--no_rouge\", action=\"store_true\", help=\"Do not evaluate ROUGE score\")\n",
    "eval_parser.add_argument(\"--qa\", action=\"store_true\", help=\"Use the QA model\")\n",
    "eval_parser.add_argument(\"--mauve\", action=\"store_true\", help=\"Use the mauve score model\")\n",
    "eval_parser.add_argument(\"--citations\", action=\"store_true\", help=\"Evaluation with citation\")\n",
    "eval_parser.add_argument(\"--at_most_citations\", type=int, default=3, help=\"At most take this many documents (mostly for precision)\")\n",
    "eval_parser.add_argument(\"--claims_nli\", action=\"store_true\", help=\"Use claims for ELI5\")\n",
    "\n",
    "# QAMPARI\n",
    "eval_parser.add_argument(\"--cot\", action=\"store_true\", help=\"For QAMPARI, try to find colon and separate the COT and answer listing\")\n",
    "\n",
    "eval_cl_args = [\n",
    "    '--citations',\n",
    "    '--qa',\n",
    "    '--mauve'\n",
    "]\n",
    "\n",
    "eval_args = eval_parser.parse_args(args=eval_cl_args)\n",
    "\n",
    "if \"qampari\" in args.dataset_name:\n",
    "    eval_args.no_rouge = True\n",
    "    eval_args.qa = False\n",
    "    eval_args.mauve = False\n",
    "    eval_args.decontext = False\n",
    "    qampari = True\n",
    "else:\n",
    "    qampari = False"
   ]
  },
  {
   "cell_type": "code",
   "execution_count": null,
   "id": "3fcc0b53-4169-48b6-af2d-243cbab6a925",
   "metadata": {
    "tags": []
   },
   "outputs": [],
   "source": [
    "def eval_generation(data):\n",
    "    for i in range(len(data)):\n",
    "        data[i]['output'] = data[i]['output'].strip().split(\"\\n\")[0]\n",
    "        data[i]['output'] = data[i]['output'].replace(\"<|im_end|>\", \"\")\n",
    "\n",
    "\n",
    "    # Remove all citations for all non-AutoAIS evaluation\n",
    "    normalized_data = copy.deepcopy(data)\n",
    "    for i in range(len(normalized_data)):\n",
    "        normalized_data[i]['output'] = remove_citations(normalized_data[i]['output'])\n",
    "\n",
    "    result = {}\n",
    "    result['length'] = compute_len(normalized_data)\n",
    "    result['str_em'], result['str_hit'] = compute_str_em(normalized_data)\n",
    "    if qampari:\n",
    "        result.update(compute_qampari_f1(normalized_data, cot=eval_args.cot))\n",
    "    if not eval_args.no_rouge:\n",
    "        result['rougeLsum'] = compute_rouge(normalized_data)\n",
    "    if eval_args.qa:\n",
    "        result.update(compute_qa(normalized_data))\n",
    "    if eval_args.mauve:\n",
    "        result['mauve'] = compute_mauve(normalized_data)\n",
    "    if eval_args.citations: \n",
    "        result.update(compute_autoais(data, qampari=qampari, at_most_citations=eval_args.at_most_citations))\n",
    "    if eval_args.claims_nli:\n",
    "        result[\"claims_nli\"] = compute_claims(normalized_data)\n",
    "\n",
    "    return result"
   ]
  },
  {
   "cell_type": "code",
   "execution_count": null,
   "id": "75d83c5a-c61b-4d57-8fd3-6bce9d42baff",
   "metadata": {
    "tags": []
   },
   "outputs": [],
   "source": [
    "from tqdm.auto import tqdm\n",
    "def eval_mode(num_data, doc_mode, pred_mode):\n",
    "    outputs = []\n",
    "    for idx in tqdm(range(num_data)):\n",
    "        soprompt_output = soprompt.generate(eval_data[idx], doc_mode=doc_mode, pred_mode=pred_mode,\n",
    "                                            return_dict=True, external=external)\n",
    "        soprompt_output['output'] = soprompt_output['generation']\n",
    "        outputs.append(soprompt_output)\n",
    "    result = eval_generation(outputs)\n",
    "    return result, outputs"
   ]
  },
  {
   "cell_type": "code",
   "execution_count": null,
   "id": "a65ac096-e60e-42ff-a2df-1e32b629a443",
   "metadata": {
    "tags": []
   },
   "outputs": [],
   "source": [
    "from soprompt import SOPROMPT_DOC_MODES, SOPROMPT_PRED_MODES\n",
    "from tqdm.auto import tqdm\n",
    "\n",
    "num_eval = 10\n",
    "results = {}\n",
    "outputs = {}\n",
    "for doc_mode in tqdm(SOPROMPT_DOC_MODES):\n",
    "    for pred_mode in tqdm(SOPROMPT_PRED_MODES):\n",
    "        print('doc_mode', doc_mode, 'pred_mode', pred_mode)\n",
    "        result, output = eval_mode(10, doc_mode, pred_mode)\n",
    "        results[f'{doc_mode}-{pred_mode}'] = result\n",
    "        outputs[f'{doc_mode}-{pred_mode}'] = output"
   ]
  },
  {
   "cell_type": "code",
   "execution_count": null,
   "id": "a1d90ee4-5310-47a0-9b40-b189a76adeb0",
   "metadata": {
    "tags": []
   },
   "outputs": [],
   "source": [
    "results"
   ]
  },
  {
   "cell_type": "code",
   "execution_count": null,
   "id": "95ff9b66-8e33-4d76-91a7-b4335e3d3eab",
   "metadata": {
    "tags": []
   },
   "outputs": [],
   "source": [
    "import matplotlib.pyplot as plt\n",
    "\n",
    "# Extract metric names (assuming all entries have the same metrics)\n",
    "# Extract metrics and methods\n",
    "methods = list(results.keys())\n",
    "metrics = list(results[methods[0]].keys())\n",
    "# Correction needed in the loop to correctly use metric names from the data dictionary\n",
    "\n",
    "fig, ax = plt.subplots(figsize=(15, 10))\n",
    "\n",
    "# Number of groups\n",
    "num_groups = len(metrics)\n",
    "# Number of methods (bars in each group)\n",
    "num_methods = len(methods)\n",
    "\n",
    "# Positions of the groups\n",
    "group_positions = np.arange(num_groups)\n",
    "\n",
    "# Width of a single bar\n",
    "bar_width = 0.1\n",
    "\n",
    "# Loop over each metric to create a set of bars\n",
    "for i, method in enumerate(methods):\n",
    "    performance = [results[method][metric] for metric in metrics]\n",
    "    positions = [x + (i * bar_width) for x in group_positions]\n",
    "    \n",
    "    ax.bar(positions, performance, bar_width, label=method)\n",
    "\n",
    "ax.set_xlabel('Metrics', fontsize=14)\n",
    "ax.set_ylabel('Scores', fontsize=14)\n",
    "ax.set_title('Scores by Metric and Method', fontsize=16)\n",
    "ax.set_xticks([r + bar_width for r in range(len(metrics))])\n",
    "ax.set_xticklabels(metrics, rotation=45, ha=\"right\")\n",
    "ax.legend()\n",
    "\n",
    "plt.tight_layout()\n",
    "plt.show()\n"
   ]
  },
  {
   "cell_type": "code",
   "execution_count": 20,
   "id": "ae8a53ea-036f-46fe-9576-f72e9d2acbda",
   "metadata": {
    "tags": []
   },
   "outputs": [
    {
     "data": {
      "text/plain": [
       "dict_keys(['retrieved-docs', 'retrieved-groups', 'postcited-docs', 'postcited-groups', 'comb-docs', 'comb-groups', 'none-docs', 'none-groups'])"
      ]
     },
     "execution_count": 20,
     "metadata": {},
     "output_type": "execute_result"
    }
   ],
   "source": [
    "outputs.keys()"
   ]
  },
  {
   "cell_type": "code",
   "execution_count": 25,
   "id": "e3a17be9-5827-409d-b08c-61657c7d968c",
   "metadata": {
    "tags": []
   },
   "outputs": [
    {
     "data": {
      "text/plain": [
       "dict_keys(['qa_pairs', 'wikipages', 'annotations', 'sample_id', 'question', 'docs', 'answer', 'doc_mode', 'pred_mode', 'ndoc', 'generation', 'prompt', 'prompt_len', 'output'])"
      ]
     },
     "execution_count": 25,
     "metadata": {},
     "output_type": "execute_result"
    }
   ],
   "source": [
    "outputs['retrieved-docs'][idx].keys()"
   ]
  },
  {
   "cell_type": "code",
   "execution_count": null,
   "id": "76f56ec1-ac90-49b9-bdc6-9af761c3af0c",
   "metadata": {},
   "outputs": [],
   "source": [
    "outputs['retrieved-docs']"
   ]
  },
  {
   "cell_type": "code",
   "execution_count": null,
   "id": "0ab46de8-cdb6-4ad9-af97-b9e9b36435f0",
   "metadata": {},
   "outputs": [],
   "source": []
  },
  {
   "cell_type": "code",
   "execution_count": 24,
   "id": "9d05dcec-e546-4728-b797-f4ee68bbfc06",
   "metadata": {
    "tags": []
   },
   "outputs": [],
   "source": [
    "idx = 1\n"
   ]
  },
  {
   "cell_type": "code",
   "execution_count": 15,
   "id": "ad893ab0-b2e5-43a5-b4cc-15391f88caee",
   "metadata": {
    "tags": []
   },
   "outputs": [
    {
     "name": "stdout",
     "output_type": "stream",
     "text": [
      "dict_keys(['qa_pairs', 'wikipages', 'annotations', 'sample_id', 'question', 'docs', 'answer', 'ndoc'])\n"
     ]
    }
   ],
   "source": [
    "soprompt_output = soprompt.generate(eval_data[0], mode='closedbook', \n",
    "                                            return_dict=True, external=external)\n",
    "print(soprompt_output.keys())"
   ]
  },
  {
   "cell_type": "markdown",
   "id": "91838337-33ba-488a-abb1-66575125e893",
   "metadata": {},
   "source": [
    "## Show"
   ]
  },
  {
   "cell_type": "code",
   "execution_count": 7,
   "id": "aeeb3f32-ca6b-473c-92ef-37ccf4d68d7f",
   "metadata": {
    "tags": []
   },
   "outputs": [],
   "source": [
    "def show_example_ggp(idx, mode='closedbook_postcite_repred'):\n",
    "    assert mode in ['closedbook_postcite_repred', 'groupgen_pred']\n",
    "    soprompt_output = soprompt.generate(eval_data[idx], mode=mode, \n",
    "                                        return_dict=True, external=external)\n",
    "    print(f'===== MODE: {mode} =====')\n",
    "    print('-----groupgen_prompt-----')\n",
    "    print(soprompt_output['groupgen_prompt'])\n",
    "    print('-----grouppred_prompt-----')\n",
    "    print(soprompt_output['grouppred_prompt'])\n",
    "    print('-----groups-----')\n",
    "    print(soprompt_output['groups'])\n",
    "    print('-----groups_str-----')\n",
    "    print(soprompt_output['groups_str'])\n",
    "    print('-----question-----')\n",
    "    print(soprompt_output['question'])\n",
    "    print('-----answer-----')\n",
    "    print(soprompt_output['answer'])\n",
    "    print('-----generation-----')\n",
    "    print(soprompt_output['generation'])\n",
    "    if mode == 'closedbook_postcite_repred':\n",
    "        print('-----postcite_best_docs-----')\n",
    "        print('\\n\\n'.join([doc['text'] for doc in soprompt_output['postcite_best_docs']]))\n",
    "        print('-----original_docs-----')\n",
    "        print('\\n\\n'.join([doc['text'] for doc in soprompt_output['original_docs'][:args.ndoc]]))\n",
    "        print('-----entail-----')\n",
    "        print(soprompt_output['entail'])\n",
    "        print('-----entail_prec-----')\n",
    "        print(soprompt_output['entail_prec'])\n",
    "        print('-----num_postcite_overlap-----')\n",
    "        print(soprompt_output['num_postcite_overlap'])\n",
    "        print('-----num_new_used-----')\n",
    "        print(soprompt_output['num_new_used'])\n",
    "    return soprompt_output\n",
    "\n",
    "def show_example_simple(idx, mode='vanilla'):\n",
    "    assert mode in ['vanilla', 'closedbook']\n",
    "    vanilla_output = soprompt.generate(eval_data[idx], mode='vanilla')\n",
    "    print(f'===== MODE: {mode} =====')\n",
    "    print('-----generation-----')\n",
    "    print(vanilla_output)\n",
    "    return vanilla_output\n",
    "\n",
    "def show_example_all(idx):\n",
    "    show_example_ggp(idx, mode='closedbook_postcite_repred')\n",
    "    show_example_ggp(idx, mode='groupgen_pred') \n",
    "    show_example_simple(idx, mode='vanilla')\n",
    "    show_example_simple(idx, mode='closedbook')"
   ]
  },
  {
   "cell_type": "code",
   "execution_count": 9,
   "id": "54b2c26e-96d6-41bc-8977-330ed4e1a69e",
   "metadata": {
    "tags": []
   },
   "outputs": [
    {
     "data": {
      "application/vnd.jupyter.widget-view+json": {
       "model_id": "23eab989e172407e9fed5d02bde004ab",
       "version_major": 2,
       "version_minor": 0
      },
      "text/plain": [
       "Batches:   0%|          | 0/4 [00:00<?, ?it/s]"
      ]
     },
     "metadata": {},
     "output_type": "display_data"
    },
    {
     "data": {
      "application/vnd.jupyter.widget-view+json": {
       "model_id": "1601ea3ff2144e0e84fc31badb537e59",
       "version_major": 2,
       "version_minor": 0
      },
      "text/plain": [
       "Batches:   0%|          | 0/1 [00:00<?, ?it/s]"
      ]
     },
     "metadata": {},
     "output_type": "display_data"
    },
    {
     "data": {
      "application/vnd.jupyter.widget-view+json": {
       "model_id": "b30335927d31493baa291920c6a95e60",
       "version_major": 2,
       "version_minor": 0
      },
      "text/plain": [
       "Batches:   0%|          | 0/1 [00:00<?, ?it/s]"
      ]
     },
     "metadata": {},
     "output_type": "display_data"
    },
    {
     "data": {
      "application/vnd.jupyter.widget-view+json": {
       "model_id": "1350b1029dd442ddac6cd521a25b5893",
       "version_major": 2,
       "version_minor": 0
      },
      "text/plain": [
       "Batches:   0%|          | 0/1 [00:00<?, ?it/s]"
      ]
     },
     "metadata": {},
     "output_type": "display_data"
    },
    {
     "data": {
      "application/vnd.jupyter.widget-view+json": {
       "model_id": "2baede8f6b774723b0cc4c363ccb2cfd",
       "version_major": 2,
       "version_minor": 0
      },
      "text/plain": [
       "Batches:   0%|          | 0/1 [00:00<?, ?it/s]"
      ]
     },
     "metadata": {},
     "output_type": "display_data"
    },
    {
     "name": "stderr",
     "output_type": "stream",
     "text": [
      "2024-03-05 22:33:30,490 - INFO - Running AutoAIS...\n",
      "2024-03-05 22:33:30,574 - INFO - Running AutoAIS...\n",
      "2024-03-05 22:33:30,658 - INFO - Running AutoAIS...\n",
      "2024-03-05 22:33:30,740 - INFO - Running AutoAIS...\n"
     ]
    },
    {
     "name": "stdout",
     "output_type": "stream",
     "text": [
      "0 num_postcite_overlap 0 num_new_used 0\n"
     ]
    },
    {
     "data": {
      "application/vnd.jupyter.widget-view+json": {
       "model_id": "665f9121795f464e8a8c4311000a040f",
       "version_major": 2,
       "version_minor": 0
      },
      "text/plain": [
       "Batches:   0%|          | 0/4 [00:00<?, ?it/s]"
      ]
     },
     "metadata": {},
     "output_type": "display_data"
    },
    {
     "data": {
      "application/vnd.jupyter.widget-view+json": {
       "model_id": "c4f83ae9c0854fb3a42a9711f1f87910",
       "version_major": 2,
       "version_minor": 0
      },
      "text/plain": [
       "Batches:   0%|          | 0/1 [00:00<?, ?it/s]"
      ]
     },
     "metadata": {},
     "output_type": "display_data"
    },
    {
     "data": {
      "application/vnd.jupyter.widget-view+json": {
       "model_id": "df28877b290c4e2185100d9634bc59ae",
       "version_major": 2,
       "version_minor": 0
      },
      "text/plain": [
       "Batches:   0%|          | 0/1 [00:00<?, ?it/s]"
      ]
     },
     "metadata": {},
     "output_type": "display_data"
    },
    {
     "name": "stderr",
     "output_type": "stream",
     "text": [
      "2024-03-05 22:33:34,631 - INFO - Running AutoAIS...\n",
      "2024-03-05 22:33:34,692 - INFO - Running AutoAIS...\n"
     ]
    },
    {
     "name": "stdout",
     "output_type": "stream",
     "text": [
      "1 num_postcite_overlap 1 num_new_used 1\n"
     ]
    },
    {
     "data": {
      "application/vnd.jupyter.widget-view+json": {
       "model_id": "a576133aff424ef1b276ee8305551f37",
       "version_major": 2,
       "version_minor": 0
      },
      "text/plain": [
       "Batches:   0%|          | 0/4 [00:00<?, ?it/s]"
      ]
     },
     "metadata": {},
     "output_type": "display_data"
    },
    {
     "data": {
      "application/vnd.jupyter.widget-view+json": {
       "model_id": "4760a20e232b46f19798beed8b6004e2",
       "version_major": 2,
       "version_minor": 0
      },
      "text/plain": [
       "Batches:   0%|          | 0/1 [00:00<?, ?it/s]"
      ]
     },
     "metadata": {},
     "output_type": "display_data"
    },
    {
     "data": {
      "application/vnd.jupyter.widget-view+json": {
       "model_id": "7bfdffad207a4daabe2426213a9a5fb6",
       "version_major": 2,
       "version_minor": 0
      },
      "text/plain": [
       "Batches:   0%|          | 0/1 [00:00<?, ?it/s]"
      ]
     },
     "metadata": {},
     "output_type": "display_data"
    },
    {
     "name": "stderr",
     "output_type": "stream",
     "text": [
      "2024-03-05 22:33:37,754 - INFO - Running AutoAIS...\n",
      "2024-03-05 22:33:37,817 - INFO - Running AutoAIS...\n"
     ]
    },
    {
     "name": "stdout",
     "output_type": "stream",
     "text": [
      "2 num_postcite_overlap 1 num_new_used 2\n"
     ]
    },
    {
     "data": {
      "application/vnd.jupyter.widget-view+json": {
       "model_id": "26ca11088559464aa5ca0779a9c57022",
       "version_major": 2,
       "version_minor": 0
      },
      "text/plain": [
       "Batches:   0%|          | 0/4 [00:00<?, ?it/s]"
      ]
     },
     "metadata": {},
     "output_type": "display_data"
    },
    {
     "data": {
      "application/vnd.jupyter.widget-view+json": {
       "model_id": "44cb164e0aef471c9041f878f7e3b91e",
       "version_major": 2,
       "version_minor": 0
      },
      "text/plain": [
       "Batches:   0%|          | 0/1 [00:00<?, ?it/s]"
      ]
     },
     "metadata": {},
     "output_type": "display_data"
    },
    {
     "data": {
      "application/vnd.jupyter.widget-view+json": {
       "model_id": "e7aed6049cbc4329b9ba4bff88432a3c",
       "version_major": 2,
       "version_minor": 0
      },
      "text/plain": [
       "Batches:   0%|          | 0/1 [00:00<?, ?it/s]"
      ]
     },
     "metadata": {},
     "output_type": "display_data"
    },
    {
     "name": "stderr",
     "output_type": "stream",
     "text": [
      "2024-03-05 22:33:41,289 - INFO - Running AutoAIS...\n",
      "2024-03-05 22:33:41,357 - INFO - Running AutoAIS...\n"
     ]
    },
    {
     "name": "stdout",
     "output_type": "stream",
     "text": [
      "3 num_postcite_overlap 1 num_new_used 1\n"
     ]
    },
    {
     "data": {
      "application/vnd.jupyter.widget-view+json": {
       "model_id": "2ac1b43079fc411680b7a0cf707754e3",
       "version_major": 2,
       "version_minor": 0
      },
      "text/plain": [
       "Batches:   0%|          | 0/4 [00:00<?, ?it/s]"
      ]
     },
     "metadata": {},
     "output_type": "display_data"
    },
    {
     "data": {
      "application/vnd.jupyter.widget-view+json": {
       "model_id": "f01fd82e948a469eb91bdb92aab9c9aa",
       "version_major": 2,
       "version_minor": 0
      },
      "text/plain": [
       "Batches:   0%|          | 0/1 [00:00<?, ?it/s]"
      ]
     },
     "metadata": {},
     "output_type": "display_data"
    },
    {
     "name": "stderr",
     "output_type": "stream",
     "text": [
      "2024-03-05 22:33:44,489 - INFO - Running AutoAIS...\n"
     ]
    },
    {
     "name": "stdout",
     "output_type": "stream",
     "text": [
      "4 num_postcite_overlap 0 num_new_used 0\n"
     ]
    },
    {
     "data": {
      "application/vnd.jupyter.widget-view+json": {
       "model_id": "d1f0266830534217961b57b039bf7056",
       "version_major": 2,
       "version_minor": 0
      },
      "text/plain": [
       "Batches:   0%|          | 0/4 [00:00<?, ?it/s]"
      ]
     },
     "metadata": {},
     "output_type": "display_data"
    },
    {
     "data": {
      "application/vnd.jupyter.widget-view+json": {
       "model_id": "5c62bbc4e44c42c481cec6eccdac05ee",
       "version_major": 2,
       "version_minor": 0
      },
      "text/plain": [
       "Batches:   0%|          | 0/1 [00:00<?, ?it/s]"
      ]
     },
     "metadata": {},
     "output_type": "display_data"
    },
    {
     "name": "stderr",
     "output_type": "stream",
     "text": [
      "2024-03-05 22:33:47,686 - INFO - Running AutoAIS...\n"
     ]
    },
    {
     "name": "stdout",
     "output_type": "stream",
     "text": [
      "5 num_postcite_overlap 0 num_new_used 0\n"
     ]
    },
    {
     "data": {
      "application/vnd.jupyter.widget-view+json": {
       "model_id": "639eb56926d246468a07672cf04ad6b5",
       "version_major": 2,
       "version_minor": 0
      },
      "text/plain": [
       "Batches:   0%|          | 0/4 [00:00<?, ?it/s]"
      ]
     },
     "metadata": {},
     "output_type": "display_data"
    },
    {
     "data": {
      "application/vnd.jupyter.widget-view+json": {
       "model_id": "89e196a0013b4247b854849e565f0be6",
       "version_major": 2,
       "version_minor": 0
      },
      "text/plain": [
       "Batches:   0%|          | 0/1 [00:00<?, ?it/s]"
      ]
     },
     "metadata": {},
     "output_type": "display_data"
    },
    {
     "name": "stderr",
     "output_type": "stream",
     "text": [
      "2024-03-05 22:33:50,918 - INFO - Running AutoAIS...\n"
     ]
    },
    {
     "name": "stdout",
     "output_type": "stream",
     "text": [
      "6 num_postcite_overlap 0 num_new_used 0\n"
     ]
    },
    {
     "data": {
      "application/vnd.jupyter.widget-view+json": {
       "model_id": "c85396ae70b2471b92975f521075574f",
       "version_major": 2,
       "version_minor": 0
      },
      "text/plain": [
       "Batches:   0%|          | 0/4 [00:00<?, ?it/s]"
      ]
     },
     "metadata": {},
     "output_type": "display_data"
    },
    {
     "data": {
      "application/vnd.jupyter.widget-view+json": {
       "model_id": "2504af2af6e643c6ba3743bc415fb2bf",
       "version_major": 2,
       "version_minor": 0
      },
      "text/plain": [
       "Batches:   0%|          | 0/1 [00:00<?, ?it/s]"
      ]
     },
     "metadata": {},
     "output_type": "display_data"
    },
    {
     "name": "stderr",
     "output_type": "stream",
     "text": [
      "2024-03-05 22:33:52,967 - INFO - Running AutoAIS...\n"
     ]
    },
    {
     "name": "stdout",
     "output_type": "stream",
     "text": [
      "7 num_postcite_overlap 1 num_new_used 1\n"
     ]
    },
    {
     "data": {
      "application/vnd.jupyter.widget-view+json": {
       "model_id": "2a30bc7a8767453fa482040eb6494332",
       "version_major": 2,
       "version_minor": 0
      },
      "text/plain": [
       "Batches:   0%|          | 0/4 [00:00<?, ?it/s]"
      ]
     },
     "metadata": {},
     "output_type": "display_data"
    },
    {
     "data": {
      "application/vnd.jupyter.widget-view+json": {
       "model_id": "3e544b7d76234b0c8e89b39ac5f9b36a",
       "version_major": 2,
       "version_minor": 0
      },
      "text/plain": [
       "Batches:   0%|          | 0/1 [00:00<?, ?it/s]"
      ]
     },
     "metadata": {},
     "output_type": "display_data"
    },
    {
     "data": {
      "application/vnd.jupyter.widget-view+json": {
       "model_id": "29463f7c6ee8410880265ea908c295e1",
       "version_major": 2,
       "version_minor": 0
      },
      "text/plain": [
       "Batches:   0%|          | 0/1 [00:00<?, ?it/s]"
      ]
     },
     "metadata": {},
     "output_type": "display_data"
    },
    {
     "name": "stderr",
     "output_type": "stream",
     "text": [
      "2024-03-05 22:33:56,643 - INFO - Running AutoAIS...\n",
      "2024-03-05 22:33:56,747 - INFO - Running AutoAIS...\n"
     ]
    },
    {
     "name": "stdout",
     "output_type": "stream",
     "text": [
      "8 num_postcite_overlap 0 num_new_used 0\n"
     ]
    },
    {
     "data": {
      "application/vnd.jupyter.widget-view+json": {
       "model_id": "8f3b52ec97d04f26a22016d1dd600f99",
       "version_major": 2,
       "version_minor": 0
      },
      "text/plain": [
       "Batches:   0%|          | 0/4 [00:00<?, ?it/s]"
      ]
     },
     "metadata": {},
     "output_type": "display_data"
    },
    {
     "data": {
      "application/vnd.jupyter.widget-view+json": {
       "model_id": "d034205fe35e43049279f8c281820dea",
       "version_major": 2,
       "version_minor": 0
      },
      "text/plain": [
       "Batches:   0%|          | 0/1 [00:00<?, ?it/s]"
      ]
     },
     "metadata": {},
     "output_type": "display_data"
    },
    {
     "name": "stderr",
     "output_type": "stream",
     "text": [
      "2024-03-05 22:33:59,443 - INFO - Running AutoAIS...\n"
     ]
    },
    {
     "name": "stdout",
     "output_type": "stream",
     "text": [
      "9 num_postcite_overlap 0 num_new_used 0\n"
     ]
    }
   ],
   "source": [
    "for idx in range(10):\n",
    "    soprompt_output = soprompt.generate(eval_data[idx], mode='closedbook_postcite_repred', \n",
    "                                        return_dict=True, external=external)\n",
    "    print(idx, 'num_postcite_overlap', soprompt_output['num_postcite_overlap'],\n",
    "         'num_new_used', soprompt_output['num_new_used'])"
   ]
  },
  {
   "cell_type": "code",
   "execution_count": 8,
   "id": "aa713947-23b6-4c36-b68f-07acff2b1b24",
   "metadata": {
    "tags": []
   },
   "outputs": [
    {
     "data": {
      "application/vnd.jupyter.widget-view+json": {
       "model_id": "48a28b2f1b29485693dcdb1b8d226444",
       "version_major": 2,
       "version_minor": 0
      },
      "text/plain": [
       "Batches:   0%|          | 0/4 [00:00<?, ?it/s]"
      ]
     },
     "metadata": {},
     "output_type": "display_data"
    },
    {
     "data": {
      "application/vnd.jupyter.widget-view+json": {
       "model_id": "c2534acd99514a30a8be5295c77e1cf6",
       "version_major": 2,
       "version_minor": 0
      },
      "text/plain": [
       "Batches:   0%|          | 0/1 [00:00<?, ?it/s]"
      ]
     },
     "metadata": {},
     "output_type": "display_data"
    },
    {
     "data": {
      "application/vnd.jupyter.widget-view+json": {
       "model_id": "714c28f3a0af478e9cf4707f3a473b9b",
       "version_major": 2,
       "version_minor": 0
      },
      "text/plain": [
       "Batches:   0%|          | 0/1 [00:00<?, ?it/s]"
      ]
     },
     "metadata": {},
     "output_type": "display_data"
    },
    {
     "name": "stderr",
     "output_type": "stream",
     "text": [
      "2024-03-05 22:31:34,680 - INFO - Loading AutoAIS model...\n"
     ]
    },
    {
     "data": {
      "application/vnd.jupyter.widget-view+json": {
       "model_id": "b6322cdd732746819934a6e10f4405f4",
       "version_major": 2,
       "version_minor": 0
      },
      "text/plain": [
       "Loading checkpoint shards:   0%|          | 0/5 [00:00<?, ?it/s]"
      ]
     },
     "metadata": {},
     "output_type": "display_data"
    },
    {
     "name": "stderr",
     "output_type": "stream",
     "text": [
      "You are using the default legacy behaviour of the <class 'transformers.models.t5.tokenization_t5.T5Tokenizer'>. This is expected, and simply means that the `legacy` (previous) behavior will be used so nothing changes for you. If you want to use the new behaviour, set `legacy=False`. This should only be set if you understand what it means, and thouroughly read the reason why this was added as explained in https://github.com/huggingface/transformers/pull/24565\n",
      "2024-03-05 22:32:05,001 - INFO - Running AutoAIS...\n",
      "2024-03-05 22:32:05,121 - INFO - Running AutoAIS...\n",
      "Token indices sequence length is longer than the specified maximum sequence length for this model (1818 > 1024). Running this sequence through the model will result in indexing errors\n"
     ]
    },
    {
     "name": "stdout",
     "output_type": "stream",
     "text": [
      "===== MODE: closedbook_postcite_repred =====\n",
      "-----groupgen_prompt-----\n",
      "Instruction: Find groups of sentences from the documents that are useful for answering the given question. Each group should contain sentences from at least one and at most three documents, and should be standalone and can be understood out of context. Always copy the whole sentence, without modification, and add the document id it comes from, using [1][2][3]. If multiple sentences from one or more documents are stating the same fact, only use a minimum sufficient subset of sentences to form the group.\n",
      "\n",
      "Question: When did the us break away from england?\n",
      "\n",
      "Document [1](Title: United States withdrawal from Saudi Arabia): United States withdrawal from Saudi Arabia Beginning during Operation Desert Shield in August 1990, while preparing for the Gulf War, the United States sent a large troop contingent to Saudi Arabia. After the war, remnant troops, primarily U.S. Air Force personnel, augmented by a smaller number of coordinating and training personnel from the U.S. Navy, U.S. Army and U.S. Marine Corps remained in Saudi Arabia under the aegis of Joint Task Force Southwest Asia (JTF-SWA), as part of Operation Southern Watch (OSW). The United Kingdom and France also maintained a small contingent of Royal Air Force and French Air Force\n",
      "Document [2](Title: Decolonization of the Americas): and France has fully \"integrated\" most of its former colonies as fully constituent \"departments\" of France. The United States of America declared independence from Great Britain on July 2, 1776 (although the event is now commemorated on July 4, the date when the Declaration of Independence was officially adopted by Congress), in so doing becoming the first independent, foreign-recognized nation in the Americas and the first European colonial entity to break from its mother country. Britain formally acknowledged American independence in 1783 after its defeat in the American Revolutionary War. Although initially occupying only the land east of the Mississippi\n",
      "Document [3](Title: American Revolution): second British army at Yorktown in the fall of 1781, effectively ending the war. The Treaty of Paris was signed September 3, 1783, formally ending the conflict and confirming the new nation's complete separation from the British Empire. The United States took possession of nearly all the territory east of the Mississippi River and south of the Great Lakes, with the British retaining control of Canada and Spain taking Florida. Among the significant results of the revolution was the creation of the United States Constitution, establishing a relatively strong federal national government that included an executive, a national judiciary, and\n",
      "\n",
      "Groups:\n",
      "Group (1): The United States of America declared independence from Great Britain on July 2, 1776 (although the event is now commemorated on July 4, the date when the Declaration of Independence was officially adopted by Congress), in so doing becoming the first independent, foreign-recognized nation in the Americas and the first European colonial entity to break from its mother country. [2]\n",
      "Group (2): The Treaty of Paris was signed September 3, 1783, formally ending the conflict and confirming the new nation's complete separation from the British Empire. [3]\n",
      "\n",
      "\n",
      "\n",
      "Instruction: Find groups of sentences from the documents that are useful for answering the given question. Each group should contain sentences from at least one and at most three documents, and should be standalone and can be understood out of context. Always copy the whole sentence, without modification, and add the document id it comes from, using [1][2][3]. If multiple sentences from one or more documents are stating the same fact, only use a minimum sufficient subset of sentences to form the group.\n",
      "\n",
      "Question: Who played galen in planet of the apes?\n",
      "\n",
      "Document [1](Title: Planet of the Apes): installment. Jacobs died on June 27, 1973, bringing an end to the APJAC Productions era of the \"Planet of the Apes\" franchise. Former Fox executive Stan Hough took over as producer for the television project, titled \"Planet of the Apes\". CBS picked up the series for its 1974 autumn lineup. Ron Harper and James Naughton played Alan Virdon and Peter Burke, two 20th-century American astronauts who pass through a time warp to a future where apes subjugate humans (unlike the original film, the humans can speak). Roddy McDowall returned to the franchise as Galen, a chimpanzee who joins the astronauts.\n",
      "Document [2](Title: Planet of the Apes (1968 film)): chimpanzees: animal psychologist Zira (Kim Hunter) and surgeon Galen (Wright King). While unable to speak as his throat wound is healing, called \"Bright Eyes\" by Zira and placed with one of the captive primitive humans he later names \"Nova\", Taylor observes the enhanced society of talking apes and in a strict caste system: the gorillas being the military police, hunters and workers; the orangutans overseeing the affairs of government, science, and religion; and intellectual chimpanzees being mostly scientists. While their society is a theocracy similar to the beginnings of the human Industrial Era, the apes consider the primitive humans as\n",
      "Document [3](Title: Planet of the Apes (1968 film)): Planet of the Apes (1968 film) Planet of the Apes is a 1968 American science fiction film directed by Franklin J. Schaffner. It stars Charlton Heston, Roddy McDowall, Kim Hunter, Maurice Evans, James Whitmore, James Daly and Linda Harrison. The screenplay by Michael Wilson and Rod Serling was loosely based on the 1963 French novel \"La Planète des Singes\" by Pierre Boulle. Jerry Goldsmith composed the groundbreaking avant-garde score. It was the first in a series of five films made between 1968 and 1973, all produced by Arthur P. Jacobs and released by 20th Century Fox. The film tells the\n",
      "\n",
      "Groups:\n",
      "Group (1): chimpanzees: animal psychologist Zira (Kim Hunter) and surgeon Galen (Wright King). [2]\n",
      "Group (2): Former Fox executive Stan Hough took over as producer for the television project, titled \"Planet of the Apes\". CBS picked up the series for its 1974 autumn lineup. Roddy McDowall returned to the franchise as Galen, a chimpanzee who joins the astronauts. [1]\n",
      "\n",
      "\n",
      "\n",
      "Instruction: Find groups of sentences from the documents that are useful for answering the given question. Each group should contain sentences from at least one and at most three documents, and should be standalone and can be understood out of context. Always copy the whole sentence, without modification, and add the document id it comes from, using [1][2][3]. If multiple sentences from one or more documents are stating the same fact, only use a minimum sufficient subset of sentences to form the group.\n",
      "\n",
      "Question: Who is the original artist of sound of silence?\n",
      "\n",
      "Document [1](Title: The Sound of Silence): The Sound of Silence \"The Sound of Silence\", originally \"The Sounds of Silence\", is a song by the American music duo Simon & Garfunkel. The song was written by Paul Simon over a period of several months in 1963 and 1964. A studio audition led to the duo signing a record deal with Columbia Records, and the song was recorded in March 1964 at Columbia Studios in New York City for inclusion on their debut album, \"Wednesday Morning, 3 A.M.\". Released in October 1964, the album was a commercial failure and led to the duo breaking apart, with Paul Simon\n",
      "Document [2](Title: Sounds of Silence): Sounds of Silence Sounds of Silence is the second studio album by Simon & Garfunkel, released on January 17, 1966. The album's title is a slight modification of the title of the duo's first major hit, \"The Sound of Silence\", which originally was released as \"The Sounds of Silence\". The song had earlier been released in an acoustic version on the album \"Wednesday Morning, 3 A.M.\", and later on the soundtrack to the movie \"The Graduate\". Without the knowledge of Paul Simon or Art Garfunkel, electric guitars, bass and drums were overdubbed by Columbia Records staff producer Tom Wilson on\n",
      "Document [3](Title: The Sound of Silence): downloadable content for the video game, \"Rock Band 4\". The Disturbed version was used in the episode \"Ian Garvey\" of \"The Blacklist\" in November 2017. Notes Bibliography The Sound of Silence \"The Sound of Silence\", originally \"The Sounds of Silence\", is a song by the American music duo Simon & Garfunkel. The song was written by Paul Simon over a period of several months in 1963 and 1964. A studio audition led to the duo signing a record deal with Columbia Records, and the song was recorded in March 1964 at Columbia Studios in New York City for inclusion on\n",
      "\n",
      "Groups:\n",
      "-----grouppred_prompt-----\n",
      "Instruction: Write an accurate, engaging, and concise answer for the given question using only the provided groups of sentences extracted from search results and cite the original search results properly. Use an unbiased and journalistic tone. Always cite for any factual claim. When citing several search results, use [1][2][3] (1), where the last number indicates which group it comes from. Cite at least one document and at most three documents in each sentence. If multiple documents support the sentence, only cite a minimum sufficient subset of the documents. The citation numbers should already be provided after each sentence or sentences in the groups.\n",
      "\n",
      "Question: When did the us break away from england?\n",
      "\n",
      "Groups:\n",
      "Group (1): The United States of America declared independence from Great Britain on July 2, 1776 (although the event is now commemorated on July 4, the date when the Declaration of Independence was officially adopted by Congress), in so doing becoming the first independent, foreign-recognized nation in the Americas and the first European colonial entity to break from its mother country. [2]\n",
      "Group (2): The Treaty of Paris was signed September 3, 1783, formally ending the conflict and confirming the new nation's complete separation from the British Empire. [3]\n",
      "\n",
      "Answer:The United States took the first step towards gaining independence from Great Britain when it declared independence from Great Britain on July 2, 1776 (although the event is now commemorated on July 4, 1776, the date when the Declaration of Independence was officially adopted by Congress) [2] (1). The Treaty of Paris was later signed on September 3, 1783, formally separating the United States from the British Empire [3] (2).\n",
      "\n",
      "\n",
      "Instruction: Write an accurate, engaging, and concise answer for the given question using only the provided groups of sentences extracted from search results and cite the original search results properly. Use an unbiased and journalistic tone. Always cite for any factual claim. When citing several search results, use [1][2][3] (1), where the last number indicates which group it comes from. Cite at least one document and at most three documents in each sentence. If multiple documents support the sentence, only cite a minimum sufficient subset of the documents. The citation numbers should already be provided after each sentence or sentences in the groups.\n",
      "\n",
      "Question: Who played galen in planet of the apes?\n",
      "\n",
      "Groups:\n",
      "Group (1): chimpanzees: animal psychologist Zira (Kim Hunter) and surgeon Galen (Wright King). [2]\n",
      "Group (2): Former Fox executive Stan Hough took over as producer for the television project, titled \"Planet of the Apes\". CBS picked up the series for its 1974 autumn lineup. Roddy McDowall returned to the franchise as Galen, a chimpanzee who joins the astronauts. [1]\n",
      "\n",
      "Answer:In the 1968 film Planet of the Apes, Galen was played by Wright King [2] (1). And in the tv series Planet of the Apes, Galen was played by Roddy McDowall [1] (2).\n",
      "\n",
      "\n",
      "Instruction: Write an accurate, engaging, and concise answer for the given question using only the provided groups of sentences extracted from search results and cite the original search results properly. Use an unbiased and journalistic tone. Always cite for any factual claim. When citing several search results, use [1][2][3] (1), where the last number indicates which group it comes from. Cite at least one document and at most three documents in each sentence. If multiple documents support the sentence, only cite a minimum sufficient subset of the documents. The citation numbers should already be provided after each sentence or sentences in the groups.\n",
      "\n",
      "Question: Who is the original artist of sound of silence?\n",
      "\n",
      "Groups:\n",
      "Group (1):  \"The Sound of Silence\", originally \"The Sounds of Silence\", is a song by the American music duo Simon & Garfunkel. The song was written by Paul Simon over a period of several months in 1963 and 1964. [1][3]\n",
      "Group (2):  The song had earlier been released in an acoustic version on the album \"Wednesday Morning, 3 A.M.\", and later on the soundtrack to the movie \"The Graduate\". [2]\n",
      "\n",
      "Answer:\n",
      "-----groups-----\n",
      "[' \"The Sound of Silence\", originally \"The Sounds of Silence\", is a song by the American music duo Simon & Garfunkel. The song was written by Paul Simon over a period of several months in 1963 and 1964. [1][3]', ' The song had earlier been released in an acoustic version on the album \"Wednesday Morning, 3 A.M.\", and later on the soundtrack to the movie \"The Graduate\". [2]']\n",
      "-----groups_str-----\n",
      "Group (1): \"The Sound of Silence\", originally \"The Sounds of Silence\", is a song by the American music duo Simon & Garfunkel. The song was written by Paul Simon over a period of several months in 1963 and 1964. [1][3]\n",
      "Group (2): The song had earlier been released in an acoustic version on the album \"Wednesday Morning, 3 A.M.\", and later on the soundtrack to the movie \"The Graduate\". [2]\n",
      "-----question-----\n",
      "Who is the original artist of sound of silence?\n",
      "-----answer-----\n",
      "There are several songs with the title \"Sound of Silence\". Sounds of Silence is the second studio album by Simon & Garfunkel, released on January 17, 1966. The album's title is a slight modification of the title of the duo's first major hit, \"The Sound of Silence\", which was recorded in March 1964 and originally was released as \"The Sounds of Silence\". Another \"Sound of Silence\" is a song performed by Australian recording artist Dami Im, and is best known as Australia's entry at the Eurovision Song Contest 2016.\n",
      "-----generation-----\n",
      "\"The Sound of Silence\", originally \"The Sounds of Silence\", was written by Paul Simon [1][3] (1). The song was performed by the American music duo Simon & Garfunkel and was released in an acoustic version on the album \"Wednesday Morning, 3 A.M.\" [2] (2).\n",
      "-----postcite_best_docs-----\n",
      "The Sound of Silence \"The Sound of Silence\", originally \"The Sounds of Silence\", is a song by the American music duo Simon & Garfunkel. The song was written by Paul Simon over a period of several months in 1963 and 1964. A studio audition led to the duo signing a record deal with Columbia Records, and the song was recorded in March 1964 at Columbia Studios in New York City for inclusion on their debut album, \"Wednesday Morning, 3 A.M.\". Released in October 1964, the album was a commercial failure and led to the duo breaking apart, with Paul Simon\n",
      "\n",
      "Invasion. This resulted in Paul Simon moving to England and Art Garfunkel continuing his studies at Columbia University in New York City. Following the success of \"The Sound of Silence,\" the album peaked at #30 on the \"Billboard\" album chart in 1966. Wednesday Morning, 3 A.M. Wednesday Morning, 3 A.M. is the debut studio album by American folk rock duo Simon & Garfunkel. Following their early gig as \"Tom and Jerry\", Columbia Records signed the two in late 1963. It was produced by Tom Wilson and engineered by Roy Halee. The cover and the label include the subtitle \"exciting new\n",
      "-----original_docs-----\n",
      "The Sound of Silence \"The Sound of Silence\", originally \"The Sounds of Silence\", is a song by the American music duo Simon & Garfunkel. The song was written by Paul Simon over a period of several months in 1963 and 1964. A studio audition led to the duo signing a record deal with Columbia Records, and the song was recorded in March 1964 at Columbia Studios in New York City for inclusion on their debut album, \"Wednesday Morning, 3 A.M.\". Released in October 1964, the album was a commercial failure and led to the duo breaking apart, with Paul Simon\n",
      "\n",
      "Sounds of Silence Sounds of Silence is the second studio album by Simon & Garfunkel, released on January 17, 1966. The album's title is a slight modification of the title of the duo's first major hit, \"The Sound of Silence\", which originally was released as \"The Sounds of Silence\". The song had earlier been released in an acoustic version on the album \"Wednesday Morning, 3 A.M.\", and later on the soundtrack to the movie \"The Graduate\". Without the knowledge of Paul Simon or Art Garfunkel, electric guitars, bass and drums were overdubbed by Columbia Records staff producer Tom Wilson on\n",
      "\n",
      "downloadable content for the video game, \"Rock Band 4\". The Disturbed version was used in the episode \"Ian Garvey\" of \"The Blacklist\" in November 2017. Notes Bibliography The Sound of Silence \"The Sound of Silence\", originally \"The Sounds of Silence\", is a song by the American music duo Simon & Garfunkel. The song was written by Paul Simon over a period of several months in 1963 and 1964. A studio audition led to the duo signing a record deal with Columbia Records, and the song was recorded in March 1964 at Columbia Studios in New York City for inclusion on\n",
      "-----entail-----\n",
      "[1, 0]\n",
      "-----entail_prec-----\n",
      "[1.0, 0.0]\n",
      "-----num_postcite_overlap-----\n",
      "1\n",
      "-----num_new_used-----\n",
      "1\n"
     ]
    }
   ],
   "source": [
    "idx = 1\n",
    "output = show_example_ggp(idx, mode='closedbook_postcite_repred')\n",
    "# output.keys()"
   ]
  },
  {
   "cell_type": "code",
   "execution_count": null,
   "id": "8adb4684-7db6-4295-b98e-472d9af27875",
   "metadata": {},
   "outputs": [],
   "source": []
  },
  {
   "cell_type": "code",
   "execution_count": 11,
   "id": "366ed1d4-f208-43b6-9ff3-164b5bf21e47",
   "metadata": {
    "tags": []
   },
   "outputs": [
    {
     "data": {
      "application/vnd.jupyter.widget-view+json": {
       "model_id": "682969e2b61241019e7a4da3d0a0fb79",
       "version_major": 2,
       "version_minor": 0
      },
      "text/plain": [
       "Batches:   0%|          | 0/4 [00:00<?, ?it/s]"
      ]
     },
     "metadata": {},
     "output_type": "display_data"
    },
    {
     "data": {
      "application/vnd.jupyter.widget-view+json": {
       "model_id": "29a44b933fc949b9bfa6d9de9b5e7aba",
       "version_major": 2,
       "version_minor": 0
      },
      "text/plain": [
       "Batches:   0%|          | 0/1 [00:00<?, ?it/s]"
      ]
     },
     "metadata": {},
     "output_type": "display_data"
    },
    {
     "data": {
      "application/vnd.jupyter.widget-view+json": {
       "model_id": "f82d78849250424a921a7b0b8bfe4c49",
       "version_major": 2,
       "version_minor": 0
      },
      "text/plain": [
       "Batches:   0%|          | 0/1 [00:00<?, ?it/s]"
      ]
     },
     "metadata": {},
     "output_type": "display_data"
    },
    {
     "name": "stderr",
     "output_type": "stream",
     "text": [
      "2024-03-05 22:15:37,834 - INFO - Running AutoAIS...\n",
      "2024-03-05 22:15:37,898 - INFO - Running AutoAIS...\n"
     ]
    },
    {
     "name": "stdout",
     "output_type": "stream",
     "text": [
      "===== MODE: closedbook_postcite_repred =====\n",
      "-----groupgen_prompt-----\n",
      "Instruction: Find groups of sentences from the documents that are useful for answering the given question. Each group should contain sentences from at least one and at most three documents, and should be standalone and can be understood out of context. Always copy the whole sentence, without modification, and add the document id it comes from, using [1][2][3]. If multiple sentences from one or more documents are stating the same fact, only use a minimum sufficient subset of sentences to form the group.\n",
      "\n",
      "Question: When did the us break away from england?\n",
      "\n",
      "Document [1](Title: United States withdrawal from Saudi Arabia): United States withdrawal from Saudi Arabia Beginning during Operation Desert Shield in August 1990, while preparing for the Gulf War, the United States sent a large troop contingent to Saudi Arabia. After the war, remnant troops, primarily U.S. Air Force personnel, augmented by a smaller number of coordinating and training personnel from the U.S. Navy, U.S. Army and U.S. Marine Corps remained in Saudi Arabia under the aegis of Joint Task Force Southwest Asia (JTF-SWA), as part of Operation Southern Watch (OSW). The United Kingdom and France also maintained a small contingent of Royal Air Force and French Air Force\n",
      "Document [2](Title: Decolonization of the Americas): and France has fully \"integrated\" most of its former colonies as fully constituent \"departments\" of France. The United States of America declared independence from Great Britain on July 2, 1776 (although the event is now commemorated on July 4, the date when the Declaration of Independence was officially adopted by Congress), in so doing becoming the first independent, foreign-recognized nation in the Americas and the first European colonial entity to break from its mother country. Britain formally acknowledged American independence in 1783 after its defeat in the American Revolutionary War. Although initially occupying only the land east of the Mississippi\n",
      "Document [3](Title: American Revolution): second British army at Yorktown in the fall of 1781, effectively ending the war. The Treaty of Paris was signed September 3, 1783, formally ending the conflict and confirming the new nation's complete separation from the British Empire. The United States took possession of nearly all the territory east of the Mississippi River and south of the Great Lakes, with the British retaining control of Canada and Spain taking Florida. Among the significant results of the revolution was the creation of the United States Constitution, establishing a relatively strong federal national government that included an executive, a national judiciary, and\n",
      "\n",
      "Groups:\n",
      "Group (1): The United States of America declared independence from Great Britain on July 2, 1776 (although the event is now commemorated on July 4, the date when the Declaration of Independence was officially adopted by Congress), in so doing becoming the first independent, foreign-recognized nation in the Americas and the first European colonial entity to break from its mother country. [2]\n",
      "Group (2): The Treaty of Paris was signed September 3, 1783, formally ending the conflict and confirming the new nation's complete separation from the British Empire. [3]\n",
      "\n",
      "\n",
      "\n",
      "Instruction: Find groups of sentences from the documents that are useful for answering the given question. Each group should contain sentences from at least one and at most three documents, and should be standalone and can be understood out of context. Always copy the whole sentence, without modification, and add the document id it comes from, using [1][2][3]. If multiple sentences from one or more documents are stating the same fact, only use a minimum sufficient subset of sentences to form the group.\n",
      "\n",
      "Question: Who played galen in planet of the apes?\n",
      "\n",
      "Document [1](Title: Planet of the Apes): installment. Jacobs died on June 27, 1973, bringing an end to the APJAC Productions era of the \"Planet of the Apes\" franchise. Former Fox executive Stan Hough took over as producer for the television project, titled \"Planet of the Apes\". CBS picked up the series for its 1974 autumn lineup. Ron Harper and James Naughton played Alan Virdon and Peter Burke, two 20th-century American astronauts who pass through a time warp to a future where apes subjugate humans (unlike the original film, the humans can speak). Roddy McDowall returned to the franchise as Galen, a chimpanzee who joins the astronauts.\n",
      "Document [2](Title: Planet of the Apes (1968 film)): chimpanzees: animal psychologist Zira (Kim Hunter) and surgeon Galen (Wright King). While unable to speak as his throat wound is healing, called \"Bright Eyes\" by Zira and placed with one of the captive primitive humans he later names \"Nova\", Taylor observes the enhanced society of talking apes and in a strict caste system: the gorillas being the military police, hunters and workers; the orangutans overseeing the affairs of government, science, and religion; and intellectual chimpanzees being mostly scientists. While their society is a theocracy similar to the beginnings of the human Industrial Era, the apes consider the primitive humans as\n",
      "Document [3](Title: Planet of the Apes (1968 film)): Planet of the Apes (1968 film) Planet of the Apes is a 1968 American science fiction film directed by Franklin J. Schaffner. It stars Charlton Heston, Roddy McDowall, Kim Hunter, Maurice Evans, James Whitmore, James Daly and Linda Harrison. The screenplay by Michael Wilson and Rod Serling was loosely based on the 1963 French novel \"La Planète des Singes\" by Pierre Boulle. Jerry Goldsmith composed the groundbreaking avant-garde score. It was the first in a series of five films made between 1968 and 1973, all produced by Arthur P. Jacobs and released by 20th Century Fox. The film tells the\n",
      "\n",
      "Groups:\n",
      "Group (1): chimpanzees: animal psychologist Zira (Kim Hunter) and surgeon Galen (Wright King). [2]\n",
      "Group (2): Former Fox executive Stan Hough took over as producer for the television project, titled \"Planet of the Apes\". CBS picked up the series for its 1974 autumn lineup. Roddy McDowall returned to the franchise as Galen, a chimpanzee who joins the astronauts. [1]\n",
      "\n",
      "\n",
      "\n",
      "Instruction: Find groups of sentences from the documents that are useful for answering the given question. Each group should contain sentences from at least one and at most three documents, and should be standalone and can be understood out of context. Always copy the whole sentence, without modification, and add the document id it comes from, using [1][2][3]. If multiple sentences from one or more documents are stating the same fact, only use a minimum sufficient subset of sentences to form the group.\n",
      "\n",
      "Question: Who is the original artist of sound of silence?\n",
      "\n",
      "Document [1](Title: The Sound of Silence): The Sound of Silence \"The Sound of Silence\", originally \"The Sounds of Silence\", is a song by the American music duo Simon & Garfunkel. The song was written by Paul Simon over a period of several months in 1963 and 1964. A studio audition led to the duo signing a record deal with Columbia Records, and the song was recorded in March 1964 at Columbia Studios in New York City for inclusion on their debut album, \"Wednesday Morning, 3 A.M.\". Released in October 1964, the album was a commercial failure and led to the duo breaking apart, with Paul Simon\n",
      "Document [2](Title: Sounds of Silence): Sounds of Silence Sounds of Silence is the second studio album by Simon & Garfunkel, released on January 17, 1966. The album's title is a slight modification of the title of the duo's first major hit, \"The Sound of Silence\", which originally was released as \"The Sounds of Silence\". The song had earlier been released in an acoustic version on the album \"Wednesday Morning, 3 A.M.\", and later on the soundtrack to the movie \"The Graduate\". Without the knowledge of Paul Simon or Art Garfunkel, electric guitars, bass and drums were overdubbed by Columbia Records staff producer Tom Wilson on\n",
      "Document [3](Title: The Sound of Silence): downloadable content for the video game, \"Rock Band 4\". The Disturbed version was used in the episode \"Ian Garvey\" of \"The Blacklist\" in November 2017. Notes Bibliography The Sound of Silence \"The Sound of Silence\", originally \"The Sounds of Silence\", is a song by the American music duo Simon & Garfunkel. The song was written by Paul Simon over a period of several months in 1963 and 1964. A studio audition led to the duo signing a record deal with Columbia Records, and the song was recorded in March 1964 at Columbia Studios in New York City for inclusion on\n",
      "\n",
      "Groups:\n",
      "-----grouppred_prompt-----\n",
      "Instruction: Write an accurate, engaging, and concise answer for the given question using only the provided groups of sentences extracted from search results and cite the original search results properly. Use an unbiased and journalistic tone. Always cite for any factual claim. When citing several search results, use [1][2][3] (1), where the last number indicates which group it comes from. Cite at least one document and at most three documents in each sentence. If multiple documents support the sentence, only cite a minimum sufficient subset of the documents. The citation numbers should already be provided after each sentence or sentences in the groups.\n",
      "\n",
      "Question: When did the us break away from england?\n",
      "\n",
      "Groups:\n",
      "Group (1): The United States of America declared independence from Great Britain on July 2, 1776 (although the event is now commemorated on July 4, the date when the Declaration of Independence was officially adopted by Congress), in so doing becoming the first independent, foreign-recognized nation in the Americas and the first European colonial entity to break from its mother country. [2]\n",
      "Group (2): The Treaty of Paris was signed September 3, 1783, formally ending the conflict and confirming the new nation's complete separation from the British Empire. [3]\n",
      "\n",
      "Answer:The United States took the first step towards gaining independence from Great Britain when it declared independence from Great Britain on July 2, 1776 (although the event is now commemorated on July 4, 1776, the date when the Declaration of Independence was officially adopted by Congress) [2] (1). The Treaty of Paris was later signed on September 3, 1783, formally separating the United States from the British Empire [3] (2).\n",
      "\n",
      "\n",
      "Instruction: Write an accurate, engaging, and concise answer for the given question using only the provided groups of sentences extracted from search results and cite the original search results properly. Use an unbiased and journalistic tone. Always cite for any factual claim. When citing several search results, use [1][2][3] (1), where the last number indicates which group it comes from. Cite at least one document and at most three documents in each sentence. If multiple documents support the sentence, only cite a minimum sufficient subset of the documents. The citation numbers should already be provided after each sentence or sentences in the groups.\n",
      "\n",
      "Question: Who played galen in planet of the apes?\n",
      "\n",
      "Groups:\n",
      "Group (1): chimpanzees: animal psychologist Zira (Kim Hunter) and surgeon Galen (Wright King). [2]\n",
      "Group (2): Former Fox executive Stan Hough took over as producer for the television project, titled \"Planet of the Apes\". CBS picked up the series for its 1974 autumn lineup. Roddy McDowall returned to the franchise as Galen, a chimpanzee who joins the astronauts. [1]\n",
      "\n",
      "Answer:In the 1968 film Planet of the Apes, Galen was played by Wright King [2] (1). And in the tv series Planet of the Apes, Galen was played by Roddy McDowall [1] (2).\n",
      "\n",
      "\n",
      "Instruction: Write an accurate, engaging, and concise answer for the given question using only the provided groups of sentences extracted from search results and cite the original search results properly. Use an unbiased and journalistic tone. Always cite for any factual claim. When citing several search results, use [1][2][3] (1), where the last number indicates which group it comes from. Cite at least one document and at most three documents in each sentence. If multiple documents support the sentence, only cite a minimum sufficient subset of the documents. The citation numbers should already be provided after each sentence or sentences in the groups.\n",
      "\n",
      "Question: Who is the original artist of sound of silence?\n",
      "\n",
      "Groups:\n",
      "Group (1):  \"The Sound of Silence\", originally \"The Sounds of Silence\", is a song by the American music duo Simon & Garfunkel. The song was written by Paul Simon over a period of several months in 1963 and 1964. [1][3]\n",
      "Group (2):  The song had earlier been released in an acoustic version on the album \"Wednesday Morning, 3 A.M.\", and later on the soundtrack to the movie \"The Graduate\". [2]\n",
      "\n",
      "Answer:\n",
      "-----groups-----\n",
      "[' \"The Sound of Silence\", originally \"The Sounds of Silence\", is a song by the American music duo Simon & Garfunkel. The song was written by Paul Simon over a period of several months in 1963 and 1964. [1][3]', ' The song had earlier been released in an acoustic version on the album \"Wednesday Morning, 3 A.M.\", and later on the soundtrack to the movie \"The Graduate\". [2]']\n",
      "-----groups_str-----\n",
      "Group (1): \"The Sound of Silence\", originally \"The Sounds of Silence\", is a song by the American music duo Simon & Garfunkel. The song was written by Paul Simon over a period of several months in 1963 and 1964. [1][3]\n",
      "Group (2): The song had earlier been released in an acoustic version on the album \"Wednesday Morning, 3 A.M.\", and later on the soundtrack to the movie \"The Graduate\". [2]\n",
      "-----question-----\n",
      "Who is the original artist of sound of silence?\n",
      "-----answer-----\n",
      "There are several songs with the title \"Sound of Silence\". Sounds of Silence is the second studio album by Simon & Garfunkel, released on January 17, 1966. The album's title is a slight modification of the title of the duo's first major hit, \"The Sound of Silence\", which was recorded in March 1964 and originally was released as \"The Sounds of Silence\". Another \"Sound of Silence\" is a song performed by Australian recording artist Dami Im, and is best known as Australia's entry at the Eurovision Song Contest 2016.\n",
      "-----generation-----\n",
      "\"The Sound of Silence\", originally \"The Sounds of Silence\", was written by Paul Simon [1][3] (1). The song was performed by the American music duo Simon & Garfunkel and was released in an acoustic version on the album \"Wednesday Morning, 3 A.M.\" [2] (2).\n",
      "-----postcite_best_docs-----\n"
     ]
    },
    {
     "ename": "NameError",
     "evalue": "name 'postcite_best_docs' is not defined",
     "output_type": "error",
     "traceback": [
      "\u001b[0;31m---------------------------------------------------------------------------\u001b[0m",
      "\u001b[0;31mNameError\u001b[0m                                 Traceback (most recent call last)",
      "\u001b[0;32m/tmp/ipykernel_2698/821460660.py\u001b[0m in \u001b[0;36m<module>\u001b[0;34m\u001b[0m\n\u001b[0;32m----> 1\u001b[0;31m \u001b[0mshow_example_all\u001b[0m\u001b[0;34m(\u001b[0m\u001b[0;36m1\u001b[0m\u001b[0;34m)\u001b[0m\u001b[0;34m\u001b[0m\u001b[0;34m\u001b[0m\u001b[0m\n\u001b[0m",
      "\u001b[0;32m/tmp/ipykernel_2698/1401947917.py\u001b[0m in \u001b[0;36mshow_example_all\u001b[0;34m(idx)\u001b[0m\n\u001b[1;32m     32\u001b[0m \u001b[0;34m\u001b[0m\u001b[0m\n\u001b[1;32m     33\u001b[0m \u001b[0;32mdef\u001b[0m \u001b[0mshow_example_all\u001b[0m\u001b[0;34m(\u001b[0m\u001b[0midx\u001b[0m\u001b[0;34m)\u001b[0m\u001b[0;34m:\u001b[0m\u001b[0;34m\u001b[0m\u001b[0;34m\u001b[0m\u001b[0m\n\u001b[0;32m---> 34\u001b[0;31m     \u001b[0mshow_example_ggp\u001b[0m\u001b[0;34m(\u001b[0m\u001b[0midx\u001b[0m\u001b[0;34m,\u001b[0m \u001b[0mmode\u001b[0m\u001b[0;34m=\u001b[0m\u001b[0;34m'closedbook_postcite_repred'\u001b[0m\u001b[0;34m)\u001b[0m\u001b[0;34m\u001b[0m\u001b[0;34m\u001b[0m\u001b[0m\n\u001b[0m\u001b[1;32m     35\u001b[0m     \u001b[0mshow_example_ggp\u001b[0m\u001b[0;34m(\u001b[0m\u001b[0midx\u001b[0m\u001b[0;34m,\u001b[0m \u001b[0mmode\u001b[0m\u001b[0;34m=\u001b[0m\u001b[0;34m'groupgen_pred'\u001b[0m\u001b[0;34m)\u001b[0m\u001b[0;34m\u001b[0m\u001b[0;34m\u001b[0m\u001b[0m\n\u001b[1;32m     36\u001b[0m     \u001b[0mshow_example_simple\u001b[0m\u001b[0;34m(\u001b[0m\u001b[0midx\u001b[0m\u001b[0;34m,\u001b[0m \u001b[0mmode\u001b[0m\u001b[0;34m=\u001b[0m\u001b[0;34m'vanilla'\u001b[0m\u001b[0;34m)\u001b[0m\u001b[0;34m\u001b[0m\u001b[0;34m\u001b[0m\u001b[0m\n",
      "\u001b[0;32m/tmp/ipykernel_2698/1401947917.py\u001b[0m in \u001b[0;36mshow_example_ggp\u001b[0;34m(idx, mode)\u001b[0m\n\u001b[1;32m     20\u001b[0m     \u001b[0;32mif\u001b[0m \u001b[0mmode\u001b[0m \u001b[0;34m==\u001b[0m \u001b[0;34m'closedbook_postcite_repred'\u001b[0m\u001b[0;34m:\u001b[0m\u001b[0;34m\u001b[0m\u001b[0;34m\u001b[0m\u001b[0m\n\u001b[1;32m     21\u001b[0m         \u001b[0mprint\u001b[0m\u001b[0;34m(\u001b[0m\u001b[0;34m'-----postcite_best_docs-----'\u001b[0m\u001b[0;34m)\u001b[0m\u001b[0;34m\u001b[0m\u001b[0;34m\u001b[0m\u001b[0m\n\u001b[0;32m---> 22\u001b[0;31m         \u001b[0mprint\u001b[0m\u001b[0;34m(\u001b[0m\u001b[0;34m'\\n\\n'\u001b[0m\u001b[0;34m.\u001b[0m\u001b[0mjoin\u001b[0m\u001b[0;34m(\u001b[0m\u001b[0;34m[\u001b[0m\u001b[0mdoc\u001b[0m\u001b[0;34m[\u001b[0m\u001b[0;34m'text'\u001b[0m\u001b[0;34m]\u001b[0m \u001b[0;32mfor\u001b[0m \u001b[0mdoc\u001b[0m \u001b[0;32min\u001b[0m \u001b[0mpostcite_best_docs\u001b[0m\u001b[0;34m]\u001b[0m\u001b[0;34m)\u001b[0m\u001b[0;34m)\u001b[0m\u001b[0;34m\u001b[0m\u001b[0;34m\u001b[0m\u001b[0m\n\u001b[0m\u001b[1;32m     23\u001b[0m     \u001b[0;32mreturn\u001b[0m \u001b[0msoprompt_output\u001b[0m\u001b[0;34m\u001b[0m\u001b[0;34m\u001b[0m\u001b[0m\n\u001b[1;32m     24\u001b[0m \u001b[0;34m\u001b[0m\u001b[0m\n",
      "\u001b[0;31mNameError\u001b[0m: name 'postcite_best_docs' is not defined"
     ]
    }
   ],
   "source": [
    "show_example_all(1)"
   ]
  },
  {
   "cell_type": "code",
   "execution_count": null,
   "id": "67248544-db02-4d8c-8646-7360fe533774",
   "metadata": {},
   "outputs": [],
   "source": []
  },
  {
   "cell_type": "code",
   "execution_count": null,
   "id": "5b3b5c0d-030b-4aad-95df-c942d2f3c99e",
   "metadata": {},
   "outputs": [],
   "source": []
  }
 ],
 "metadata": {
  "kernelspec": {
   "display_name": "Python 3 (ipykernel)",
   "language": "python",
   "name": "python3"
  },
  "language_info": {
   "codemirror_mode": {
    "name": "ipython",
    "version": 3
   },
   "file_extension": ".py",
   "mimetype": "text/x-python",
   "name": "python",
   "nbconvert_exporter": "python",
   "pygments_lexer": "ipython3",
   "version": "3.10.10"
  }
 },
 "nbformat": 4,
 "nbformat_minor": 5
}
